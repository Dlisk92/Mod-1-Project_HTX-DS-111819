{
 "cells": [
  {
   "cell_type": "code",
   "execution_count": 36,
   "metadata": {},
   "outputs": [],
   "source": [
    "import pandas as pd\n",
    "import numpy as np"
   ]
  },
  {
   "cell_type": "code",
   "execution_count": 37,
   "metadata": {},
   "outputs": [],
   "source": [
    "movies = pd.read_csv('clean_df_movies.csv', index_col=0)"
   ]
  },
  {
   "cell_type": "code",
   "execution_count": 38,
   "metadata": {},
   "outputs": [],
   "source": [
    "df = pd.DataFrame(movies, )"
   ]
  },
  {
   "cell_type": "code",
   "execution_count": 39,
   "metadata": {},
   "outputs": [],
   "source": [
    "df.drop(labels=['belongs_to_collection'], axis=1, inplace=True)"
   ]
  },
  {
   "cell_type": "code",
   "execution_count": 40,
   "metadata": {},
   "outputs": [
    {
     "data": {
      "text/html": [
       "<div>\n",
       "<style scoped>\n",
       "    .dataframe tbody tr th:only-of-type {\n",
       "        vertical-align: middle;\n",
       "    }\n",
       "\n",
       "    .dataframe tbody tr th {\n",
       "        vertical-align: top;\n",
       "    }\n",
       "\n",
       "    .dataframe thead th {\n",
       "        text-align: right;\n",
       "    }\n",
       "</style>\n",
       "<table border=\"1\" class=\"dataframe\">\n",
       "  <thead>\n",
       "    <tr style=\"text-align: right;\">\n",
       "      <th></th>\n",
       "      <th>budget</th>\n",
       "      <th>genres</th>\n",
       "      <th>original_title</th>\n",
       "      <th>popularity</th>\n",
       "      <th>production_companies</th>\n",
       "      <th>production_countries</th>\n",
       "      <th>release_date</th>\n",
       "      <th>revenue</th>\n",
       "      <th>runtime</th>\n",
       "      <th>title</th>\n",
       "      <th>vote_average</th>\n",
       "      <th>vote_count</th>\n",
       "    </tr>\n",
       "  </thead>\n",
       "  <tbody>\n",
       "    <tr>\n",
       "      <td>0</td>\n",
       "      <td>300000000.0</td>\n",
       "      <td>[{'id': 12, 'name': 'Adventure'}, {'id': 28, '...</td>\n",
       "      <td>Avengers: Infinity War</td>\n",
       "      <td>76.719</td>\n",
       "      <td>[{'id': 420, 'logo_path': '/hUzeosd33nzE5MCNsZ...</td>\n",
       "      <td>[{'iso_3166_1': 'US', 'name': 'United States o...</td>\n",
       "      <td>2018-04-25</td>\n",
       "      <td>2.046240e+09</td>\n",
       "      <td>149.0</td>\n",
       "      <td>Avengers: Infinity War</td>\n",
       "      <td>8.3</td>\n",
       "      <td>15929.0</td>\n",
       "    </tr>\n",
       "    <tr>\n",
       "      <td>1</td>\n",
       "      <td>200000000.0</td>\n",
       "      <td>[{'id': 28, 'name': 'Action'}, {'id': 12, 'nam...</td>\n",
       "      <td>Black Panther</td>\n",
       "      <td>36.027</td>\n",
       "      <td>[{'id': 420, 'logo_path': '/hUzeosd33nzE5MCNsZ...</td>\n",
       "      <td>[{'iso_3166_1': 'US', 'name': 'United States o...</td>\n",
       "      <td>2018-02-13</td>\n",
       "      <td>1.346739e+09</td>\n",
       "      <td>134.0</td>\n",
       "      <td>Black Panther</td>\n",
       "      <td>7.4</td>\n",
       "      <td>13710.0</td>\n",
       "    </tr>\n",
       "  </tbody>\n",
       "</table>\n",
       "</div>"
      ],
      "text/plain": [
       "        budget                                             genres  \\\n",
       "0  300000000.0  [{'id': 12, 'name': 'Adventure'}, {'id': 28, '...   \n",
       "1  200000000.0  [{'id': 28, 'name': 'Action'}, {'id': 12, 'nam...   \n",
       "\n",
       "           original_title  popularity  \\\n",
       "0  Avengers: Infinity War      76.719   \n",
       "1           Black Panther      36.027   \n",
       "\n",
       "                                production_companies  \\\n",
       "0  [{'id': 420, 'logo_path': '/hUzeosd33nzE5MCNsZ...   \n",
       "1  [{'id': 420, 'logo_path': '/hUzeosd33nzE5MCNsZ...   \n",
       "\n",
       "                                production_countries release_date  \\\n",
       "0  [{'iso_3166_1': 'US', 'name': 'United States o...   2018-04-25   \n",
       "1  [{'iso_3166_1': 'US', 'name': 'United States o...   2018-02-13   \n",
       "\n",
       "        revenue  runtime                   title  vote_average  vote_count  \n",
       "0  2.046240e+09    149.0  Avengers: Infinity War           8.3     15929.0  \n",
       "1  1.346739e+09    134.0           Black Panther           7.4     13710.0  "
      ]
     },
     "execution_count": 40,
     "metadata": {},
     "output_type": "execute_result"
    }
   ],
   "source": [
    "df.head(2)"
   ]
  },
  {
   "cell_type": "code",
   "execution_count": 41,
   "metadata": {},
   "outputs": [],
   "source": [
    "df.dropna(inplace=True)"
   ]
  },
  {
   "cell_type": "code",
   "execution_count": 42,
   "metadata": {},
   "outputs": [
    {
     "name": "stdout",
     "output_type": "stream",
     "text": [
      "<class 'pandas.core.frame.DataFrame'>\n",
      "Int64Index: 5438 entries, 0 to 5979\n",
      "Data columns (total 12 columns):\n",
      "budget                  5438 non-null float64\n",
      "genres                  5438 non-null object\n",
      "original_title          5438 non-null object\n",
      "popularity              5438 non-null float64\n",
      "production_companies    5438 non-null object\n",
      "production_countries    5438 non-null object\n",
      "release_date            5438 non-null object\n",
      "revenue                 5438 non-null float64\n",
      "runtime                 5438 non-null float64\n",
      "title                   5438 non-null object\n",
      "vote_average            5438 non-null float64\n",
      "vote_count              5438 non-null float64\n",
      "dtypes: float64(6), object(6)\n",
      "memory usage: 552.3+ KB\n"
     ]
    }
   ],
   "source": [
    "df.info()"
   ]
  },
  {
   "cell_type": "code",
   "execution_count": 43,
   "metadata": {},
   "outputs": [
    {
     "data": {
      "text/html": [
       "<div>\n",
       "<style scoped>\n",
       "    .dataframe tbody tr th:only-of-type {\n",
       "        vertical-align: middle;\n",
       "    }\n",
       "\n",
       "    .dataframe tbody tr th {\n",
       "        vertical-align: top;\n",
       "    }\n",
       "\n",
       "    .dataframe thead th {\n",
       "        text-align: right;\n",
       "    }\n",
       "</style>\n",
       "<table border=\"1\" class=\"dataframe\">\n",
       "  <thead>\n",
       "    <tr style=\"text-align: right;\">\n",
       "      <th></th>\n",
       "      <th>budget</th>\n",
       "      <th>popularity</th>\n",
       "      <th>revenue</th>\n",
       "      <th>runtime</th>\n",
       "      <th>vote_average</th>\n",
       "      <th>vote_count</th>\n",
       "    </tr>\n",
       "  </thead>\n",
       "  <tbody>\n",
       "    <tr>\n",
       "      <td>count</td>\n",
       "      <td>5.438000e+03</td>\n",
       "      <td>5438.000000</td>\n",
       "      <td>5.438000e+03</td>\n",
       "      <td>5438.000000</td>\n",
       "      <td>5438.000000</td>\n",
       "      <td>5438.000000</td>\n",
       "    </tr>\n",
       "    <tr>\n",
       "      <td>mean</td>\n",
       "      <td>1.440112e+06</td>\n",
       "      <td>2.300852</td>\n",
       "      <td>4.805578e+06</td>\n",
       "      <td>61.121552</td>\n",
       "      <td>3.641449</td>\n",
       "      <td>75.790732</td>\n",
       "    </tr>\n",
       "    <tr>\n",
       "      <td>std</td>\n",
       "      <td>1.217364e+07</td>\n",
       "      <td>3.902176</td>\n",
       "      <td>5.840035e+07</td>\n",
       "      <td>46.618675</td>\n",
       "      <td>3.526907</td>\n",
       "      <td>553.572835</td>\n",
       "    </tr>\n",
       "    <tr>\n",
       "      <td>min</td>\n",
       "      <td>0.000000e+00</td>\n",
       "      <td>0.000000</td>\n",
       "      <td>0.000000e+00</td>\n",
       "      <td>1.000000</td>\n",
       "      <td>0.000000</td>\n",
       "      <td>0.000000</td>\n",
       "    </tr>\n",
       "    <tr>\n",
       "      <td>25%</td>\n",
       "      <td>0.000000e+00</td>\n",
       "      <td>0.600000</td>\n",
       "      <td>0.000000e+00</td>\n",
       "      <td>14.000000</td>\n",
       "      <td>0.000000</td>\n",
       "      <td>0.000000</td>\n",
       "    </tr>\n",
       "    <tr>\n",
       "      <td>50%</td>\n",
       "      <td>0.000000e+00</td>\n",
       "      <td>0.936500</td>\n",
       "      <td>0.000000e+00</td>\n",
       "      <td>75.000000</td>\n",
       "      <td>4.300000</td>\n",
       "      <td>1.000000</td>\n",
       "    </tr>\n",
       "    <tr>\n",
       "      <td>75%</td>\n",
       "      <td>0.000000e+00</td>\n",
       "      <td>2.184000</td>\n",
       "      <td>0.000000e+00</td>\n",
       "      <td>91.000000</td>\n",
       "      <td>6.700000</td>\n",
       "      <td>4.000000</td>\n",
       "    </tr>\n",
       "    <tr>\n",
       "      <td>max</td>\n",
       "      <td>3.000000e+08</td>\n",
       "      <td>76.719000</td>\n",
       "      <td>2.046240e+09</td>\n",
       "      <td>1440.000000</td>\n",
       "      <td>10.000000</td>\n",
       "      <td>15929.000000</td>\n",
       "    </tr>\n",
       "  </tbody>\n",
       "</table>\n",
       "</div>"
      ],
      "text/plain": [
       "             budget   popularity       revenue      runtime  vote_average  \\\n",
       "count  5.438000e+03  5438.000000  5.438000e+03  5438.000000   5438.000000   \n",
       "mean   1.440112e+06     2.300852  4.805578e+06    61.121552      3.641449   \n",
       "std    1.217364e+07     3.902176  5.840035e+07    46.618675      3.526907   \n",
       "min    0.000000e+00     0.000000  0.000000e+00     1.000000      0.000000   \n",
       "25%    0.000000e+00     0.600000  0.000000e+00    14.000000      0.000000   \n",
       "50%    0.000000e+00     0.936500  0.000000e+00    75.000000      4.300000   \n",
       "75%    0.000000e+00     2.184000  0.000000e+00    91.000000      6.700000   \n",
       "max    3.000000e+08    76.719000  2.046240e+09  1440.000000     10.000000   \n",
       "\n",
       "         vote_count  \n",
       "count   5438.000000  \n",
       "mean      75.790732  \n",
       "std      553.572835  \n",
       "min        0.000000  \n",
       "25%        0.000000  \n",
       "50%        1.000000  \n",
       "75%        4.000000  \n",
       "max    15929.000000  "
      ]
     },
     "execution_count": 43,
     "metadata": {},
     "output_type": "execute_result"
    }
   ],
   "source": [
    "df.describe()"
   ]
  },
  {
   "cell_type": "code",
   "execution_count": 44,
   "metadata": {
    "scrolled": true
   },
   "outputs": [],
   "source": [
    "df_new = df[df.revenue !=0]"
   ]
  },
  {
   "cell_type": "code",
   "execution_count": 45,
   "metadata": {},
   "outputs": [],
   "source": [
    "df_new = df_new[df_new.budget !=0]"
   ]
  },
  {
   "cell_type": "code",
   "execution_count": 46,
   "metadata": {},
   "outputs": [],
   "source": [
    "df_new = df_new[df_new.budget > 10000]"
   ]
  },
  {
   "cell_type": "code",
   "execution_count": 47,
   "metadata": {},
   "outputs": [
    {
     "data": {
      "text/html": [
       "<div>\n",
       "<style scoped>\n",
       "    .dataframe tbody tr th:only-of-type {\n",
       "        vertical-align: middle;\n",
       "    }\n",
       "\n",
       "    .dataframe tbody tr th {\n",
       "        vertical-align: top;\n",
       "    }\n",
       "\n",
       "    .dataframe thead th {\n",
       "        text-align: right;\n",
       "    }\n",
       "</style>\n",
       "<table border=\"1\" class=\"dataframe\">\n",
       "  <thead>\n",
       "    <tr style=\"text-align: right;\">\n",
       "      <th></th>\n",
       "      <th>budget</th>\n",
       "      <th>genres</th>\n",
       "      <th>original_title</th>\n",
       "      <th>popularity</th>\n",
       "      <th>production_companies</th>\n",
       "      <th>production_countries</th>\n",
       "      <th>release_date</th>\n",
       "      <th>revenue</th>\n",
       "      <th>runtime</th>\n",
       "      <th>title</th>\n",
       "      <th>vote_average</th>\n",
       "      <th>vote_count</th>\n",
       "    </tr>\n",
       "  </thead>\n",
       "  <tbody>\n",
       "    <tr>\n",
       "      <td>99</td>\n",
       "      <td>12500000.0</td>\n",
       "      <td>[{'id': 27, 'name': 'Horror'}, {'id': 53, 'nam...</td>\n",
       "      <td>The Strangers: Prey at Night</td>\n",
       "      <td>14.108</td>\n",
       "      <td>[{'id': 63443, 'logo_path': '/iKm40tfw3Hxaz7mU...</td>\n",
       "      <td>[{'iso_3166_1': 'US', 'name': 'United States o...</td>\n",
       "      <td>2018-03-07</td>\n",
       "      <td>24586708.0</td>\n",
       "      <td>85.0</td>\n",
       "      <td>The Strangers: Prey at Night</td>\n",
       "      <td>5.4</td>\n",
       "      <td>734.0</td>\n",
       "    </tr>\n",
       "    <tr>\n",
       "      <td>101</td>\n",
       "      <td>5000000.0</td>\n",
       "      <td>[{'id': 36, 'name': 'History'}]</td>\n",
       "      <td>Paul, Apostle of Christ</td>\n",
       "      <td>10.938</td>\n",
       "      <td>[{'id': 81520, 'logo_path': None, 'name': 'Out...</td>\n",
       "      <td>[{'iso_3166_1': 'US', 'name': 'United States o...</td>\n",
       "      <td>2018-03-23</td>\n",
       "      <td>22525668.0</td>\n",
       "      <td>108.0</td>\n",
       "      <td>Paul, Apostle of Christ</td>\n",
       "      <td>7.0</td>\n",
       "      <td>104.0</td>\n",
       "    </tr>\n",
       "    <tr>\n",
       "      <td>103</td>\n",
       "      <td>14000000.0</td>\n",
       "      <td>[{'id': 53, 'name': 'Thriller'}, {'id': 28, 'n...</td>\n",
       "      <td>Proud Mary</td>\n",
       "      <td>7.463</td>\n",
       "      <td>[{'id': 3287, 'logo_path': '/bz6GbCQQXGNE56LTW...</td>\n",
       "      <td>[{'iso_3166_1': 'US', 'name': 'United States o...</td>\n",
       "      <td>2018-01-12</td>\n",
       "      <td>21753365.0</td>\n",
       "      <td>88.0</td>\n",
       "      <td>Proud Mary</td>\n",
       "      <td>5.4</td>\n",
       "      <td>274.0</td>\n",
       "    </tr>\n",
       "    <tr>\n",
       "      <td>104</td>\n",
       "      <td>80000.0</td>\n",
       "      <td>[{'id': 28, 'name': 'Action'}, {'id': 80, 'nam...</td>\n",
       "      <td>Unbound</td>\n",
       "      <td>0.600</td>\n",
       "      <td>[{'id': 107123, 'logo_path': None, 'name': 'Ra...</td>\n",
       "      <td>[{'iso_3166_1': 'US', 'name': 'United States o...</td>\n",
       "      <td>2018-06-15</td>\n",
       "      <td>21000000.0</td>\n",
       "      <td>97.0</td>\n",
       "      <td>Unbound</td>\n",
       "      <td>0.0</td>\n",
       "      <td>0.0</td>\n",
       "    </tr>\n",
       "    <tr>\n",
       "      <td>105</td>\n",
       "      <td>12000000.0</td>\n",
       "      <td>[{'id': 18, 'name': 'Drama'}, {'id': 10749, 'n...</td>\n",
       "      <td>If Beale Street Could Talk</td>\n",
       "      <td>13.579</td>\n",
       "      <td>[{'id': 13184, 'logo_path': '/pfUB1a62jSMIqp4X...</td>\n",
       "      <td>[{'iso_3166_1': 'US', 'name': 'United States o...</td>\n",
       "      <td>2018-12-14</td>\n",
       "      <td>20572691.0</td>\n",
       "      <td>120.0</td>\n",
       "      <td>If Beale Street Could Talk</td>\n",
       "      <td>7.1</td>\n",
       "      <td>527.0</td>\n",
       "    </tr>\n",
       "    <tr>\n",
       "      <td>106</td>\n",
       "      <td>16000000.0</td>\n",
       "      <td>[{'id': 28, 'name': 'Action'}, {'id': 80, 'nam...</td>\n",
       "      <td>SuperFly</td>\n",
       "      <td>10.344</td>\n",
       "      <td>[{'id': 5, 'logo_path': '/71BqEFAF4V3qjjMPCpLu...</td>\n",
       "      <td>[{'iso_3166_1': 'US', 'name': 'United States o...</td>\n",
       "      <td>2018-06-13</td>\n",
       "      <td>20545116.0</td>\n",
       "      <td>107.0</td>\n",
       "      <td>SuperFly</td>\n",
       "      <td>6.4</td>\n",
       "      <td>142.0</td>\n",
       "    </tr>\n",
       "    <tr>\n",
       "      <td>107</td>\n",
       "      <td>13500000.0</td>\n",
       "      <td>[{'id': 35, 'name': 'Comedy'}, {'id': 80, 'nam...</td>\n",
       "      <td>Super Troopers 2</td>\n",
       "      <td>13.055</td>\n",
       "      <td>[{'id': 2773, 'logo_path': '/ubyU2v6XcREGwyeie...</td>\n",
       "      <td>[{'iso_3166_1': 'US', 'name': 'United States o...</td>\n",
       "      <td>2018-04-19</td>\n",
       "      <td>18850674.0</td>\n",
       "      <td>100.0</td>\n",
       "      <td>Super Troopers 2</td>\n",
       "      <td>5.8</td>\n",
       "      <td>227.0</td>\n",
       "    </tr>\n",
       "    <tr>\n",
       "      <td>109</td>\n",
       "      <td>34000000.0</td>\n",
       "      <td>[{'id': 18, 'name': 'Drama'}, {'id': 53, 'name...</td>\n",
       "      <td>Chappaquiddick</td>\n",
       "      <td>9.593</td>\n",
       "      <td>[{'id': 85100, 'logo_path': None, 'name': 'Ape...</td>\n",
       "      <td>[{'iso_3166_1': 'SE', 'name': 'Sweden'}, {'iso...</td>\n",
       "      <td>2018-04-06</td>\n",
       "      <td>17904202.0</td>\n",
       "      <td>107.0</td>\n",
       "      <td>Chappaquiddick</td>\n",
       "      <td>6.0</td>\n",
       "      <td>136.0</td>\n",
       "    </tr>\n",
       "    <tr>\n",
       "      <td>110</td>\n",
       "      <td>43000000.0</td>\n",
       "      <td>[{'id': 28, 'name': 'Action'}, {'id': 80, 'nam...</td>\n",
       "      <td>The Girl in the Spider's Web</td>\n",
       "      <td>17.353</td>\n",
       "      <td>[{'id': 71170, 'logo_path': None, 'name': 'The...</td>\n",
       "      <td>[{'iso_3166_1': 'CA', 'name': 'Canada'}, {'iso...</td>\n",
       "      <td>2018-10-25</td>\n",
       "      <td>17894345.0</td>\n",
       "      <td>117.0</td>\n",
       "      <td>The Girl in the Spider's Web</td>\n",
       "      <td>6.0</td>\n",
       "      <td>670.0</td>\n",
       "    </tr>\n",
       "    <tr>\n",
       "      <td>111</td>\n",
       "      <td>19000000.0</td>\n",
       "      <td>[{'id': 35, 'name': 'Comedy'}]</td>\n",
       "      <td>Uncle Drew</td>\n",
       "      <td>8.467</td>\n",
       "      <td>[{'id': 1632, 'logo_path': '/cisLn1YAUuptXVBa0...</td>\n",
       "      <td>[{'iso_3166_1': 'US', 'name': 'United States o...</td>\n",
       "      <td>2018-06-27</td>\n",
       "      <td>17665000.0</td>\n",
       "      <td>103.0</td>\n",
       "      <td>Uncle Drew</td>\n",
       "      <td>6.5</td>\n",
       "      <td>249.0</td>\n",
       "    </tr>\n",
       "    <tr>\n",
       "      <td>112</td>\n",
       "      <td>24000000.0</td>\n",
       "      <td>[{'id': 18, 'name': 'Drama'}, {'id': 36, 'name...</td>\n",
       "      <td>Operation Finale</td>\n",
       "      <td>9.495</td>\n",
       "      <td>[{'id': 7625, 'logo_path': '/kzq4ibnNeZrp00zpB...</td>\n",
       "      <td>[{'iso_3166_1': 'US', 'name': 'United States o...</td>\n",
       "      <td>2018-08-29</td>\n",
       "      <td>17506878.0</td>\n",
       "      <td>124.0</td>\n",
       "      <td>Operation Finale</td>\n",
       "      <td>6.7</td>\n",
       "      <td>338.0</td>\n",
       "    </tr>\n",
       "    <tr>\n",
       "      <td>113</td>\n",
       "      <td>3500000.0</td>\n",
       "      <td>[{'id': 10749, 'name': 'Romance'}, {'id': 18, ...</td>\n",
       "      <td>Forever My Girl</td>\n",
       "      <td>14.177</td>\n",
       "      <td>[{'id': 10285, 'logo_path': '/5jxaT7zoJKtnwqxn...</td>\n",
       "      <td>[{'iso_3166_1': 'US', 'name': 'United States o...</td>\n",
       "      <td>2018-01-26</td>\n",
       "      <td>16367326.0</td>\n",
       "      <td>104.0</td>\n",
       "      <td>Forever My Girl</td>\n",
       "      <td>7.4</td>\n",
       "      <td>492.0</td>\n",
       "    </tr>\n",
       "    <tr>\n",
       "      <td>115</td>\n",
       "      <td>48000000.0</td>\n",
       "      <td>[{'id': 35, 'name': 'Comedy'}, {'id': 18, 'nam...</td>\n",
       "      <td>Instant Family</td>\n",
       "      <td>16.460</td>\n",
       "      <td>[{'id': 8537, 'logo_path': None, 'name': 'Clos...</td>\n",
       "      <td>[{'iso_3166_1': 'US', 'name': 'United States o...</td>\n",
       "      <td>2018-11-16</td>\n",
       "      <td>14700000.0</td>\n",
       "      <td>118.0</td>\n",
       "      <td>Instant Family</td>\n",
       "      <td>7.5</td>\n",
       "      <td>1095.0</td>\n",
       "    </tr>\n",
       "    <tr>\n",
       "      <td>116</td>\n",
       "      <td>1500000.0</td>\n",
       "      <td>[{'id': 27, 'name': 'Horror'}, {'id': 53, 'nam...</td>\n",
       "      <td>Unsane</td>\n",
       "      <td>15.746</td>\n",
       "      <td>[{'id': 508, 'logo_path': '/7PzJdsLGlR7oW4J0J5...</td>\n",
       "      <td>[{'iso_3166_1': 'US', 'name': 'United States o...</td>\n",
       "      <td>2018-02-21</td>\n",
       "      <td>14293601.0</td>\n",
       "      <td>98.0</td>\n",
       "      <td>Unsane</td>\n",
       "      <td>6.2</td>\n",
       "      <td>796.0</td>\n",
       "    </tr>\n",
       "    <tr>\n",
       "      <td>117</td>\n",
       "      <td>2000000.0</td>\n",
       "      <td>[{'id': 35, 'name': 'Comedy'}, {'id': 18, 'nam...</td>\n",
       "      <td>Eighth Grade</td>\n",
       "      <td>14.197</td>\n",
       "      <td>[{'id': 258, 'logo_path': None, 'name': 'Scott...</td>\n",
       "      <td>[{'iso_3166_1': 'US', 'name': 'United States o...</td>\n",
       "      <td>2018-01-19</td>\n",
       "      <td>13539709.0</td>\n",
       "      <td>94.0</td>\n",
       "      <td>Eighth Grade</td>\n",
       "      <td>7.4</td>\n",
       "      <td>650.0</td>\n",
       "    </tr>\n",
       "    <tr>\n",
       "      <td>118</td>\n",
       "      <td>39000000.0</td>\n",
       "      <td>[{'id': 18, 'name': 'Drama'}, {'id': 35, 'name...</td>\n",
       "      <td>Welcome to Marwen</td>\n",
       "      <td>11.414</td>\n",
       "      <td>[{'id': 7, 'logo_path': '/vru2SssLX3FPhnKZGtYw...</td>\n",
       "      <td>[{'iso_3166_1': 'US', 'name': 'United States o...</td>\n",
       "      <td>2018-12-21</td>\n",
       "      <td>12780692.0</td>\n",
       "      <td>116.0</td>\n",
       "      <td>Welcome to Marwen</td>\n",
       "      <td>6.5</td>\n",
       "      <td>490.0</td>\n",
       "    </tr>\n",
       "    <tr>\n",
       "      <td>119</td>\n",
       "      <td>15000000.0</td>\n",
       "      <td>[{'id': 53, 'name': 'Thriller'}, {'id': 878, '...</td>\n",
       "      <td>Hotel Artemis</td>\n",
       "      <td>14.245</td>\n",
       "      <td>[{'id': 28275, 'logo_path': '/b6VatRipyJYN52xL...</td>\n",
       "      <td>[{'iso_3166_1': 'GB', 'name': 'United Kingdom'...</td>\n",
       "      <td>2018-06-07</td>\n",
       "      <td>12371132.0</td>\n",
       "      <td>94.0</td>\n",
       "      <td>Hotel Artemis</td>\n",
       "      <td>5.9</td>\n",
       "      <td>650.0</td>\n",
       "    </tr>\n",
       "    <tr>\n",
       "      <td>120</td>\n",
       "      <td>5000000.0</td>\n",
       "      <td>[{'id': 28, 'name': 'Action'}, {'id': 53, 'nam...</td>\n",
       "      <td>Upgrade</td>\n",
       "      <td>16.678</td>\n",
       "      <td>[{'id': 6748, 'logo_path': '/74qmkZFGFMbCsIKo2...</td>\n",
       "      <td>[{'iso_3166_1': 'AU', 'name': 'Australia'}]</td>\n",
       "      <td>2018-06-01</td>\n",
       "      <td>11871365.0</td>\n",
       "      <td>100.0</td>\n",
       "      <td>Upgrade</td>\n",
       "      <td>7.3</td>\n",
       "      <td>1632.0</td>\n",
       "    </tr>\n",
       "    <tr>\n",
       "      <td>121</td>\n",
       "      <td>10000000.0</td>\n",
       "      <td>[{'id': 9648, 'name': 'Mystery'}, {'id': 53, '...</td>\n",
       "      <td>Slender Man</td>\n",
       "      <td>14.310</td>\n",
       "      <td>[{'id': 12199, 'logo_path': '/gYYIgHpgRsyhyUke...</td>\n",
       "      <td>[{'iso_3166_1': 'US', 'name': 'United States o...</td>\n",
       "      <td>2018-08-10</td>\n",
       "      <td>11817275.0</td>\n",
       "      <td>93.0</td>\n",
       "      <td>Slender Man</td>\n",
       "      <td>4.0</td>\n",
       "      <td>862.0</td>\n",
       "    </tr>\n",
       "    <tr>\n",
       "      <td>126</td>\n",
       "      <td>30000000.0</td>\n",
       "      <td>[{'id': 878, 'name': 'Science Fiction'}, {'id'...</td>\n",
       "      <td>Kin</td>\n",
       "      <td>13.251</td>\n",
       "      <td>[{'id': 2575, 'logo_path': '/9YJrHYlcfHtwtulkF...</td>\n",
       "      <td>[{'iso_3166_1': 'US', 'name': 'United States o...</td>\n",
       "      <td>2018-08-29</td>\n",
       "      <td>10023153.0</td>\n",
       "      <td>102.0</td>\n",
       "      <td>Kin</td>\n",
       "      <td>6.1</td>\n",
       "      <td>387.0</td>\n",
       "    </tr>\n",
       "    <tr>\n",
       "      <td>127</td>\n",
       "      <td>1000000.0</td>\n",
       "      <td>[{'id': 27, 'name': 'Horror'}]</td>\n",
       "      <td>Unfriended: Dark Web</td>\n",
       "      <td>10.904</td>\n",
       "      <td>[{'id': 33, 'logo_path': '/8lvHyhjr8oUKOOy2dKX...</td>\n",
       "      <td>[{'iso_3166_1': 'US', 'name': 'United States o...</td>\n",
       "      <td>2018-07-19</td>\n",
       "      <td>9602624.0</td>\n",
       "      <td>93.0</td>\n",
       "      <td>Unfriended: Dark Web</td>\n",
       "      <td>6.2</td>\n",
       "      <td>527.0</td>\n",
       "    </tr>\n",
       "    <tr>\n",
       "      <td>130</td>\n",
       "      <td>30000000.0</td>\n",
       "      <td>[{'id': 53, 'name': 'Thriller'}, {'id': 878, '...</td>\n",
       "      <td>Replicas</td>\n",
       "      <td>18.676</td>\n",
       "      <td>[{'id': 435, 'logo_path': '/AjzK0s2w1GtLfR4hqC...</td>\n",
       "      <td>[{'iso_3166_1': 'US', 'name': 'United States o...</td>\n",
       "      <td>2018-10-25</td>\n",
       "      <td>8100000.0</td>\n",
       "      <td>107.0</td>\n",
       "      <td>Replicas</td>\n",
       "      <td>5.9</td>\n",
       "      <td>534.0</td>\n",
       "    </tr>\n",
       "    <tr>\n",
       "      <td>134</td>\n",
       "      <td>258157.0</td>\n",
       "      <td>[{'id': 35, 'name': 'Comedy'}, {'id': 18, 'nam...</td>\n",
       "      <td>Mid90s</td>\n",
       "      <td>10.317</td>\n",
       "      <td>[{'id': 22842, 'logo_path': '/waIZoO3pnB0VVCUV...</td>\n",
       "      <td>[{'iso_3166_1': 'US', 'name': 'United States o...</td>\n",
       "      <td>2018-10-19</td>\n",
       "      <td>6897446.0</td>\n",
       "      <td>84.0</td>\n",
       "      <td>Mid90s</td>\n",
       "      <td>7.3</td>\n",
       "      <td>481.0</td>\n",
       "    </tr>\n",
       "    <tr>\n",
       "      <td>135</td>\n",
       "      <td>20000000.0</td>\n",
       "      <td>[{'id': 27, 'name': 'Horror'}, {'id': 14, 'nam...</td>\n",
       "      <td>Suspiria</td>\n",
       "      <td>18.521</td>\n",
       "      <td>[{'id': 10989, 'logo_path': None, 'name': 'Mus...</td>\n",
       "      <td>[{'iso_3166_1': 'US', 'name': 'United States o...</td>\n",
       "      <td>2018-10-11</td>\n",
       "      <td>6348889.0</td>\n",
       "      <td>152.0</td>\n",
       "      <td>Suspiria</td>\n",
       "      <td>6.9</td>\n",
       "      <td>1021.0</td>\n",
       "    </tr>\n",
       "    <tr>\n",
       "      <td>136</td>\n",
       "      <td>4900000.0</td>\n",
       "      <td>[{'id': 18, 'name': 'Drama'}, {'id': 14, 'name...</td>\n",
       "      <td>Every Day</td>\n",
       "      <td>13.941</td>\n",
       "      <td>[{'id': 85510, 'logo_path': None, 'name': 'Fil...</td>\n",
       "      <td>[{'iso_3166_1': 'US', 'name': 'United States o...</td>\n",
       "      <td>2018-02-22</td>\n",
       "      <td>6102076.0</td>\n",
       "      <td>97.0</td>\n",
       "      <td>Every Day</td>\n",
       "      <td>7.0</td>\n",
       "      <td>1219.0</td>\n",
       "    </tr>\n",
       "    <tr>\n",
       "      <td>139</td>\n",
       "      <td>2123894.0</td>\n",
       "      <td>[{'id': 10749, 'name': 'Romance'}, {'id': 1075...</td>\n",
       "      <td>Hello Guru Prema Kosame</td>\n",
       "      <td>2.407</td>\n",
       "      <td>[{'id': 111934, 'logo_path': None, 'name': 'Di...</td>\n",
       "      <td>[{'iso_3166_1': 'IN', 'name': 'India'}]</td>\n",
       "      <td>2018-10-18</td>\n",
       "      <td>5479646.0</td>\n",
       "      <td>145.0</td>\n",
       "      <td>Hello Guru Prema Kosame</td>\n",
       "      <td>3.0</td>\n",
       "      <td>2.0</td>\n",
       "    </tr>\n",
       "    <tr>\n",
       "      <td>140</td>\n",
       "      <td>35000000.0</td>\n",
       "      <td>[{'id': 28, 'name': 'Action'}, {'id': 80, 'nam...</td>\n",
       "      <td>The Hurricane Heist</td>\n",
       "      <td>13.344</td>\n",
       "      <td>[{'id': 100849, 'logo_path': None, 'name': 'Wi...</td>\n",
       "      <td>[{'iso_3166_1': 'US', 'name': 'United States o...</td>\n",
       "      <td>2018-02-28</td>\n",
       "      <td>5400000.0</td>\n",
       "      <td>103.0</td>\n",
       "      <td>The Hurricane Heist</td>\n",
       "      <td>5.5</td>\n",
       "      <td>544.0</td>\n",
       "    </tr>\n",
       "    <tr>\n",
       "      <td>141</td>\n",
       "      <td>4000000.0</td>\n",
       "      <td>[{'id': 53, 'name': 'Thriller'}, {'id': 27, 'n...</td>\n",
       "      <td>Traffik</td>\n",
       "      <td>11.366</td>\n",
       "      <td>[{'id': 102809, 'logo_path': None, 'name': 'Hi...</td>\n",
       "      <td>[{'iso_3166_1': 'US', 'name': 'United States o...</td>\n",
       "      <td>2018-04-20</td>\n",
       "      <td>5132274.0</td>\n",
       "      <td>96.0</td>\n",
       "      <td>Traffik</td>\n",
       "      <td>5.8</td>\n",
       "      <td>191.0</td>\n",
       "    </tr>\n",
       "    <tr>\n",
       "      <td>142</td>\n",
       "      <td>19000000.0</td>\n",
       "      <td>[{'id': 35, 'name': 'Comedy'}, {'id': 18, 'nam...</td>\n",
       "      <td>Action Point</td>\n",
       "      <td>8.481</td>\n",
       "      <td>[{'id': 6328, 'logo_path': None, 'name': 'Dick...</td>\n",
       "      <td>[{'iso_3166_1': 'US', 'name': 'United States o...</td>\n",
       "      <td>2018-06-01</td>\n",
       "      <td>5059608.0</td>\n",
       "      <td>85.0</td>\n",
       "      <td>Action Point</td>\n",
       "      <td>5.2</td>\n",
       "      <td>175.0</td>\n",
       "    </tr>\n",
       "    <tr>\n",
       "      <td>143</td>\n",
       "      <td>10000000.0</td>\n",
       "      <td>[{'id': 18, 'name': 'Drama'}, {'id': 10749, 'n...</td>\n",
       "      <td>Life Itself</td>\n",
       "      <td>9.008</td>\n",
       "      <td>[{'id': 7493, 'logo_path': '/452FO4LcI6lA6bfgl...</td>\n",
       "      <td>[{'iso_3166_1': 'ES', 'name': 'Spain'}, {'iso_...</td>\n",
       "      <td>2018-09-21</td>\n",
       "      <td>4527513.0</td>\n",
       "      <td>118.0</td>\n",
       "      <td>Life Itself</td>\n",
       "      <td>7.1</td>\n",
       "      <td>149.0</td>\n",
       "    </tr>\n",
       "    <tr>\n",
       "      <td>144</td>\n",
       "      <td>10000000.0</td>\n",
       "      <td>[{'id': 80, 'name': 'Crime'}, {'id': 18, 'name...</td>\n",
       "      <td>Gotti</td>\n",
       "      <td>12.688</td>\n",
       "      <td>[{'id': 73685, 'logo_path': None, 'name': 'Emm...</td>\n",
       "      <td>[{'iso_3166_1': 'US', 'name': 'United States o...</td>\n",
       "      <td>2018-06-14</td>\n",
       "      <td>4343227.0</td>\n",
       "      <td>110.0</td>\n",
       "      <td>Gotti</td>\n",
       "      <td>5.2</td>\n",
       "      <td>316.0</td>\n",
       "    </tr>\n",
       "    <tr>\n",
       "      <td>145</td>\n",
       "      <td>35000000.0</td>\n",
       "      <td>[{'id': 53, 'name': 'Thriller'}, {'id': 10749,...</td>\n",
       "      <td>Adrift</td>\n",
       "      <td>19.395</td>\n",
       "      <td>[{'id': 47729, 'logo_path': '/5NRpQ7xxmODXAjt2...</td>\n",
       "      <td>[{'iso_3166_1': 'HK', 'name': 'Hong Kong'}, {'...</td>\n",
       "      <td>2018-05-31</td>\n",
       "      <td>4230000.0</td>\n",
       "      <td>96.0</td>\n",
       "      <td>Adrift</td>\n",
       "      <td>6.8</td>\n",
       "      <td>1448.0</td>\n",
       "    </tr>\n",
       "    <tr>\n",
       "      <td>146</td>\n",
       "      <td>1000000.0</td>\n",
       "      <td>[{'id': 53, 'name': 'Thriller'}, {'id': 28, 'n...</td>\n",
       "      <td>Batman: Gotham by Gaslight</td>\n",
       "      <td>7.873</td>\n",
       "      <td>[{'id': 2785, 'logo_path': '/l5zW8jjmQOCx2dFmv...</td>\n",
       "      <td>[{'iso_3166_1': 'US', 'name': 'United States o...</td>\n",
       "      <td>2018-01-12</td>\n",
       "      <td>3469151.0</td>\n",
       "      <td>78.0</td>\n",
       "      <td>Batman: Gotham by Gaslight</td>\n",
       "      <td>6.5</td>\n",
       "      <td>312.0</td>\n",
       "    </tr>\n",
       "    <tr>\n",
       "      <td>152</td>\n",
       "      <td>3000000.0</td>\n",
       "      <td>[{'id': 18, 'name': 'Drama'}, {'id': 80, 'name...</td>\n",
       "      <td>American Animals</td>\n",
       "      <td>13.433</td>\n",
       "      <td>[{'id': 6705, 'logo_path': '/5uoaxZCSYuc6KEiJg...</td>\n",
       "      <td>[{'iso_3166_1': 'US', 'name': 'United States o...</td>\n",
       "      <td>2018-06-01</td>\n",
       "      <td>2847319.0</td>\n",
       "      <td>117.0</td>\n",
       "      <td>American Animals</td>\n",
       "      <td>6.9</td>\n",
       "      <td>409.0</td>\n",
       "    </tr>\n",
       "    <tr>\n",
       "      <td>154</td>\n",
       "      <td>3500000.0</td>\n",
       "      <td>[{'id': 18, 'name': 'Drama'}]</td>\n",
       "      <td>First Reformed</td>\n",
       "      <td>16.970</td>\n",
       "      <td>[{'id': 2520, 'logo_path': None, 'name': 'Arcl...</td>\n",
       "      <td>[{'iso_3166_1': 'US', 'name': 'United States o...</td>\n",
       "      <td>2018-05-18</td>\n",
       "      <td>2525738.0</td>\n",
       "      <td>113.0</td>\n",
       "      <td>First Reformed</td>\n",
       "      <td>7.0</td>\n",
       "      <td>550.0</td>\n",
       "    </tr>\n",
       "    <tr>\n",
       "      <td>155</td>\n",
       "      <td>8000000.0</td>\n",
       "      <td>[{'id': 18, 'name': 'Drama'}, {'id': 12, 'name...</td>\n",
       "      <td>Lean on Pete</td>\n",
       "      <td>7.882</td>\n",
       "      <td>[{'id': 10441, 'logo_path': '/aTEwjHN8l51ix2Yc...</td>\n",
       "      <td>[{'iso_3166_1': 'GB', 'name': 'United Kingdom'}]</td>\n",
       "      <td>2018-04-06</td>\n",
       "      <td>2455027.0</td>\n",
       "      <td>121.0</td>\n",
       "      <td>Lean on Pete</td>\n",
       "      <td>6.9</td>\n",
       "      <td>152.0</td>\n",
       "    </tr>\n",
       "    <tr>\n",
       "      <td>158</td>\n",
       "      <td>2000000.0</td>\n",
       "      <td>[{'id': 18, 'name': 'Drama'}, {'id': 10402, 'n...</td>\n",
       "      <td>Hearts Beat Loud</td>\n",
       "      <td>8.569</td>\n",
       "      <td>[{'id': 18346, 'logo_path': '/vRQOTOMEohkoIfPN...</td>\n",
       "      <td>[{'iso_3166_1': 'US', 'name': 'United States o...</td>\n",
       "      <td>2018-06-08</td>\n",
       "      <td>2115765.0</td>\n",
       "      <td>97.0</td>\n",
       "      <td>Hearts Beat Loud</td>\n",
       "      <td>7.4</td>\n",
       "      <td>109.0</td>\n",
       "    </tr>\n",
       "    <tr>\n",
       "      <td>160</td>\n",
       "      <td>2000000.0</td>\n",
       "      <td>[{'id': 80, 'name': 'Crime'}, {'id': 10749, 'n...</td>\n",
       "      <td>Siberia</td>\n",
       "      <td>9.945</td>\n",
       "      <td>[{'id': 11517, 'logo_path': '/7tT0PqNjEalEwE1G...</td>\n",
       "      <td>[{'iso_3166_1': 'DE', 'name': 'Germany'}, {'is...</td>\n",
       "      <td>2018-07-13</td>\n",
       "      <td>2006704.0</td>\n",
       "      <td>105.0</td>\n",
       "      <td>Siberia</td>\n",
       "      <td>4.4</td>\n",
       "      <td>185.0</td>\n",
       "    </tr>\n",
       "    <tr>\n",
       "      <td>163</td>\n",
       "      <td>100000.0</td>\n",
       "      <td>[{'id': 18, 'name': 'Drama'}]</td>\n",
       "      <td>Gonjeshkake ashi mashi</td>\n",
       "      <td>0.600</td>\n",
       "      <td>[{'id': 79260, 'logo_path': None, 'name': 'Far...</td>\n",
       "      <td>[{'iso_3166_1': 'IR', 'name': 'Iran'}]</td>\n",
       "      <td>2018-01-09</td>\n",
       "      <td>1500000.0</td>\n",
       "      <td>90.0</td>\n",
       "      <td>Gonjeshkake ashi mashi</td>\n",
       "      <td>0.0</td>\n",
       "      <td>0.0</td>\n",
       "    </tr>\n",
       "    <tr>\n",
       "      <td>164</td>\n",
       "      <td>9800000.0</td>\n",
       "      <td>[{'id': 18, 'name': 'Drama'}, {'id': 27, 'name...</td>\n",
       "      <td>The House That Jack Built</td>\n",
       "      <td>12.882</td>\n",
       "      <td>[{'id': 76, 'logo_path': None, 'name': 'Zentro...</td>\n",
       "      <td>[{'iso_3166_1': 'DK', 'name': 'Denmark'}, {'is...</td>\n",
       "      <td>2018-10-04</td>\n",
       "      <td>1430505.0</td>\n",
       "      <td>152.0</td>\n",
       "      <td>The House That Jack Built</td>\n",
       "      <td>7.2</td>\n",
       "      <td>998.0</td>\n",
       "    </tr>\n",
       "    <tr>\n",
       "      <td>168</td>\n",
       "      <td>6000000.0</td>\n",
       "      <td>[{'id': 28, 'name': 'Action'}, {'id': 53, 'nam...</td>\n",
       "      <td>Mandy</td>\n",
       "      <td>17.053</td>\n",
       "      <td>[{'id': 34519, 'logo_path': '/MGFizEilC4bv5aDe...</td>\n",
       "      <td>[{'iso_3166_1': 'US', 'name': 'United States o...</td>\n",
       "      <td>2018-09-13</td>\n",
       "      <td>1214525.0</td>\n",
       "      <td>121.0</td>\n",
       "      <td>Mandy</td>\n",
       "      <td>6.2</td>\n",
       "      <td>755.0</td>\n",
       "    </tr>\n",
       "    <tr>\n",
       "      <td>173</td>\n",
       "      <td>900000.0</td>\n",
       "      <td>[{'id': 18, 'name': 'Drama'}]</td>\n",
       "      <td>The Miseducation of Cameron Post</td>\n",
       "      <td>13.290</td>\n",
       "      <td>[{'id': 56403, 'logo_path': '/uXT3YDtWe3lvMull...</td>\n",
       "      <td>[{'iso_3166_1': 'GB', 'name': 'United Kingdom'...</td>\n",
       "      <td>2018-07-18</td>\n",
       "      <td>904703.0</td>\n",
       "      <td>92.0</td>\n",
       "      <td>The Miseducation of Cameron Post</td>\n",
       "      <td>7.0</td>\n",
       "      <td>407.0</td>\n",
       "    </tr>\n",
       "    <tr>\n",
       "      <td>178</td>\n",
       "      <td>5000000.0</td>\n",
       "      <td>[{'id': 80, 'name': 'Crime'}, {'id': 27, 'name...</td>\n",
       "      <td>Mara</td>\n",
       "      <td>7.078</td>\n",
       "      <td>[{'id': 106854, 'logo_path': None, 'name': 'Mo...</td>\n",
       "      <td>[{'iso_3166_1': 'US', 'name': 'United States o...</td>\n",
       "      <td>2018-09-06</td>\n",
       "      <td>470901.0</td>\n",
       "      <td>100.0</td>\n",
       "      <td>Mara</td>\n",
       "      <td>5.4</td>\n",
       "      <td>150.0</td>\n",
       "    </tr>\n",
       "    <tr>\n",
       "      <td>179</td>\n",
       "      <td>1200000.0</td>\n",
       "      <td>[{'id': 18, 'name': 'Drama'}, {'id': 10402, 'n...</td>\n",
       "      <td>Blaze</td>\n",
       "      <td>7.474</td>\n",
       "      <td>[{'id': 97085, 'logo_path': None, 'name': 'Ans...</td>\n",
       "      <td>[{'iso_3166_1': 'US', 'name': 'United States o...</td>\n",
       "      <td>2018-08-17</td>\n",
       "      <td>467306.0</td>\n",
       "      <td>129.0</td>\n",
       "      <td>Blaze</td>\n",
       "      <td>7.1</td>\n",
       "      <td>19.0</td>\n",
       "    </tr>\n",
       "    <tr>\n",
       "      <td>182</td>\n",
       "      <td>8000000.0</td>\n",
       "      <td>[{'id': 80, 'name': 'Crime'}, {'id': 9648, 'na...</td>\n",
       "      <td>London Fields</td>\n",
       "      <td>9.583</td>\n",
       "      <td>[{'id': 2458, 'logo_path': None, 'name': 'Tart...</td>\n",
       "      <td>[{'iso_3166_1': 'GB', 'name': 'United Kingdom'...</td>\n",
       "      <td>2018-09-20</td>\n",
       "      <td>252676.0</td>\n",
       "      <td>118.0</td>\n",
       "      <td>London Fields</td>\n",
       "      <td>5.1</td>\n",
       "      <td>89.0</td>\n",
       "    </tr>\n",
       "    <tr>\n",
       "      <td>188</td>\n",
       "      <td>50000.0</td>\n",
       "      <td>[]</td>\n",
       "      <td>The Dog Walker</td>\n",
       "      <td>0.600</td>\n",
       "      <td>[]</td>\n",
       "      <td>[]</td>\n",
       "      <td>2018-11-11</td>\n",
       "      <td>140000.0</td>\n",
       "      <td>75.0</td>\n",
       "      <td>The Dog Walker</td>\n",
       "      <td>0.0</td>\n",
       "      <td>0.0</td>\n",
       "    </tr>\n",
       "    <tr>\n",
       "      <td>204</td>\n",
       "      <td>13444.0</td>\n",
       "      <td>[{'id': 28, 'name': 'Action'}, {'id': 18, 'nam...</td>\n",
       "      <td>RISE 7: Sensation</td>\n",
       "      <td>0.840</td>\n",
       "      <td>[{'id': 118252, 'logo_path': '/lCoZrpEIMwRNIYB...</td>\n",
       "      <td>[{'iso_3166_1': 'US', 'name': 'United States o...</td>\n",
       "      <td>2018-04-14</td>\n",
       "      <td>7666.0</td>\n",
       "      <td>120.0</td>\n",
       "      <td>RISE 7: Sensation</td>\n",
       "      <td>6.5</td>\n",
       "      <td>2.0</td>\n",
       "    </tr>\n",
       "    <tr>\n",
       "      <td>209</td>\n",
       "      <td>130178.0</td>\n",
       "      <td>[{'id': 28, 'name': 'Action'}, {'id': 878, 'na...</td>\n",
       "      <td>Megalodon</td>\n",
       "      <td>6.942</td>\n",
       "      <td>[{'id': 1311, 'logo_path': '/ic2bTizdzRLDVzAvN...</td>\n",
       "      <td>[{'iso_3166_1': 'US', 'name': 'United States o...</td>\n",
       "      <td>2018-08-13</td>\n",
       "      <td>5303.0</td>\n",
       "      <td>90.0</td>\n",
       "      <td>Megalodon</td>\n",
       "      <td>5.6</td>\n",
       "      <td>120.0</td>\n",
       "    </tr>\n",
       "    <tr>\n",
       "      <td>210</td>\n",
       "      <td>13000000.0</td>\n",
       "      <td>[{'id': 28, 'name': 'Action'}, {'id': 18, 'nam...</td>\n",
       "      <td>Kickboxer: Retaliation</td>\n",
       "      <td>9.770</td>\n",
       "      <td>[]</td>\n",
       "      <td>[{'iso_3166_1': 'US', 'name': 'United States o...</td>\n",
       "      <td>2018-01-26</td>\n",
       "      <td>4537.0</td>\n",
       "      <td>110.0</td>\n",
       "      <td>Kickboxer: Retaliation</td>\n",
       "      <td>5.0</td>\n",
       "      <td>101.0</td>\n",
       "    </tr>\n",
       "    <tr>\n",
       "      <td>214</td>\n",
       "      <td>2000000.0</td>\n",
       "      <td>[{'id': 12, 'name': 'Adventure'}, {'id': 18, '...</td>\n",
       "      <td>American Dresser</td>\n",
       "      <td>3.398</td>\n",
       "      <td>[]</td>\n",
       "      <td>[{'iso_3166_1': 'US', 'name': 'United States o...</td>\n",
       "      <td>2018-09-21</td>\n",
       "      <td>2231.0</td>\n",
       "      <td>97.0</td>\n",
       "      <td>American Dresser</td>\n",
       "      <td>5.7</td>\n",
       "      <td>7.0</td>\n",
       "    </tr>\n",
       "  </tbody>\n",
       "</table>\n",
       "</div>"
      ],
      "text/plain": [
       "         budget                                             genres  \\\n",
       "99   12500000.0  [{'id': 27, 'name': 'Horror'}, {'id': 53, 'nam...   \n",
       "101   5000000.0                    [{'id': 36, 'name': 'History'}]   \n",
       "103  14000000.0  [{'id': 53, 'name': 'Thriller'}, {'id': 28, 'n...   \n",
       "104     80000.0  [{'id': 28, 'name': 'Action'}, {'id': 80, 'nam...   \n",
       "105  12000000.0  [{'id': 18, 'name': 'Drama'}, {'id': 10749, 'n...   \n",
       "106  16000000.0  [{'id': 28, 'name': 'Action'}, {'id': 80, 'nam...   \n",
       "107  13500000.0  [{'id': 35, 'name': 'Comedy'}, {'id': 80, 'nam...   \n",
       "109  34000000.0  [{'id': 18, 'name': 'Drama'}, {'id': 53, 'name...   \n",
       "110  43000000.0  [{'id': 28, 'name': 'Action'}, {'id': 80, 'nam...   \n",
       "111  19000000.0                     [{'id': 35, 'name': 'Comedy'}]   \n",
       "112  24000000.0  [{'id': 18, 'name': 'Drama'}, {'id': 36, 'name...   \n",
       "113   3500000.0  [{'id': 10749, 'name': 'Romance'}, {'id': 18, ...   \n",
       "115  48000000.0  [{'id': 35, 'name': 'Comedy'}, {'id': 18, 'nam...   \n",
       "116   1500000.0  [{'id': 27, 'name': 'Horror'}, {'id': 53, 'nam...   \n",
       "117   2000000.0  [{'id': 35, 'name': 'Comedy'}, {'id': 18, 'nam...   \n",
       "118  39000000.0  [{'id': 18, 'name': 'Drama'}, {'id': 35, 'name...   \n",
       "119  15000000.0  [{'id': 53, 'name': 'Thriller'}, {'id': 878, '...   \n",
       "120   5000000.0  [{'id': 28, 'name': 'Action'}, {'id': 53, 'nam...   \n",
       "121  10000000.0  [{'id': 9648, 'name': 'Mystery'}, {'id': 53, '...   \n",
       "126  30000000.0  [{'id': 878, 'name': 'Science Fiction'}, {'id'...   \n",
       "127   1000000.0                     [{'id': 27, 'name': 'Horror'}]   \n",
       "130  30000000.0  [{'id': 53, 'name': 'Thriller'}, {'id': 878, '...   \n",
       "134    258157.0  [{'id': 35, 'name': 'Comedy'}, {'id': 18, 'nam...   \n",
       "135  20000000.0  [{'id': 27, 'name': 'Horror'}, {'id': 14, 'nam...   \n",
       "136   4900000.0  [{'id': 18, 'name': 'Drama'}, {'id': 14, 'name...   \n",
       "139   2123894.0  [{'id': 10749, 'name': 'Romance'}, {'id': 1075...   \n",
       "140  35000000.0  [{'id': 28, 'name': 'Action'}, {'id': 80, 'nam...   \n",
       "141   4000000.0  [{'id': 53, 'name': 'Thriller'}, {'id': 27, 'n...   \n",
       "142  19000000.0  [{'id': 35, 'name': 'Comedy'}, {'id': 18, 'nam...   \n",
       "143  10000000.0  [{'id': 18, 'name': 'Drama'}, {'id': 10749, 'n...   \n",
       "144  10000000.0  [{'id': 80, 'name': 'Crime'}, {'id': 18, 'name...   \n",
       "145  35000000.0  [{'id': 53, 'name': 'Thriller'}, {'id': 10749,...   \n",
       "146   1000000.0  [{'id': 53, 'name': 'Thriller'}, {'id': 28, 'n...   \n",
       "152   3000000.0  [{'id': 18, 'name': 'Drama'}, {'id': 80, 'name...   \n",
       "154   3500000.0                      [{'id': 18, 'name': 'Drama'}]   \n",
       "155   8000000.0  [{'id': 18, 'name': 'Drama'}, {'id': 12, 'name...   \n",
       "158   2000000.0  [{'id': 18, 'name': 'Drama'}, {'id': 10402, 'n...   \n",
       "160   2000000.0  [{'id': 80, 'name': 'Crime'}, {'id': 10749, 'n...   \n",
       "163    100000.0                      [{'id': 18, 'name': 'Drama'}]   \n",
       "164   9800000.0  [{'id': 18, 'name': 'Drama'}, {'id': 27, 'name...   \n",
       "168   6000000.0  [{'id': 28, 'name': 'Action'}, {'id': 53, 'nam...   \n",
       "173    900000.0                      [{'id': 18, 'name': 'Drama'}]   \n",
       "178   5000000.0  [{'id': 80, 'name': 'Crime'}, {'id': 27, 'name...   \n",
       "179   1200000.0  [{'id': 18, 'name': 'Drama'}, {'id': 10402, 'n...   \n",
       "182   8000000.0  [{'id': 80, 'name': 'Crime'}, {'id': 9648, 'na...   \n",
       "188     50000.0                                                 []   \n",
       "204     13444.0  [{'id': 28, 'name': 'Action'}, {'id': 18, 'nam...   \n",
       "209    130178.0  [{'id': 28, 'name': 'Action'}, {'id': 878, 'na...   \n",
       "210  13000000.0  [{'id': 28, 'name': 'Action'}, {'id': 18, 'nam...   \n",
       "214   2000000.0  [{'id': 12, 'name': 'Adventure'}, {'id': 18, '...   \n",
       "\n",
       "                       original_title  popularity  \\\n",
       "99       The Strangers: Prey at Night      14.108   \n",
       "101           Paul, Apostle of Christ      10.938   \n",
       "103                        Proud Mary       7.463   \n",
       "104                           Unbound       0.600   \n",
       "105        If Beale Street Could Talk      13.579   \n",
       "106                          SuperFly      10.344   \n",
       "107                  Super Troopers 2      13.055   \n",
       "109                    Chappaquiddick       9.593   \n",
       "110      The Girl in the Spider's Web      17.353   \n",
       "111                        Uncle Drew       8.467   \n",
       "112                  Operation Finale       9.495   \n",
       "113                   Forever My Girl      14.177   \n",
       "115                    Instant Family      16.460   \n",
       "116                            Unsane      15.746   \n",
       "117                      Eighth Grade      14.197   \n",
       "118                 Welcome to Marwen      11.414   \n",
       "119                     Hotel Artemis      14.245   \n",
       "120                           Upgrade      16.678   \n",
       "121                       Slender Man      14.310   \n",
       "126                               Kin      13.251   \n",
       "127              Unfriended: Dark Web      10.904   \n",
       "130                          Replicas      18.676   \n",
       "134                            Mid90s      10.317   \n",
       "135                          Suspiria      18.521   \n",
       "136                         Every Day      13.941   \n",
       "139           Hello Guru Prema Kosame       2.407   \n",
       "140               The Hurricane Heist      13.344   \n",
       "141                           Traffik      11.366   \n",
       "142                      Action Point       8.481   \n",
       "143                       Life Itself       9.008   \n",
       "144                             Gotti      12.688   \n",
       "145                            Adrift      19.395   \n",
       "146        Batman: Gotham by Gaslight       7.873   \n",
       "152                  American Animals      13.433   \n",
       "154                    First Reformed      16.970   \n",
       "155                      Lean on Pete       7.882   \n",
       "158                  Hearts Beat Loud       8.569   \n",
       "160                           Siberia       9.945   \n",
       "163            Gonjeshkake ashi mashi       0.600   \n",
       "164         The House That Jack Built      12.882   \n",
       "168                             Mandy      17.053   \n",
       "173  The Miseducation of Cameron Post      13.290   \n",
       "178                              Mara       7.078   \n",
       "179                             Blaze       7.474   \n",
       "182                     London Fields       9.583   \n",
       "188                    The Dog Walker       0.600   \n",
       "204                 RISE 7: Sensation       0.840   \n",
       "209                         Megalodon       6.942   \n",
       "210            Kickboxer: Retaliation       9.770   \n",
       "214                  American Dresser       3.398   \n",
       "\n",
       "                                  production_companies  \\\n",
       "99   [{'id': 63443, 'logo_path': '/iKm40tfw3Hxaz7mU...   \n",
       "101  [{'id': 81520, 'logo_path': None, 'name': 'Out...   \n",
       "103  [{'id': 3287, 'logo_path': '/bz6GbCQQXGNE56LTW...   \n",
       "104  [{'id': 107123, 'logo_path': None, 'name': 'Ra...   \n",
       "105  [{'id': 13184, 'logo_path': '/pfUB1a62jSMIqp4X...   \n",
       "106  [{'id': 5, 'logo_path': '/71BqEFAF4V3qjjMPCpLu...   \n",
       "107  [{'id': 2773, 'logo_path': '/ubyU2v6XcREGwyeie...   \n",
       "109  [{'id': 85100, 'logo_path': None, 'name': 'Ape...   \n",
       "110  [{'id': 71170, 'logo_path': None, 'name': 'The...   \n",
       "111  [{'id': 1632, 'logo_path': '/cisLn1YAUuptXVBa0...   \n",
       "112  [{'id': 7625, 'logo_path': '/kzq4ibnNeZrp00zpB...   \n",
       "113  [{'id': 10285, 'logo_path': '/5jxaT7zoJKtnwqxn...   \n",
       "115  [{'id': 8537, 'logo_path': None, 'name': 'Clos...   \n",
       "116  [{'id': 508, 'logo_path': '/7PzJdsLGlR7oW4J0J5...   \n",
       "117  [{'id': 258, 'logo_path': None, 'name': 'Scott...   \n",
       "118  [{'id': 7, 'logo_path': '/vru2SssLX3FPhnKZGtYw...   \n",
       "119  [{'id': 28275, 'logo_path': '/b6VatRipyJYN52xL...   \n",
       "120  [{'id': 6748, 'logo_path': '/74qmkZFGFMbCsIKo2...   \n",
       "121  [{'id': 12199, 'logo_path': '/gYYIgHpgRsyhyUke...   \n",
       "126  [{'id': 2575, 'logo_path': '/9YJrHYlcfHtwtulkF...   \n",
       "127  [{'id': 33, 'logo_path': '/8lvHyhjr8oUKOOy2dKX...   \n",
       "130  [{'id': 435, 'logo_path': '/AjzK0s2w1GtLfR4hqC...   \n",
       "134  [{'id': 22842, 'logo_path': '/waIZoO3pnB0VVCUV...   \n",
       "135  [{'id': 10989, 'logo_path': None, 'name': 'Mus...   \n",
       "136  [{'id': 85510, 'logo_path': None, 'name': 'Fil...   \n",
       "139  [{'id': 111934, 'logo_path': None, 'name': 'Di...   \n",
       "140  [{'id': 100849, 'logo_path': None, 'name': 'Wi...   \n",
       "141  [{'id': 102809, 'logo_path': None, 'name': 'Hi...   \n",
       "142  [{'id': 6328, 'logo_path': None, 'name': 'Dick...   \n",
       "143  [{'id': 7493, 'logo_path': '/452FO4LcI6lA6bfgl...   \n",
       "144  [{'id': 73685, 'logo_path': None, 'name': 'Emm...   \n",
       "145  [{'id': 47729, 'logo_path': '/5NRpQ7xxmODXAjt2...   \n",
       "146  [{'id': 2785, 'logo_path': '/l5zW8jjmQOCx2dFmv...   \n",
       "152  [{'id': 6705, 'logo_path': '/5uoaxZCSYuc6KEiJg...   \n",
       "154  [{'id': 2520, 'logo_path': None, 'name': 'Arcl...   \n",
       "155  [{'id': 10441, 'logo_path': '/aTEwjHN8l51ix2Yc...   \n",
       "158  [{'id': 18346, 'logo_path': '/vRQOTOMEohkoIfPN...   \n",
       "160  [{'id': 11517, 'logo_path': '/7tT0PqNjEalEwE1G...   \n",
       "163  [{'id': 79260, 'logo_path': None, 'name': 'Far...   \n",
       "164  [{'id': 76, 'logo_path': None, 'name': 'Zentro...   \n",
       "168  [{'id': 34519, 'logo_path': '/MGFizEilC4bv5aDe...   \n",
       "173  [{'id': 56403, 'logo_path': '/uXT3YDtWe3lvMull...   \n",
       "178  [{'id': 106854, 'logo_path': None, 'name': 'Mo...   \n",
       "179  [{'id': 97085, 'logo_path': None, 'name': 'Ans...   \n",
       "182  [{'id': 2458, 'logo_path': None, 'name': 'Tart...   \n",
       "188                                                 []   \n",
       "204  [{'id': 118252, 'logo_path': '/lCoZrpEIMwRNIYB...   \n",
       "209  [{'id': 1311, 'logo_path': '/ic2bTizdzRLDVzAvN...   \n",
       "210                                                 []   \n",
       "214                                                 []   \n",
       "\n",
       "                                  production_countries release_date  \\\n",
       "99   [{'iso_3166_1': 'US', 'name': 'United States o...   2018-03-07   \n",
       "101  [{'iso_3166_1': 'US', 'name': 'United States o...   2018-03-23   \n",
       "103  [{'iso_3166_1': 'US', 'name': 'United States o...   2018-01-12   \n",
       "104  [{'iso_3166_1': 'US', 'name': 'United States o...   2018-06-15   \n",
       "105  [{'iso_3166_1': 'US', 'name': 'United States o...   2018-12-14   \n",
       "106  [{'iso_3166_1': 'US', 'name': 'United States o...   2018-06-13   \n",
       "107  [{'iso_3166_1': 'US', 'name': 'United States o...   2018-04-19   \n",
       "109  [{'iso_3166_1': 'SE', 'name': 'Sweden'}, {'iso...   2018-04-06   \n",
       "110  [{'iso_3166_1': 'CA', 'name': 'Canada'}, {'iso...   2018-10-25   \n",
       "111  [{'iso_3166_1': 'US', 'name': 'United States o...   2018-06-27   \n",
       "112  [{'iso_3166_1': 'US', 'name': 'United States o...   2018-08-29   \n",
       "113  [{'iso_3166_1': 'US', 'name': 'United States o...   2018-01-26   \n",
       "115  [{'iso_3166_1': 'US', 'name': 'United States o...   2018-11-16   \n",
       "116  [{'iso_3166_1': 'US', 'name': 'United States o...   2018-02-21   \n",
       "117  [{'iso_3166_1': 'US', 'name': 'United States o...   2018-01-19   \n",
       "118  [{'iso_3166_1': 'US', 'name': 'United States o...   2018-12-21   \n",
       "119  [{'iso_3166_1': 'GB', 'name': 'United Kingdom'...   2018-06-07   \n",
       "120        [{'iso_3166_1': 'AU', 'name': 'Australia'}]   2018-06-01   \n",
       "121  [{'iso_3166_1': 'US', 'name': 'United States o...   2018-08-10   \n",
       "126  [{'iso_3166_1': 'US', 'name': 'United States o...   2018-08-29   \n",
       "127  [{'iso_3166_1': 'US', 'name': 'United States o...   2018-07-19   \n",
       "130  [{'iso_3166_1': 'US', 'name': 'United States o...   2018-10-25   \n",
       "134  [{'iso_3166_1': 'US', 'name': 'United States o...   2018-10-19   \n",
       "135  [{'iso_3166_1': 'US', 'name': 'United States o...   2018-10-11   \n",
       "136  [{'iso_3166_1': 'US', 'name': 'United States o...   2018-02-22   \n",
       "139            [{'iso_3166_1': 'IN', 'name': 'India'}]   2018-10-18   \n",
       "140  [{'iso_3166_1': 'US', 'name': 'United States o...   2018-02-28   \n",
       "141  [{'iso_3166_1': 'US', 'name': 'United States o...   2018-04-20   \n",
       "142  [{'iso_3166_1': 'US', 'name': 'United States o...   2018-06-01   \n",
       "143  [{'iso_3166_1': 'ES', 'name': 'Spain'}, {'iso_...   2018-09-21   \n",
       "144  [{'iso_3166_1': 'US', 'name': 'United States o...   2018-06-14   \n",
       "145  [{'iso_3166_1': 'HK', 'name': 'Hong Kong'}, {'...   2018-05-31   \n",
       "146  [{'iso_3166_1': 'US', 'name': 'United States o...   2018-01-12   \n",
       "152  [{'iso_3166_1': 'US', 'name': 'United States o...   2018-06-01   \n",
       "154  [{'iso_3166_1': 'US', 'name': 'United States o...   2018-05-18   \n",
       "155   [{'iso_3166_1': 'GB', 'name': 'United Kingdom'}]   2018-04-06   \n",
       "158  [{'iso_3166_1': 'US', 'name': 'United States o...   2018-06-08   \n",
       "160  [{'iso_3166_1': 'DE', 'name': 'Germany'}, {'is...   2018-07-13   \n",
       "163             [{'iso_3166_1': 'IR', 'name': 'Iran'}]   2018-01-09   \n",
       "164  [{'iso_3166_1': 'DK', 'name': 'Denmark'}, {'is...   2018-10-04   \n",
       "168  [{'iso_3166_1': 'US', 'name': 'United States o...   2018-09-13   \n",
       "173  [{'iso_3166_1': 'GB', 'name': 'United Kingdom'...   2018-07-18   \n",
       "178  [{'iso_3166_1': 'US', 'name': 'United States o...   2018-09-06   \n",
       "179  [{'iso_3166_1': 'US', 'name': 'United States o...   2018-08-17   \n",
       "182  [{'iso_3166_1': 'GB', 'name': 'United Kingdom'...   2018-09-20   \n",
       "188                                                 []   2018-11-11   \n",
       "204  [{'iso_3166_1': 'US', 'name': 'United States o...   2018-04-14   \n",
       "209  [{'iso_3166_1': 'US', 'name': 'United States o...   2018-08-13   \n",
       "210  [{'iso_3166_1': 'US', 'name': 'United States o...   2018-01-26   \n",
       "214  [{'iso_3166_1': 'US', 'name': 'United States o...   2018-09-21   \n",
       "\n",
       "        revenue  runtime                             title  vote_average  \\\n",
       "99   24586708.0     85.0      The Strangers: Prey at Night           5.4   \n",
       "101  22525668.0    108.0           Paul, Apostle of Christ           7.0   \n",
       "103  21753365.0     88.0                        Proud Mary           5.4   \n",
       "104  21000000.0     97.0                           Unbound           0.0   \n",
       "105  20572691.0    120.0        If Beale Street Could Talk           7.1   \n",
       "106  20545116.0    107.0                          SuperFly           6.4   \n",
       "107  18850674.0    100.0                  Super Troopers 2           5.8   \n",
       "109  17904202.0    107.0                    Chappaquiddick           6.0   \n",
       "110  17894345.0    117.0      The Girl in the Spider's Web           6.0   \n",
       "111  17665000.0    103.0                        Uncle Drew           6.5   \n",
       "112  17506878.0    124.0                  Operation Finale           6.7   \n",
       "113  16367326.0    104.0                   Forever My Girl           7.4   \n",
       "115  14700000.0    118.0                    Instant Family           7.5   \n",
       "116  14293601.0     98.0                            Unsane           6.2   \n",
       "117  13539709.0     94.0                      Eighth Grade           7.4   \n",
       "118  12780692.0    116.0                 Welcome to Marwen           6.5   \n",
       "119  12371132.0     94.0                     Hotel Artemis           5.9   \n",
       "120  11871365.0    100.0                           Upgrade           7.3   \n",
       "121  11817275.0     93.0                       Slender Man           4.0   \n",
       "126  10023153.0    102.0                               Kin           6.1   \n",
       "127   9602624.0     93.0              Unfriended: Dark Web           6.2   \n",
       "130   8100000.0    107.0                          Replicas           5.9   \n",
       "134   6897446.0     84.0                            Mid90s           7.3   \n",
       "135   6348889.0    152.0                          Suspiria           6.9   \n",
       "136   6102076.0     97.0                         Every Day           7.0   \n",
       "139   5479646.0    145.0           Hello Guru Prema Kosame           3.0   \n",
       "140   5400000.0    103.0               The Hurricane Heist           5.5   \n",
       "141   5132274.0     96.0                           Traffik           5.8   \n",
       "142   5059608.0     85.0                      Action Point           5.2   \n",
       "143   4527513.0    118.0                       Life Itself           7.1   \n",
       "144   4343227.0    110.0                             Gotti           5.2   \n",
       "145   4230000.0     96.0                            Adrift           6.8   \n",
       "146   3469151.0     78.0        Batman: Gotham by Gaslight           6.5   \n",
       "152   2847319.0    117.0                  American Animals           6.9   \n",
       "154   2525738.0    113.0                    First Reformed           7.0   \n",
       "155   2455027.0    121.0                      Lean on Pete           6.9   \n",
       "158   2115765.0     97.0                  Hearts Beat Loud           7.4   \n",
       "160   2006704.0    105.0                           Siberia           4.4   \n",
       "163   1500000.0     90.0            Gonjeshkake ashi mashi           0.0   \n",
       "164   1430505.0    152.0         The House That Jack Built           7.2   \n",
       "168   1214525.0    121.0                             Mandy           6.2   \n",
       "173    904703.0     92.0  The Miseducation of Cameron Post           7.0   \n",
       "178    470901.0    100.0                              Mara           5.4   \n",
       "179    467306.0    129.0                             Blaze           7.1   \n",
       "182    252676.0    118.0                     London Fields           5.1   \n",
       "188    140000.0     75.0                    The Dog Walker           0.0   \n",
       "204      7666.0    120.0                 RISE 7: Sensation           6.5   \n",
       "209      5303.0     90.0                         Megalodon           5.6   \n",
       "210      4537.0    110.0            Kickboxer: Retaliation           5.0   \n",
       "214      2231.0     97.0                  American Dresser           5.7   \n",
       "\n",
       "     vote_count  \n",
       "99        734.0  \n",
       "101       104.0  \n",
       "103       274.0  \n",
       "104         0.0  \n",
       "105       527.0  \n",
       "106       142.0  \n",
       "107       227.0  \n",
       "109       136.0  \n",
       "110       670.0  \n",
       "111       249.0  \n",
       "112       338.0  \n",
       "113       492.0  \n",
       "115      1095.0  \n",
       "116       796.0  \n",
       "117       650.0  \n",
       "118       490.0  \n",
       "119       650.0  \n",
       "120      1632.0  \n",
       "121       862.0  \n",
       "126       387.0  \n",
       "127       527.0  \n",
       "130       534.0  \n",
       "134       481.0  \n",
       "135      1021.0  \n",
       "136      1219.0  \n",
       "139         2.0  \n",
       "140       544.0  \n",
       "141       191.0  \n",
       "142       175.0  \n",
       "143       149.0  \n",
       "144       316.0  \n",
       "145      1448.0  \n",
       "146       312.0  \n",
       "152       409.0  \n",
       "154       550.0  \n",
       "155       152.0  \n",
       "158       109.0  \n",
       "160       185.0  \n",
       "163         0.0  \n",
       "164       998.0  \n",
       "168       755.0  \n",
       "173       407.0  \n",
       "178       150.0  \n",
       "179        19.0  \n",
       "182        89.0  \n",
       "188         0.0  \n",
       "204         2.0  \n",
       "209       120.0  \n",
       "210       101.0  \n",
       "214         7.0  "
      ]
     },
     "execution_count": 47,
     "metadata": {},
     "output_type": "execute_result"
    }
   ],
   "source": [
    "df_new.tail(50)"
   ]
  },
  {
   "cell_type": "code",
   "execution_count": 48,
   "metadata": {},
   "outputs": [
    {
     "data": {
      "text/html": [
       "<div>\n",
       "<style scoped>\n",
       "    .dataframe tbody tr th:only-of-type {\n",
       "        vertical-align: middle;\n",
       "    }\n",
       "\n",
       "    .dataframe tbody tr th {\n",
       "        vertical-align: top;\n",
       "    }\n",
       "\n",
       "    .dataframe thead th {\n",
       "        text-align: right;\n",
       "    }\n",
       "</style>\n",
       "<table border=\"1\" class=\"dataframe\">\n",
       "  <thead>\n",
       "    <tr style=\"text-align: right;\">\n",
       "      <th></th>\n",
       "      <th>budget</th>\n",
       "      <th>popularity</th>\n",
       "      <th>revenue</th>\n",
       "      <th>runtime</th>\n",
       "      <th>vote_average</th>\n",
       "      <th>vote_count</th>\n",
       "    </tr>\n",
       "  </thead>\n",
       "  <tbody>\n",
       "    <tr>\n",
       "      <td>count</td>\n",
       "      <td>1.470000e+02</td>\n",
       "      <td>147.000000</td>\n",
       "      <td>1.470000e+02</td>\n",
       "      <td>147.000000</td>\n",
       "      <td>147.000000</td>\n",
       "      <td>147.000000</td>\n",
       "    </tr>\n",
       "    <tr>\n",
       "      <td>mean</td>\n",
       "      <td>4.674848e+07</td>\n",
       "      <td>17.175422</td>\n",
       "      <td>1.693391e+08</td>\n",
       "      <td>110.823129</td>\n",
       "      <td>6.325850</td>\n",
       "      <td>2026.945578</td>\n",
       "    </tr>\n",
       "    <tr>\n",
       "      <td>std</td>\n",
       "      <td>5.549297e+07</td>\n",
       "      <td>9.462848</td>\n",
       "      <td>3.035231e+08</td>\n",
       "      <td>16.901690</td>\n",
       "      <td>1.242792</td>\n",
       "      <td>2562.238225</td>\n",
       "    </tr>\n",
       "    <tr>\n",
       "      <td>min</td>\n",
       "      <td>1.344400e+04</td>\n",
       "      <td>0.600000</td>\n",
       "      <td>2.231000e+03</td>\n",
       "      <td>75.000000</td>\n",
       "      <td>0.000000</td>\n",
       "      <td>0.000000</td>\n",
       "    </tr>\n",
       "    <tr>\n",
       "      <td>25%</td>\n",
       "      <td>1.000000e+07</td>\n",
       "      <td>11.785000</td>\n",
       "      <td>1.449680e+07</td>\n",
       "      <td>97.500000</td>\n",
       "      <td>5.900000</td>\n",
       "      <td>405.500000</td>\n",
       "    </tr>\n",
       "    <tr>\n",
       "      <td>50%</td>\n",
       "      <td>3.000000e+07</td>\n",
       "      <td>15.714000</td>\n",
       "      <td>5.174826e+07</td>\n",
       "      <td>110.000000</td>\n",
       "      <td>6.500000</td>\n",
       "      <td>1178.000000</td>\n",
       "    </tr>\n",
       "    <tr>\n",
       "      <td>75%</td>\n",
       "      <td>5.950000e+07</td>\n",
       "      <td>20.216000</td>\n",
       "      <td>1.593996e+08</td>\n",
       "      <td>120.500000</td>\n",
       "      <td>7.000000</td>\n",
       "      <td>2520.500000</td>\n",
       "    </tr>\n",
       "    <tr>\n",
       "      <td>max</td>\n",
       "      <td>3.000000e+08</td>\n",
       "      <td>76.719000</td>\n",
       "      <td>2.046240e+09</td>\n",
       "      <td>152.000000</td>\n",
       "      <td>8.400000</td>\n",
       "      <td>15929.000000</td>\n",
       "    </tr>\n",
       "  </tbody>\n",
       "</table>\n",
       "</div>"
      ],
      "text/plain": [
       "             budget  popularity       revenue     runtime  vote_average  \\\n",
       "count  1.470000e+02  147.000000  1.470000e+02  147.000000    147.000000   \n",
       "mean   4.674848e+07   17.175422  1.693391e+08  110.823129      6.325850   \n",
       "std    5.549297e+07    9.462848  3.035231e+08   16.901690      1.242792   \n",
       "min    1.344400e+04    0.600000  2.231000e+03   75.000000      0.000000   \n",
       "25%    1.000000e+07   11.785000  1.449680e+07   97.500000      5.900000   \n",
       "50%    3.000000e+07   15.714000  5.174826e+07  110.000000      6.500000   \n",
       "75%    5.950000e+07   20.216000  1.593996e+08  120.500000      7.000000   \n",
       "max    3.000000e+08   76.719000  2.046240e+09  152.000000      8.400000   \n",
       "\n",
       "         vote_count  \n",
       "count    147.000000  \n",
       "mean    2026.945578  \n",
       "std     2562.238225  \n",
       "min        0.000000  \n",
       "25%      405.500000  \n",
       "50%     1178.000000  \n",
       "75%     2520.500000  \n",
       "max    15929.000000  "
      ]
     },
     "execution_count": 48,
     "metadata": {},
     "output_type": "execute_result"
    }
   ],
   "source": [
    "df_new.describe()"
   ]
  },
  {
   "cell_type": "code",
   "execution_count": 49,
   "metadata": {},
   "outputs": [
    {
     "name": "stdout",
     "output_type": "stream",
     "text": [
      "<class 'pandas.core.frame.DataFrame'>\n",
      "Int64Index: 147 entries, 0 to 214\n",
      "Data columns (total 12 columns):\n",
      "budget                  147 non-null float64\n",
      "genres                  147 non-null object\n",
      "original_title          147 non-null object\n",
      "popularity              147 non-null float64\n",
      "production_companies    147 non-null object\n",
      "production_countries    147 non-null object\n",
      "release_date            147 non-null object\n",
      "revenue                 147 non-null float64\n",
      "runtime                 147 non-null float64\n",
      "title                   147 non-null object\n",
      "vote_average            147 non-null float64\n",
      "vote_count              147 non-null float64\n",
      "dtypes: float64(6), object(6)\n",
      "memory usage: 14.9+ KB\n"
     ]
    }
   ],
   "source": [
    "df_new.info()"
   ]
  },
  {
   "cell_type": "code",
   "execution_count": 50,
   "metadata": {},
   "outputs": [
    {
     "data": {
      "text/plain": [
       "0"
      ]
     },
     "execution_count": 50,
     "metadata": {},
     "output_type": "execute_result"
    }
   ],
   "source": [
    "df_new.duplicated(subset='title').sum()"
   ]
  },
  {
   "cell_type": "code",
   "execution_count": 51,
   "metadata": {},
   "outputs": [],
   "source": [
    "import seaborn as sns"
   ]
  },
  {
   "cell_type": "code",
   "execution_count": 52,
   "metadata": {},
   "outputs": [
    {
     "data": {
      "text/plain": [
       "<matplotlib.axes._subplots.AxesSubplot at 0x1a1d536a20>"
      ]
     },
     "execution_count": 52,
     "metadata": {},
     "output_type": "execute_result"
    },
    {
     "data": {
      "image/png": "[encoded data removed]",
      "text/plain": [
       "<Figure size 432x288 with 1 Axes>"
      ]
     },
     "metadata": {
      "needs_background": "light"
     },
     "output_type": "display_data"
    }
   ],
   "source": [
    "sns.scatterplot(y=df_new['revenue'], x=df_new['budget'])"
   ]
  },
  {
   "cell_type": "code",
   "execution_count": 53,
   "metadata": {},
   "outputs": [
    {
     "data": {
      "text/plain": [
       "\"[{'id': 12, 'name': 'Adventure'}, {'id': 28, 'name': 'Action'}, {'id': 878, 'name': 'Science Fiction'}]\""
      ]
     },
     "execution_count": 53,
     "metadata": {},
     "output_type": "execute_result"
    }
   ],
   "source": [
    "df_new['genres'][0]"
   ]
  },
  {
   "cell_type": "code",
   "execution_count": 54,
   "metadata": {},
   "outputs": [
    {
     "data": {
      "text/plain": [
       "\"[{'id': 28, 'name': 'Action'}, {'id': 12, 'name': 'Adventure'}, {'id': 14, 'name': 'Fantasy'}, {'id': 878, 'name': 'Science Fiction'}]\""
      ]
     },
     "execution_count": 54,
     "metadata": {},
     "output_type": "execute_result"
    }
   ],
   "source": [
    "df_new['genres'][1]"
   ]
  },
  {
   "cell_type": "code",
   "execution_count": 55,
   "metadata": {},
   "outputs": [
    {
     "data": {
      "text/plain": [
       "\"[{'id': 28, 'name': 'Action'}, {'id': 12, 'name': 'Adventure'}, {'id': 14, 'name': 'Fantasy'}]\""
      ]
     },
     "execution_count": 55,
     "metadata": {},
     "output_type": "execute_result"
    }
   ],
   "source": [
    "df_new['genres'][4]"
   ]
  },
  {
   "cell_type": "code",
   "execution_count": 56,
   "metadata": {},
   "outputs": [
    {
     "data": {
      "text/html": [
       "<div>\n",
       "<style scoped>\n",
       "    .dataframe tbody tr th:only-of-type {\n",
       "        vertical-align: middle;\n",
       "    }\n",
       "\n",
       "    .dataframe tbody tr th {\n",
       "        vertical-align: top;\n",
       "    }\n",
       "\n",
       "    .dataframe thead th {\n",
       "        text-align: right;\n",
       "    }\n",
       "</style>\n",
       "<table border=\"1\" class=\"dataframe\">\n",
       "  <thead>\n",
       "    <tr style=\"text-align: right;\">\n",
       "      <th></th>\n",
       "      <th>budget</th>\n",
       "      <th>genres</th>\n",
       "      <th>original_title</th>\n",
       "      <th>popularity</th>\n",
       "      <th>production_companies</th>\n",
       "      <th>production_countries</th>\n",
       "      <th>release_date</th>\n",
       "      <th>revenue</th>\n",
       "      <th>runtime</th>\n",
       "      <th>title</th>\n",
       "      <th>vote_average</th>\n",
       "      <th>vote_count</th>\n",
       "    </tr>\n",
       "  </thead>\n",
       "  <tbody>\n",
       "    <tr>\n",
       "      <td>145</td>\n",
       "      <td>13000000.0</td>\n",
       "      <td>[{'id': 28, 'name': 'Action'}, {'id': 18, 'nam...</td>\n",
       "      <td>Kickboxer: Retaliation</td>\n",
       "      <td>9.770</td>\n",
       "      <td>[]</td>\n",
       "      <td>[{'iso_3166_1': 'US', 'name': 'United States o...</td>\n",
       "      <td>2018-01-26</td>\n",
       "      <td>4537.0</td>\n",
       "      <td>110.0</td>\n",
       "      <td>Kickboxer: Retaliation</td>\n",
       "      <td>5.0</td>\n",
       "      <td>101.0</td>\n",
       "    </tr>\n",
       "    <tr>\n",
       "      <td>146</td>\n",
       "      <td>2000000.0</td>\n",
       "      <td>[{'id': 12, 'name': 'Adventure'}, {'id': 18, '...</td>\n",
       "      <td>American Dresser</td>\n",
       "      <td>3.398</td>\n",
       "      <td>[]</td>\n",
       "      <td>[{'iso_3166_1': 'US', 'name': 'United States o...</td>\n",
       "      <td>2018-09-21</td>\n",
       "      <td>2231.0</td>\n",
       "      <td>97.0</td>\n",
       "      <td>American Dresser</td>\n",
       "      <td>5.7</td>\n",
       "      <td>7.0</td>\n",
       "    </tr>\n",
       "  </tbody>\n",
       "</table>\n",
       "</div>"
      ],
      "text/plain": [
       "         budget                                             genres  \\\n",
       "145  13000000.0  [{'id': 28, 'name': 'Action'}, {'id': 18, 'nam...   \n",
       "146   2000000.0  [{'id': 12, 'name': 'Adventure'}, {'id': 18, '...   \n",
       "\n",
       "             original_title  popularity production_companies  \\\n",
       "145  Kickboxer: Retaliation       9.770                   []   \n",
       "146        American Dresser       3.398                   []   \n",
       "\n",
       "                                  production_countries release_date  revenue  \\\n",
       "145  [{'iso_3166_1': 'US', 'name': 'United States o...   2018-01-26   4537.0   \n",
       "146  [{'iso_3166_1': 'US', 'name': 'United States o...   2018-09-21   2231.0   \n",
       "\n",
       "     runtime                   title  vote_average  vote_count  \n",
       "145    110.0  Kickboxer: Retaliation           5.0       101.0  \n",
       "146     97.0        American Dresser           5.7         7.0  "
      ]
     },
     "execution_count": 56,
     "metadata": {},
     "output_type": "execute_result"
    }
   ],
   "source": [
    "df_index = df_new.reset_index(drop=True)\n",
    "df_index.tail(2)"
   ]
  },
  {
   "cell_type": "code",
   "execution_count": 57,
   "metadata": {},
   "outputs": [
    {
     "data": {
      "text/plain": [
       "\"[{'id': 28, 'name': 'Action'}, {'id': 80, 'name': 'Crime'}, {'id': 18, 'name': 'Drama'}, {'id': 53, 'name': 'Thriller'}]\""
      ]
     },
     "execution_count": 57,
     "metadata": {},
     "output_type": "execute_result"
    }
   ],
   "source": [
    "df_index['genres'][100]"
   ]
  },
  {
   "cell_type": "code",
   "execution_count": 58,
   "metadata": {},
   "outputs": [
    {
     "data": {
      "text/plain": [
       "\"[{'id': 27, 'name': 'Horror'}, {'id': 18, 'name': 'Drama'}]\""
      ]
     },
     "execution_count": 58,
     "metadata": {},
     "output_type": "execute_result"
    }
   ],
   "source": [
    "df_index['genres'][80]"
   ]
  },
  {
   "cell_type": "code",
   "execution_count": 59,
   "metadata": {},
   "outputs": [],
   "source": [
    "df_index['ROI'] = df_index['revenue']/df_index['budget']"
   ]
  },
  {
   "cell_type": "code",
   "execution_count": 60,
   "metadata": {},
   "outputs": [
    {
     "data": {
      "text/html": [
       "<div>\n",
       "<style scoped>\n",
       "    .dataframe tbody tr th:only-of-type {\n",
       "        vertical-align: middle;\n",
       "    }\n",
       "\n",
       "    .dataframe tbody tr th {\n",
       "        vertical-align: top;\n",
       "    }\n",
       "\n",
       "    .dataframe thead th {\n",
       "        text-align: right;\n",
       "    }\n",
       "</style>\n",
       "<table border=\"1\" class=\"dataframe\">\n",
       "  <thead>\n",
       "    <tr style=\"text-align: right;\">\n",
       "      <th></th>\n",
       "      <th>budget</th>\n",
       "      <th>genres</th>\n",
       "      <th>original_title</th>\n",
       "      <th>popularity</th>\n",
       "      <th>production_companies</th>\n",
       "      <th>production_countries</th>\n",
       "      <th>release_date</th>\n",
       "      <th>revenue</th>\n",
       "      <th>runtime</th>\n",
       "      <th>title</th>\n",
       "      <th>vote_average</th>\n",
       "      <th>vote_count</th>\n",
       "      <th>ROI</th>\n",
       "    </tr>\n",
       "  </thead>\n",
       "  <tbody>\n",
       "    <tr>\n",
       "      <td>0</td>\n",
       "      <td>300000000.0</td>\n",
       "      <td>[{'id': 12, 'name': 'Adventure'}, {'id': 28, '...</td>\n",
       "      <td>Avengers: Infinity War</td>\n",
       "      <td>76.719</td>\n",
       "      <td>[{'id': 420, 'logo_path': '/hUzeosd33nzE5MCNsZ...</td>\n",
       "      <td>[{'iso_3166_1': 'US', 'name': 'United States o...</td>\n",
       "      <td>2018-04-25</td>\n",
       "      <td>2.046240e+09</td>\n",
       "      <td>149.0</td>\n",
       "      <td>Avengers: Infinity War</td>\n",
       "      <td>8.3</td>\n",
       "      <td>15929.0</td>\n",
       "      <td>6.820799</td>\n",
       "    </tr>\n",
       "    <tr>\n",
       "      <td>1</td>\n",
       "      <td>200000000.0</td>\n",
       "      <td>[{'id': 28, 'name': 'Action'}, {'id': 12, 'nam...</td>\n",
       "      <td>Black Panther</td>\n",
       "      <td>36.027</td>\n",
       "      <td>[{'id': 420, 'logo_path': '/hUzeosd33nzE5MCNsZ...</td>\n",
       "      <td>[{'iso_3166_1': 'US', 'name': 'United States o...</td>\n",
       "      <td>2018-02-13</td>\n",
       "      <td>1.346739e+09</td>\n",
       "      <td>134.0</td>\n",
       "      <td>Black Panther</td>\n",
       "      <td>7.4</td>\n",
       "      <td>13710.0</td>\n",
       "      <td>6.733696</td>\n",
       "    </tr>\n",
       "  </tbody>\n",
       "</table>\n",
       "</div>"
      ],
      "text/plain": [
       "        budget                                             genres  \\\n",
       "0  300000000.0  [{'id': 12, 'name': 'Adventure'}, {'id': 28, '...   \n",
       "1  200000000.0  [{'id': 28, 'name': 'Action'}, {'id': 12, 'nam...   \n",
       "\n",
       "           original_title  popularity  \\\n",
       "0  Avengers: Infinity War      76.719   \n",
       "1           Black Panther      36.027   \n",
       "\n",
       "                                production_companies  \\\n",
       "0  [{'id': 420, 'logo_path': '/hUzeosd33nzE5MCNsZ...   \n",
       "1  [{'id': 420, 'logo_path': '/hUzeosd33nzE5MCNsZ...   \n",
       "\n",
       "                                production_countries release_date  \\\n",
       "0  [{'iso_3166_1': 'US', 'name': 'United States o...   2018-04-25   \n",
       "1  [{'iso_3166_1': 'US', 'name': 'United States o...   2018-02-13   \n",
       "\n",
       "        revenue  runtime                   title  vote_average  vote_count  \\\n",
       "0  2.046240e+09    149.0  Avengers: Infinity War           8.3     15929.0   \n",
       "1  1.346739e+09    134.0           Black Panther           7.4     13710.0   \n",
       "\n",
       "        ROI  \n",
       "0  6.820799  \n",
       "1  6.733696  "
      ]
     },
     "execution_count": 60,
     "metadata": {},
     "output_type": "execute_result"
    }
   ],
   "source": [
    "df_index.head(2)"
   ]
  },
  {
   "cell_type": "code",
   "execution_count": 61,
   "metadata": {},
   "outputs": [
    {
     "data": {
      "text/html": [
       "<div>\n",
       "<style scoped>\n",
       "    .dataframe tbody tr th:only-of-type {\n",
       "        vertical-align: middle;\n",
       "    }\n",
       "\n",
       "    .dataframe tbody tr th {\n",
       "        vertical-align: top;\n",
       "    }\n",
       "\n",
       "    .dataframe thead th {\n",
       "        text-align: right;\n",
       "    }\n",
       "</style>\n",
       "<table border=\"1\" class=\"dataframe\">\n",
       "  <thead>\n",
       "    <tr style=\"text-align: right;\">\n",
       "      <th></th>\n",
       "      <th>budget</th>\n",
       "      <th>genres</th>\n",
       "      <th>original_title</th>\n",
       "      <th>popularity</th>\n",
       "      <th>production_companies</th>\n",
       "      <th>production_countries</th>\n",
       "      <th>release_date</th>\n",
       "      <th>revenue</th>\n",
       "      <th>runtime</th>\n",
       "      <th>title</th>\n",
       "      <th>vote_average</th>\n",
       "      <th>vote_count</th>\n",
       "      <th>ROI</th>\n",
       "    </tr>\n",
       "  </thead>\n",
       "  <tbody>\n",
       "    <tr>\n",
       "      <td>100</td>\n",
       "      <td>80000.0</td>\n",
       "      <td>[{'id': 28, 'name': 'Action'}, {'id': 80, 'nam...</td>\n",
       "      <td>Unbound</td>\n",
       "      <td>0.6</td>\n",
       "      <td>[{'id': 107123, 'logo_path': None, 'name': 'Ra...</td>\n",
       "      <td>[{'iso_3166_1': 'US', 'name': 'United States o...</td>\n",
       "      <td>2018-06-15</td>\n",
       "      <td>21000000.0</td>\n",
       "      <td>97.0</td>\n",
       "      <td>Unbound</td>\n",
       "      <td>0.0</td>\n",
       "      <td>0.0</td>\n",
       "      <td>262.5</td>\n",
       "    </tr>\n",
       "    <tr>\n",
       "      <td>135</td>\n",
       "      <td>100000.0</td>\n",
       "      <td>[{'id': 18, 'name': 'Drama'}]</td>\n",
       "      <td>Gonjeshkake ashi mashi</td>\n",
       "      <td>0.6</td>\n",
       "      <td>[{'id': 79260, 'logo_path': None, 'name': 'Far...</td>\n",
       "      <td>[{'iso_3166_1': 'IR', 'name': 'Iran'}]</td>\n",
       "      <td>2018-01-09</td>\n",
       "      <td>1500000.0</td>\n",
       "      <td>90.0</td>\n",
       "      <td>Gonjeshkake ashi mashi</td>\n",
       "      <td>0.0</td>\n",
       "      <td>0.0</td>\n",
       "      <td>15.0</td>\n",
       "    </tr>\n",
       "    <tr>\n",
       "      <td>142</td>\n",
       "      <td>50000.0</td>\n",
       "      <td>[]</td>\n",
       "      <td>The Dog Walker</td>\n",
       "      <td>0.6</td>\n",
       "      <td>[]</td>\n",
       "      <td>[]</td>\n",
       "      <td>2018-11-11</td>\n",
       "      <td>140000.0</td>\n",
       "      <td>75.0</td>\n",
       "      <td>The Dog Walker</td>\n",
       "      <td>0.0</td>\n",
       "      <td>0.0</td>\n",
       "      <td>2.8</td>\n",
       "    </tr>\n",
       "  </tbody>\n",
       "</table>\n",
       "</div>"
      ],
      "text/plain": [
       "       budget                                             genres  \\\n",
       "100   80000.0  [{'id': 28, 'name': 'Action'}, {'id': 80, 'nam...   \n",
       "135  100000.0                      [{'id': 18, 'name': 'Drama'}]   \n",
       "142   50000.0                                                 []   \n",
       "\n",
       "             original_title  popularity  \\\n",
       "100                 Unbound         0.6   \n",
       "135  Gonjeshkake ashi mashi         0.6   \n",
       "142          The Dog Walker         0.6   \n",
       "\n",
       "                                  production_companies  \\\n",
       "100  [{'id': 107123, 'logo_path': None, 'name': 'Ra...   \n",
       "135  [{'id': 79260, 'logo_path': None, 'name': 'Far...   \n",
       "142                                                 []   \n",
       "\n",
       "                                  production_countries release_date  \\\n",
       "100  [{'iso_3166_1': 'US', 'name': 'United States o...   2018-06-15   \n",
       "135             [{'iso_3166_1': 'IR', 'name': 'Iran'}]   2018-01-09   \n",
       "142                                                 []   2018-11-11   \n",
       "\n",
       "        revenue  runtime                   title  vote_average  vote_count  \\\n",
       "100  21000000.0     97.0                 Unbound           0.0         0.0   \n",
       "135   1500000.0     90.0  Gonjeshkake ashi mashi           0.0         0.0   \n",
       "142    140000.0     75.0          The Dog Walker           0.0         0.0   \n",
       "\n",
       "       ROI  \n",
       "100  262.5  \n",
       "135   15.0  \n",
       "142    2.8  "
      ]
     },
     "execution_count": 61,
     "metadata": {},
     "output_type": "execute_result"
    }
   ],
   "source": [
    "df_index[df_index['vote_count'] == 0]\n",
    "#no votes, no reviews, im going to drop it"
   ]
  },
  {
   "cell_type": "code",
   "execution_count": 62,
   "metadata": {},
   "outputs": [],
   "source": [
    "df_index = df_index[df_index['vote_count'] !=0]"
   ]
  },
  {
   "cell_type": "code",
   "execution_count": 63,
   "metadata": {},
   "outputs": [],
   "source": [
    "df_index['vote_count'] = 0"
   ]
  },
  {
   "cell_type": "code",
   "execution_count": 71,
   "metadata": {
    "scrolled": true
   },
   "outputs": [
    {
     "data": {
      "text/html": [
       "<div>\n",
       "<style scoped>\n",
       "    .dataframe tbody tr th:only-of-type {\n",
       "        vertical-align: middle;\n",
       "    }\n",
       "\n",
       "    .dataframe tbody tr th {\n",
       "        vertical-align: top;\n",
       "    }\n",
       "\n",
       "    .dataframe thead th {\n",
       "        text-align: right;\n",
       "    }\n",
       "</style>\n",
       "<table border=\"1\" class=\"dataframe\">\n",
       "  <thead>\n",
       "    <tr style=\"text-align: right;\">\n",
       "      <th></th>\n",
       "      <th>budget</th>\n",
       "      <th>genres</th>\n",
       "      <th>original_title</th>\n",
       "      <th>popularity</th>\n",
       "      <th>production_companies</th>\n",
       "      <th>production_countries</th>\n",
       "      <th>release_date</th>\n",
       "      <th>revenue</th>\n",
       "      <th>runtime</th>\n",
       "      <th>title</th>\n",
       "      <th>vote_average</th>\n",
       "      <th>vote_count</th>\n",
       "      <th>ROI</th>\n",
       "    </tr>\n",
       "  </thead>\n",
       "  <tbody>\n",
       "    <tr>\n",
       "      <td>0</td>\n",
       "      <td>300000000.0</td>\n",
       "      <td>[{'id': 12, 'name': 'Adventure'}, {'id': 28, '...</td>\n",
       "      <td>Avengers: Infinity War</td>\n",
       "      <td>76.719</td>\n",
       "      <td>[{'id': 420, 'logo_path': '/hUzeosd33nzE5MCNsZ...</td>\n",
       "      <td>[{'iso_3166_1': 'US', 'name': 'United States o...</td>\n",
       "      <td>2018-04-25</td>\n",
       "      <td>2.046240e+09</td>\n",
       "      <td>149.0</td>\n",
       "      <td>Avengers: Infinity War</td>\n",
       "      <td>8.3</td>\n",
       "      <td>0</td>\n",
       "      <td>6.820799</td>\n",
       "    </tr>\n",
       "    <tr>\n",
       "      <td>1</td>\n",
       "      <td>200000000.0</td>\n",
       "      <td>[{'id': 28, 'name': 'Action'}, {'id': 12, 'nam...</td>\n",
       "      <td>Black Panther</td>\n",
       "      <td>36.027</td>\n",
       "      <td>[{'id': 420, 'logo_path': '/hUzeosd33nzE5MCNsZ...</td>\n",
       "      <td>[{'iso_3166_1': 'US', 'name': 'United States o...</td>\n",
       "      <td>2018-02-13</td>\n",
       "      <td>1.346739e+09</td>\n",
       "      <td>134.0</td>\n",
       "      <td>Black Panther</td>\n",
       "      <td>7.4</td>\n",
       "      <td>0</td>\n",
       "      <td>6.733696</td>\n",
       "    </tr>\n",
       "    <tr>\n",
       "      <td>2</td>\n",
       "      <td>170000000.0</td>\n",
       "      <td>[{'id': 28, 'name': 'Action'}, {'id': 12, 'nam...</td>\n",
       "      <td>Jurassic World: Fallen Kingdom</td>\n",
       "      <td>34.309</td>\n",
       "      <td>[{'id': 56, 'logo_path': '/cEaxANEisCqeEoRvODv...</td>\n",
       "      <td>[{'iso_3166_1': 'US', 'name': 'United States o...</td>\n",
       "      <td>2018-06-06</td>\n",
       "      <td>1.303460e+09</td>\n",
       "      <td>129.0</td>\n",
       "      <td>Jurassic World: Fallen Kingdom</td>\n",
       "      <td>6.5</td>\n",
       "      <td>0</td>\n",
       "      <td>7.667409</td>\n",
       "    </tr>\n",
       "    <tr>\n",
       "      <td>3</td>\n",
       "      <td>200000000.0</td>\n",
       "      <td>[{'id': 28, 'name': 'Action'}, {'id': 12, 'nam...</td>\n",
       "      <td>Incredibles 2</td>\n",
       "      <td>26.936</td>\n",
       "      <td>[{'id': 2, 'logo_path': '/wdrCwmRnLFJhEoH8GSfy...</td>\n",
       "      <td>[{'iso_3166_1': 'US', 'name': 'United States o...</td>\n",
       "      <td>2018-06-14</td>\n",
       "      <td>1.241891e+09</td>\n",
       "      <td>118.0</td>\n",
       "      <td>Incredibles 2</td>\n",
       "      <td>7.5</td>\n",
       "      <td>0</td>\n",
       "      <td>6.209457</td>\n",
       "    </tr>\n",
       "    <tr>\n",
       "      <td>4</td>\n",
       "      <td>160000000.0</td>\n",
       "      <td>[{'id': 28, 'name': 'Action'}, {'id': 12, 'nam...</td>\n",
       "      <td>Aquaman</td>\n",
       "      <td>28.084</td>\n",
       "      <td>[{'id': 429, 'logo_path': '/2Tc1P3Ac8M479naPp1...</td>\n",
       "      <td>[{'iso_3166_1': 'AU', 'name': 'Australia'}, {'...</td>\n",
       "      <td>2018-12-07</td>\n",
       "      <td>1.143689e+09</td>\n",
       "      <td>144.0</td>\n",
       "      <td>Aquaman</td>\n",
       "      <td>6.8</td>\n",
       "      <td>0</td>\n",
       "      <td>7.148057</td>\n",
       "    </tr>\n",
       "    <tr>\n",
       "      <td>...</td>\n",
       "      <td>...</td>\n",
       "      <td>...</td>\n",
       "      <td>...</td>\n",
       "      <td>...</td>\n",
       "      <td>...</td>\n",
       "      <td>...</td>\n",
       "      <td>...</td>\n",
       "      <td>...</td>\n",
       "      <td>...</td>\n",
       "      <td>...</td>\n",
       "      <td>...</td>\n",
       "      <td>...</td>\n",
       "      <td>...</td>\n",
       "    </tr>\n",
       "    <tr>\n",
       "      <td>139</td>\n",
       "      <td>8000000.0</td>\n",
       "      <td>[{'id': 80, 'name': 'Crime'}, {'id': 9648, 'na...</td>\n",
       "      <td>London Fields</td>\n",
       "      <td>9.583</td>\n",
       "      <td>[{'id': 2458, 'logo_path': None, 'name': 'Tart...</td>\n",
       "      <td>[{'iso_3166_1': 'GB', 'name': 'United Kingdom'...</td>\n",
       "      <td>2018-09-20</td>\n",
       "      <td>2.526760e+05</td>\n",
       "      <td>118.0</td>\n",
       "      <td>London Fields</td>\n",
       "      <td>5.1</td>\n",
       "      <td>0</td>\n",
       "      <td>0.031585</td>\n",
       "    </tr>\n",
       "    <tr>\n",
       "      <td>140</td>\n",
       "      <td>13444.0</td>\n",
       "      <td>[{'id': 28, 'name': 'Action'}, {'id': 18, 'nam...</td>\n",
       "      <td>RISE 7: Sensation</td>\n",
       "      <td>0.840</td>\n",
       "      <td>[{'id': 118252, 'logo_path': '/lCoZrpEIMwRNIYB...</td>\n",
       "      <td>[{'iso_3166_1': 'US', 'name': 'United States o...</td>\n",
       "      <td>2018-04-14</td>\n",
       "      <td>7.666000e+03</td>\n",
       "      <td>120.0</td>\n",
       "      <td>RISE 7: Sensation</td>\n",
       "      <td>6.5</td>\n",
       "      <td>0</td>\n",
       "      <td>0.570217</td>\n",
       "    </tr>\n",
       "    <tr>\n",
       "      <td>141</td>\n",
       "      <td>130178.0</td>\n",
       "      <td>[{'id': 28, 'name': 'Action'}, {'id': 878, 'na...</td>\n",
       "      <td>Megalodon</td>\n",
       "      <td>6.942</td>\n",
       "      <td>[{'id': 1311, 'logo_path': '/ic2bTizdzRLDVzAvN...</td>\n",
       "      <td>[{'iso_3166_1': 'US', 'name': 'United States o...</td>\n",
       "      <td>2018-08-13</td>\n",
       "      <td>5.303000e+03</td>\n",
       "      <td>90.0</td>\n",
       "      <td>Megalodon</td>\n",
       "      <td>5.6</td>\n",
       "      <td>0</td>\n",
       "      <td>0.040737</td>\n",
       "    </tr>\n",
       "    <tr>\n",
       "      <td>142</td>\n",
       "      <td>13000000.0</td>\n",
       "      <td>[{'id': 28, 'name': 'Action'}, {'id': 18, 'nam...</td>\n",
       "      <td>Kickboxer: Retaliation</td>\n",
       "      <td>9.770</td>\n",
       "      <td>[]</td>\n",
       "      <td>[{'iso_3166_1': 'US', 'name': 'United States o...</td>\n",
       "      <td>2018-01-26</td>\n",
       "      <td>4.537000e+03</td>\n",
       "      <td>110.0</td>\n",
       "      <td>Kickboxer: Retaliation</td>\n",
       "      <td>5.0</td>\n",
       "      <td>0</td>\n",
       "      <td>0.000349</td>\n",
       "    </tr>\n",
       "    <tr>\n",
       "      <td>143</td>\n",
       "      <td>2000000.0</td>\n",
       "      <td>[{'id': 12, 'name': 'Adventure'}, {'id': 18, '...</td>\n",
       "      <td>American Dresser</td>\n",
       "      <td>3.398</td>\n",
       "      <td>[]</td>\n",
       "      <td>[{'iso_3166_1': 'US', 'name': 'United States o...</td>\n",
       "      <td>2018-09-21</td>\n",
       "      <td>2.231000e+03</td>\n",
       "      <td>97.0</td>\n",
       "      <td>American Dresser</td>\n",
       "      <td>5.7</td>\n",
       "      <td>0</td>\n",
       "      <td>0.001115</td>\n",
       "    </tr>\n",
       "  </tbody>\n",
       "</table>\n",
       "<p>144 rows × 13 columns</p>\n",
       "</div>"
      ],
      "text/plain": [
       "          budget                                             genres  \\\n",
       "0    300000000.0  [{'id': 12, 'name': 'Adventure'}, {'id': 28, '...   \n",
       "1    200000000.0  [{'id': 28, 'name': 'Action'}, {'id': 12, 'nam...   \n",
       "2    170000000.0  [{'id': 28, 'name': 'Action'}, {'id': 12, 'nam...   \n",
       "3    200000000.0  [{'id': 28, 'name': 'Action'}, {'id': 12, 'nam...   \n",
       "4    160000000.0  [{'id': 28, 'name': 'Action'}, {'id': 12, 'nam...   \n",
       "..           ...                                                ...   \n",
       "139    8000000.0  [{'id': 80, 'name': 'Crime'}, {'id': 9648, 'na...   \n",
       "140      13444.0  [{'id': 28, 'name': 'Action'}, {'id': 18, 'nam...   \n",
       "141     130178.0  [{'id': 28, 'name': 'Action'}, {'id': 878, 'na...   \n",
       "142   13000000.0  [{'id': 28, 'name': 'Action'}, {'id': 18, 'nam...   \n",
       "143    2000000.0  [{'id': 12, 'name': 'Adventure'}, {'id': 18, '...   \n",
       "\n",
       "                     original_title  popularity  \\\n",
       "0            Avengers: Infinity War      76.719   \n",
       "1                     Black Panther      36.027   \n",
       "2    Jurassic World: Fallen Kingdom      34.309   \n",
       "3                     Incredibles 2      26.936   \n",
       "4                           Aquaman      28.084   \n",
       "..                              ...         ...   \n",
       "139                   London Fields       9.583   \n",
       "140               RISE 7: Sensation       0.840   \n",
       "141                       Megalodon       6.942   \n",
       "142          Kickboxer: Retaliation       9.770   \n",
       "143                American Dresser       3.398   \n",
       "\n",
       "                                  production_companies  \\\n",
       "0    [{'id': 420, 'logo_path': '/hUzeosd33nzE5MCNsZ...   \n",
       "1    [{'id': 420, 'logo_path': '/hUzeosd33nzE5MCNsZ...   \n",
       "2    [{'id': 56, 'logo_path': '/cEaxANEisCqeEoRvODv...   \n",
       "3    [{'id': 2, 'logo_path': '/wdrCwmRnLFJhEoH8GSfy...   \n",
       "4    [{'id': 429, 'logo_path': '/2Tc1P3Ac8M479naPp1...   \n",
       "..                                                 ...   \n",
       "139  [{'id': 2458, 'logo_path': None, 'name': 'Tart...   \n",
       "140  [{'id': 118252, 'logo_path': '/lCoZrpEIMwRNIYB...   \n",
       "141  [{'id': 1311, 'logo_path': '/ic2bTizdzRLDVzAvN...   \n",
       "142                                                 []   \n",
       "143                                                 []   \n",
       "\n",
       "                                  production_countries release_date  \\\n",
       "0    [{'iso_3166_1': 'US', 'name': 'United States o...   2018-04-25   \n",
       "1    [{'iso_3166_1': 'US', 'name': 'United States o...   2018-02-13   \n",
       "2    [{'iso_3166_1': 'US', 'name': 'United States o...   2018-06-06   \n",
       "3    [{'iso_3166_1': 'US', 'name': 'United States o...   2018-06-14   \n",
       "4    [{'iso_3166_1': 'AU', 'name': 'Australia'}, {'...   2018-12-07   \n",
       "..                                                 ...          ...   \n",
       "139  [{'iso_3166_1': 'GB', 'name': 'United Kingdom'...   2018-09-20   \n",
       "140  [{'iso_3166_1': 'US', 'name': 'United States o...   2018-04-14   \n",
       "141  [{'iso_3166_1': 'US', 'name': 'United States o...   2018-08-13   \n",
       "142  [{'iso_3166_1': 'US', 'name': 'United States o...   2018-01-26   \n",
       "143  [{'iso_3166_1': 'US', 'name': 'United States o...   2018-09-21   \n",
       "\n",
       "          revenue  runtime                           title  vote_average  \\\n",
       "0    2.046240e+09    149.0          Avengers: Infinity War           8.3   \n",
       "1    1.346739e+09    134.0                   Black Panther           7.4   \n",
       "2    1.303460e+09    129.0  Jurassic World: Fallen Kingdom           6.5   \n",
       "3    1.241891e+09    118.0                   Incredibles 2           7.5   \n",
       "4    1.143689e+09    144.0                         Aquaman           6.8   \n",
       "..            ...      ...                             ...           ...   \n",
       "139  2.526760e+05    118.0                   London Fields           5.1   \n",
       "140  7.666000e+03    120.0               RISE 7: Sensation           6.5   \n",
       "141  5.303000e+03     90.0                       Megalodon           5.6   \n",
       "142  4.537000e+03    110.0          Kickboxer: Retaliation           5.0   \n",
       "143  2.231000e+03     97.0                American Dresser           5.7   \n",
       "\n",
       "     vote_count       ROI  \n",
       "0             0  6.820799  \n",
       "1             0  6.733696  \n",
       "2             0  7.667409  \n",
       "3             0  6.209457  \n",
       "4             0  7.148057  \n",
       "..          ...       ...  \n",
       "139           0  0.031585  \n",
       "140           0  0.570217  \n",
       "141           0  0.040737  \n",
       "142           0  0.000349  \n",
       "143           0  0.001115  \n",
       "\n",
       "[144 rows x 13 columns]"
      ]
     },
     "execution_count": 71,
     "metadata": {},
     "output_type": "execute_result"
    }
   ],
   "source": [
    "df_index.reset_index(drop=True)"
   ]
  },
  {
   "cell_type": "code",
   "execution_count": 75,
   "metadata": {},
   "outputs": [
    {
     "data": {
      "text/html": [
       "<div>\n",
       "<style scoped>\n",
       "    .dataframe tbody tr th:only-of-type {\n",
       "        vertical-align: middle;\n",
       "    }\n",
       "\n",
       "    .dataframe tbody tr th {\n",
       "        vertical-align: top;\n",
       "    }\n",
       "\n",
       "    .dataframe thead th {\n",
       "        text-align: right;\n",
       "    }\n",
       "</style>\n",
       "<table border=\"1\" class=\"dataframe\">\n",
       "  <thead>\n",
       "    <tr style=\"text-align: right;\">\n",
       "      <th></th>\n",
       "      <th>budget</th>\n",
       "      <th>genres</th>\n",
       "      <th>original_title</th>\n",
       "      <th>popularity</th>\n",
       "      <th>production_companies</th>\n",
       "      <th>production_countries</th>\n",
       "      <th>release_date</th>\n",
       "      <th>revenue</th>\n",
       "      <th>runtime</th>\n",
       "      <th>title</th>\n",
       "      <th>...</th>\n",
       "      <th>isComedy</th>\n",
       "      <th>isRomance</th>\n",
       "      <th>isHorror</th>\n",
       "      <th>isMystery</th>\n",
       "      <th>isThriller</th>\n",
       "      <th>isCrime</th>\n",
       "      <th>isHistory</th>\n",
       "      <th>isWar</th>\n",
       "      <th>isDocumentary</th>\n",
       "      <th>isTV Movie</th>\n",
       "    </tr>\n",
       "  </thead>\n",
       "  <tbody>\n",
       "    <tr>\n",
       "      <td>0</td>\n",
       "      <td>300000000.0</td>\n",
       "      <td>[{'id': 12, 'name': 'Adventure'}, {'id': 28, '...</td>\n",
       "      <td>Avengers: Infinity War</td>\n",
       "      <td>76.719</td>\n",
       "      <td>[{'id': 420, 'logo_path': '/hUzeosd33nzE5MCNsZ...</td>\n",
       "      <td>[{'iso_3166_1': 'US', 'name': 'United States o...</td>\n",
       "      <td>2018-04-25</td>\n",
       "      <td>2.046240e+09</td>\n",
       "      <td>149.0</td>\n",
       "      <td>Avengers: Infinity War</td>\n",
       "      <td>...</td>\n",
       "      <td>0</td>\n",
       "      <td>0</td>\n",
       "      <td>0</td>\n",
       "      <td>0</td>\n",
       "      <td>0</td>\n",
       "      <td>0</td>\n",
       "      <td>0</td>\n",
       "      <td>0</td>\n",
       "      <td>0</td>\n",
       "      <td>0</td>\n",
       "    </tr>\n",
       "    <tr>\n",
       "      <td>1</td>\n",
       "      <td>200000000.0</td>\n",
       "      <td>[{'id': 28, 'name': 'Action'}, {'id': 12, 'nam...</td>\n",
       "      <td>Black Panther</td>\n",
       "      <td>36.027</td>\n",
       "      <td>[{'id': 420, 'logo_path': '/hUzeosd33nzE5MCNsZ...</td>\n",
       "      <td>[{'iso_3166_1': 'US', 'name': 'United States o...</td>\n",
       "      <td>2018-02-13</td>\n",
       "      <td>1.346739e+09</td>\n",
       "      <td>134.0</td>\n",
       "      <td>Black Panther</td>\n",
       "      <td>...</td>\n",
       "      <td>0</td>\n",
       "      <td>0</td>\n",
       "      <td>0</td>\n",
       "      <td>0</td>\n",
       "      <td>0</td>\n",
       "      <td>0</td>\n",
       "      <td>0</td>\n",
       "      <td>0</td>\n",
       "      <td>0</td>\n",
       "      <td>0</td>\n",
       "    </tr>\n",
       "    <tr>\n",
       "      <td>2</td>\n",
       "      <td>170000000.0</td>\n",
       "      <td>[{'id': 28, 'name': 'Action'}, {'id': 12, 'nam...</td>\n",
       "      <td>Jurassic World: Fallen Kingdom</td>\n",
       "      <td>34.309</td>\n",
       "      <td>[{'id': 56, 'logo_path': '/cEaxANEisCqeEoRvODv...</td>\n",
       "      <td>[{'iso_3166_1': 'US', 'name': 'United States o...</td>\n",
       "      <td>2018-06-06</td>\n",
       "      <td>1.303460e+09</td>\n",
       "      <td>129.0</td>\n",
       "      <td>Jurassic World: Fallen Kingdom</td>\n",
       "      <td>...</td>\n",
       "      <td>0</td>\n",
       "      <td>0</td>\n",
       "      <td>0</td>\n",
       "      <td>0</td>\n",
       "      <td>0</td>\n",
       "      <td>0</td>\n",
       "      <td>0</td>\n",
       "      <td>0</td>\n",
       "      <td>0</td>\n",
       "      <td>0</td>\n",
       "    </tr>\n",
       "    <tr>\n",
       "      <td>3</td>\n",
       "      <td>200000000.0</td>\n",
       "      <td>[{'id': 28, 'name': 'Action'}, {'id': 12, 'nam...</td>\n",
       "      <td>Incredibles 2</td>\n",
       "      <td>26.936</td>\n",
       "      <td>[{'id': 2, 'logo_path': '/wdrCwmRnLFJhEoH8GSfy...</td>\n",
       "      <td>[{'iso_3166_1': 'US', 'name': 'United States o...</td>\n",
       "      <td>2018-06-14</td>\n",
       "      <td>1.241891e+09</td>\n",
       "      <td>118.0</td>\n",
       "      <td>Incredibles 2</td>\n",
       "      <td>...</td>\n",
       "      <td>0</td>\n",
       "      <td>0</td>\n",
       "      <td>0</td>\n",
       "      <td>0</td>\n",
       "      <td>0</td>\n",
       "      <td>0</td>\n",
       "      <td>0</td>\n",
       "      <td>0</td>\n",
       "      <td>0</td>\n",
       "      <td>0</td>\n",
       "    </tr>\n",
       "    <tr>\n",
       "      <td>4</td>\n",
       "      <td>160000000.0</td>\n",
       "      <td>[{'id': 28, 'name': 'Action'}, {'id': 12, 'nam...</td>\n",
       "      <td>Aquaman</td>\n",
       "      <td>28.084</td>\n",
       "      <td>[{'id': 429, 'logo_path': '/2Tc1P3Ac8M479naPp1...</td>\n",
       "      <td>[{'iso_3166_1': 'AU', 'name': 'Australia'}, {'...</td>\n",
       "      <td>2018-12-07</td>\n",
       "      <td>1.143689e+09</td>\n",
       "      <td>144.0</td>\n",
       "      <td>Aquaman</td>\n",
       "      <td>...</td>\n",
       "      <td>0</td>\n",
       "      <td>0</td>\n",
       "      <td>0</td>\n",
       "      <td>0</td>\n",
       "      <td>0</td>\n",
       "      <td>0</td>\n",
       "      <td>0</td>\n",
       "      <td>0</td>\n",
       "      <td>0</td>\n",
       "      <td>0</td>\n",
       "    </tr>\n",
       "    <tr>\n",
       "      <td>5</td>\n",
       "      <td>52000000.0</td>\n",
       "      <td>[{'id': 18, 'name': 'Drama'}, {'id': 10402, 'n...</td>\n",
       "      <td>Bohemian Rhapsody</td>\n",
       "      <td>40.399</td>\n",
       "      <td>[{'id': 3281, 'logo_path': '/8tMybAieh64uzvm8k...</td>\n",
       "      <td>[{'iso_3166_1': 'GB', 'name': 'United Kingdom'...</td>\n",
       "      <td>2018-10-24</td>\n",
       "      <td>8.940275e+08</td>\n",
       "      <td>135.0</td>\n",
       "      <td>Bohemian Rhapsody</td>\n",
       "      <td>...</td>\n",
       "      <td>0</td>\n",
       "      <td>0</td>\n",
       "      <td>0</td>\n",
       "      <td>0</td>\n",
       "      <td>0</td>\n",
       "      <td>0</td>\n",
       "      <td>0</td>\n",
       "      <td>0</td>\n",
       "      <td>0</td>\n",
       "      <td>0</td>\n",
       "    </tr>\n",
       "    <tr>\n",
       "      <td>6</td>\n",
       "      <td>116000000.0</td>\n",
       "      <td>[{'id': 878, 'name': 'Science Fiction'}, {'id'...</td>\n",
       "      <td>Venom</td>\n",
       "      <td>42.301</td>\n",
       "      <td>[{'id': 31828, 'logo_path': None, 'name': 'Avi...</td>\n",
       "      <td>[{'iso_3166_1': 'CN', 'name': 'China'}, {'iso_...</td>\n",
       "      <td>2018-09-28</td>\n",
       "      <td>8.550140e+08</td>\n",
       "      <td>112.0</td>\n",
       "      <td>Venom</td>\n",
       "      <td>...</td>\n",
       "      <td>0</td>\n",
       "      <td>0</td>\n",
       "      <td>0</td>\n",
       "      <td>0</td>\n",
       "      <td>0</td>\n",
       "      <td>0</td>\n",
       "      <td>0</td>\n",
       "      <td>0</td>\n",
       "      <td>0</td>\n",
       "      <td>0</td>\n",
       "    </tr>\n",
       "    <tr>\n",
       "      <td>7</td>\n",
       "      <td>178000000.0</td>\n",
       "      <td>[{'id': 28, 'name': 'Action'}, {'id': 12, 'nam...</td>\n",
       "      <td>Mission: Impossible - Fallout</td>\n",
       "      <td>27.511</td>\n",
       "      <td>[{'id': 4, 'logo_path': '/fycMZt242LVjagMByZOL...</td>\n",
       "      <td>[{'iso_3166_1': 'CN', 'name': 'China'}, {'iso_...</td>\n",
       "      <td>2018-07-13</td>\n",
       "      <td>7.910175e+08</td>\n",
       "      <td>148.0</td>\n",
       "      <td>Mission: Impossible - Fallout</td>\n",
       "      <td>...</td>\n",
       "      <td>0</td>\n",
       "      <td>0</td>\n",
       "      <td>0</td>\n",
       "      <td>0</td>\n",
       "      <td>0</td>\n",
       "      <td>0</td>\n",
       "      <td>0</td>\n",
       "      <td>0</td>\n",
       "      <td>0</td>\n",
       "      <td>0</td>\n",
       "    </tr>\n",
       "    <tr>\n",
       "      <td>8</td>\n",
       "      <td>110000000.0</td>\n",
       "      <td>[{'id': 28, 'name': 'Action'}, {'id': 35, 'nam...</td>\n",
       "      <td>Deadpool 2</td>\n",
       "      <td>37.664</td>\n",
       "      <td>[{'id': 7505, 'logo_path': '/837VMM4wOkODc1idN...</td>\n",
       "      <td>[{'iso_3166_1': 'US', 'name': 'United States o...</td>\n",
       "      <td>2018-05-10</td>\n",
       "      <td>7.415474e+08</td>\n",
       "      <td>121.0</td>\n",
       "      <td>Deadpool 2</td>\n",
       "      <td>...</td>\n",
       "      <td>1</td>\n",
       "      <td>0</td>\n",
       "      <td>0</td>\n",
       "      <td>0</td>\n",
       "      <td>0</td>\n",
       "      <td>0</td>\n",
       "      <td>0</td>\n",
       "      <td>0</td>\n",
       "      <td>0</td>\n",
       "      <td>0</td>\n",
       "    </tr>\n",
       "    <tr>\n",
       "      <td>9</td>\n",
       "      <td>200000000.0</td>\n",
       "      <td>[{'id': 12, 'name': 'Adventure'}, {'id': 14, '...</td>\n",
       "      <td>Fantastic Beasts: The Crimes of Grindelwald</td>\n",
       "      <td>28.354</td>\n",
       "      <td>[{'id': 174, 'logo_path': '/IuAlhI9eVC9Z8UQWOI...</td>\n",
       "      <td>[{'iso_3166_1': 'GB', 'name': 'United Kingdom'...</td>\n",
       "      <td>2018-11-14</td>\n",
       "      <td>6.533559e+08</td>\n",
       "      <td>134.0</td>\n",
       "      <td>Fantastic Beasts: The Crimes of Grindelwald</td>\n",
       "      <td>...</td>\n",
       "      <td>0</td>\n",
       "      <td>0</td>\n",
       "      <td>0</td>\n",
       "      <td>0</td>\n",
       "      <td>0</td>\n",
       "      <td>0</td>\n",
       "      <td>0</td>\n",
       "      <td>0</td>\n",
       "      <td>0</td>\n",
       "      <td>0</td>\n",
       "    </tr>\n",
       "  </tbody>\n",
       "</table>\n",
       "<p>10 rows × 31 columns</p>\n",
       "</div>"
      ],
      "text/plain": [
       "        budget                                             genres  \\\n",
       "0  300000000.0  [{'id': 12, 'name': 'Adventure'}, {'id': 28, '...   \n",
       "1  200000000.0  [{'id': 28, 'name': 'Action'}, {'id': 12, 'nam...   \n",
       "2  170000000.0  [{'id': 28, 'name': 'Action'}, {'id': 12, 'nam...   \n",
       "3  200000000.0  [{'id': 28, 'name': 'Action'}, {'id': 12, 'nam...   \n",
       "4  160000000.0  [{'id': 28, 'name': 'Action'}, {'id': 12, 'nam...   \n",
       "5   52000000.0  [{'id': 18, 'name': 'Drama'}, {'id': 10402, 'n...   \n",
       "6  116000000.0  [{'id': 878, 'name': 'Science Fiction'}, {'id'...   \n",
       "7  178000000.0  [{'id': 28, 'name': 'Action'}, {'id': 12, 'nam...   \n",
       "8  110000000.0  [{'id': 28, 'name': 'Action'}, {'id': 35, 'nam...   \n",
       "9  200000000.0  [{'id': 12, 'name': 'Adventure'}, {'id': 14, '...   \n",
       "\n",
       "                                original_title  popularity  \\\n",
       "0                       Avengers: Infinity War      76.719   \n",
       "1                                Black Panther      36.027   \n",
       "2               Jurassic World: Fallen Kingdom      34.309   \n",
       "3                                Incredibles 2      26.936   \n",
       "4                                      Aquaman      28.084   \n",
       "5                            Bohemian Rhapsody      40.399   \n",
       "6                                        Venom      42.301   \n",
       "7                Mission: Impossible - Fallout      27.511   \n",
       "8                                   Deadpool 2      37.664   \n",
       "9  Fantastic Beasts: The Crimes of Grindelwald      28.354   \n",
       "\n",
       "                                production_companies  \\\n",
       "0  [{'id': 420, 'logo_path': '/hUzeosd33nzE5MCNsZ...   \n",
       "1  [{'id': 420, 'logo_path': '/hUzeosd33nzE5MCNsZ...   \n",
       "2  [{'id': 56, 'logo_path': '/cEaxANEisCqeEoRvODv...   \n",
       "3  [{'id': 2, 'logo_path': '/wdrCwmRnLFJhEoH8GSfy...   \n",
       "4  [{'id': 429, 'logo_path': '/2Tc1P3Ac8M479naPp1...   \n",
       "5  [{'id': 3281, 'logo_path': '/8tMybAieh64uzvm8k...   \n",
       "6  [{'id': 31828, 'logo_path': None, 'name': 'Avi...   \n",
       "7  [{'id': 4, 'logo_path': '/fycMZt242LVjagMByZOL...   \n",
       "8  [{'id': 7505, 'logo_path': '/837VMM4wOkODc1idN...   \n",
       "9  [{'id': 174, 'logo_path': '/IuAlhI9eVC9Z8UQWOI...   \n",
       "\n",
       "                                production_countries release_date  \\\n",
       "0  [{'iso_3166_1': 'US', 'name': 'United States o...   2018-04-25   \n",
       "1  [{'iso_3166_1': 'US', 'name': 'United States o...   2018-02-13   \n",
       "2  [{'iso_3166_1': 'US', 'name': 'United States o...   2018-06-06   \n",
       "3  [{'iso_3166_1': 'US', 'name': 'United States o...   2018-06-14   \n",
       "4  [{'iso_3166_1': 'AU', 'name': 'Australia'}, {'...   2018-12-07   \n",
       "5  [{'iso_3166_1': 'GB', 'name': 'United Kingdom'...   2018-10-24   \n",
       "6  [{'iso_3166_1': 'CN', 'name': 'China'}, {'iso_...   2018-09-28   \n",
       "7  [{'iso_3166_1': 'CN', 'name': 'China'}, {'iso_...   2018-07-13   \n",
       "8  [{'iso_3166_1': 'US', 'name': 'United States o...   2018-05-10   \n",
       "9  [{'iso_3166_1': 'GB', 'name': 'United Kingdom'...   2018-11-14   \n",
       "\n",
       "        revenue  runtime                                        title  ...  \\\n",
       "0  2.046240e+09    149.0                       Avengers: Infinity War  ...   \n",
       "1  1.346739e+09    134.0                                Black Panther  ...   \n",
       "2  1.303460e+09    129.0               Jurassic World: Fallen Kingdom  ...   \n",
       "3  1.241891e+09    118.0                                Incredibles 2  ...   \n",
       "4  1.143689e+09    144.0                                      Aquaman  ...   \n",
       "5  8.940275e+08    135.0                            Bohemian Rhapsody  ...   \n",
       "6  8.550140e+08    112.0                                        Venom  ...   \n",
       "7  7.910175e+08    148.0                Mission: Impossible - Fallout  ...   \n",
       "8  7.415474e+08    121.0                                   Deadpool 2  ...   \n",
       "9  6.533559e+08    134.0  Fantastic Beasts: The Crimes of Grindelwald  ...   \n",
       "\n",
       "   isComedy  isRomance  isHorror  isMystery  isThriller  isCrime  isHistory  \\\n",
       "0         0          0         0          0           0        0          0   \n",
       "1         0          0         0          0           0        0          0   \n",
       "2         0          0         0          0           0        0          0   \n",
       "3         0          0         0          0           0        0          0   \n",
       "4         0          0         0          0           0        0          0   \n",
       "5         0          0         0          0           0        0          0   \n",
       "6         0          0         0          0           0        0          0   \n",
       "7         0          0         0          0           0        0          0   \n",
       "8         1          0         0          0           0        0          0   \n",
       "9         0          0         0          0           0        0          0   \n",
       "\n",
       "   isWar  isDocumentary  isTV Movie  \n",
       "0      0              0           0  \n",
       "1      0              0           0  \n",
       "2      0              0           0  \n",
       "3      0              0           0  \n",
       "4      0              0           0  \n",
       "5      0              0           0  \n",
       "6      0              0           0  \n",
       "7      0              0           0  \n",
       "8      0              0           0  \n",
       "9      0              0           0  \n",
       "\n",
       "[10 rows x 31 columns]"
      ]
     },
     "execution_count": 75,
     "metadata": {},
     "output_type": "execute_result"
    }
   ],
   "source": [
    "# bryan wuz here...\n",
    "from ast import literal_eval\n",
    "import ast\n",
    "\n",
    "# this insanity parses the 'genres' col and returns a list of the unique genres\n",
    "genre_list = pd.Series(df_index['genres'].apply(lambda x: literal_eval(x)).sum()).apply(lambda x: x['name']).unique().tolist()\n",
    "\n",
    "# for each genre create a binary indicator column: 'isGenre'\n",
    "for genre in genre_list:\n",
    "    df_index['is'+genre] = df_index['genres'].apply(lambda x: genre in x).astype(np.uint8)\n",
    "df_index.head(10)"
   ]
  },
  {
   "cell_type": "code",
   "execution_count": 69,
   "metadata": {},
   "outputs": [
    {
     "data": {
      "text/plain": [
       "\"[{'id': 53, 'name': 'Thriller'}, {'id': 9648, 'name': 'Mystery'}, {'id': 18, 'name': 'Drama'}]\""
      ]
     },
     "execution_count": 69,
     "metadata": {},
     "output_type": "execute_result"
    }
   ],
   "source": [
    "df_index['genres'][65]"
   ]
  },
  {
   "cell_type": "code",
   "execution_count": 66,
   "metadata": {},
   "outputs": [
    {
     "data": {
      "text/plain": [
       "'Searching'"
      ]
     },
     "execution_count": 66,
     "metadata": {},
     "output_type": "execute_result"
    }
   ],
   "source": [
    "df_index['title'][65]"
   ]
  },
  {
   "cell_type": "markdown",
   "metadata": {},
   "source": [
    "Looked at some genres and titles to get an insight of the main movie genre. It looks like the main genre is the first one mentioned in the list of dict so we'll create another column with the main genre"
   ]
  },
  {
   "cell_type": "code",
   "execution_count": 67,
   "metadata": {},
   "outputs": [],
   "source": [
    "# df_test = df_index.head(10)"
   ]
  },
  {
   "cell_type": "code",
   "execution_count": 33,
   "metadata": {},
   "outputs": [
    {
     "data": {
      "text/html": [
       "<div>\n",
       "<style scoped>\n",
       "    .dataframe tbody tr th:only-of-type {\n",
       "        vertical-align: middle;\n",
       "    }\n",
       "\n",
       "    .dataframe tbody tr th {\n",
       "        vertical-align: top;\n",
       "    }\n",
       "\n",
       "    .dataframe thead th {\n",
       "        text-align: right;\n",
       "    }\n",
       "</style>\n",
       "<table border=\"1\" class=\"dataframe\">\n",
       "  <thead>\n",
       "    <tr style=\"text-align: right;\">\n",
       "      <th></th>\n",
       "      <th>budget</th>\n",
       "      <th>genres</th>\n",
       "      <th>original_title</th>\n",
       "      <th>popularity</th>\n",
       "      <th>production_companies</th>\n",
       "      <th>production_countries</th>\n",
       "      <th>release_date</th>\n",
       "      <th>revenue</th>\n",
       "      <th>runtime</th>\n",
       "      <th>title</th>\n",
       "      <th>vote_average</th>\n",
       "      <th>vote_count</th>\n",
       "      <th>ROI</th>\n",
       "    </tr>\n",
       "  </thead>\n",
       "  <tbody>\n",
       "    <tr>\n",
       "      <td>0</td>\n",
       "      <td>300000000.0</td>\n",
       "      <td>[{'id': 12, 'name': 'Adventure'}, {'id': 28, '...</td>\n",
       "      <td>Avengers: Infinity War</td>\n",
       "      <td>76.719</td>\n",
       "      <td>[{'id': 420, 'logo_path': '/hUzeosd33nzE5MCNsZ...</td>\n",
       "      <td>[{'iso_3166_1': 'US', 'name': 'United States o...</td>\n",
       "      <td>2018-04-25</td>\n",
       "      <td>2.046240e+09</td>\n",
       "      <td>149.0</td>\n",
       "      <td>Avengers: Infinity War</td>\n",
       "      <td>8.3</td>\n",
       "      <td>0</td>\n",
       "      <td>6.820799</td>\n",
       "    </tr>\n",
       "    <tr>\n",
       "      <td>1</td>\n",
       "      <td>200000000.0</td>\n",
       "      <td>[{'id': 28, 'name': 'Action'}, {'id': 12, 'nam...</td>\n",
       "      <td>Black Panther</td>\n",
       "      <td>36.027</td>\n",
       "      <td>[{'id': 420, 'logo_path': '/hUzeosd33nzE5MCNsZ...</td>\n",
       "      <td>[{'iso_3166_1': 'US', 'name': 'United States o...</td>\n",
       "      <td>2018-02-13</td>\n",
       "      <td>1.346739e+09</td>\n",
       "      <td>134.0</td>\n",
       "      <td>Black Panther</td>\n",
       "      <td>7.4</td>\n",
       "      <td>0</td>\n",
       "      <td>6.733696</td>\n",
       "    </tr>\n",
       "  </tbody>\n",
       "</table>\n",
       "</div>"
      ],
      "text/plain": [
       "        budget                                             genres  \\\n",
       "0  300000000.0  [{'id': 12, 'name': 'Adventure'}, {'id': 28, '...   \n",
       "1  200000000.0  [{'id': 28, 'name': 'Action'}, {'id': 12, 'nam...   \n",
       "\n",
       "           original_title  popularity  \\\n",
       "0  Avengers: Infinity War      76.719   \n",
       "1           Black Panther      36.027   \n",
       "\n",
       "                                production_companies  \\\n",
       "0  [{'id': 420, 'logo_path': '/hUzeosd33nzE5MCNsZ...   \n",
       "1  [{'id': 420, 'logo_path': '/hUzeosd33nzE5MCNsZ...   \n",
       "\n",
       "                                production_countries release_date  \\\n",
       "0  [{'iso_3166_1': 'US', 'name': 'United States o...   2018-04-25   \n",
       "1  [{'iso_3166_1': 'US', 'name': 'United States o...   2018-02-13   \n",
       "\n",
       "        revenue  runtime                   title  vote_average  vote_count  \\\n",
       "0  2.046240e+09    149.0  Avengers: Infinity War           8.3           0   \n",
       "1  1.346739e+09    134.0           Black Panther           7.4           0   \n",
       "\n",
       "        ROI  \n",
       "0  6.820799  \n",
       "1  6.733696  "
      ]
     },
     "execution_count": 33,
     "metadata": {},
     "output_type": "execute_result"
    }
   ],
   "source": [
    "df_test.head(2)"
   ]
  },
  {
   "cell_type": "code",
   "execution_count": 76,
   "metadata": {},
   "outputs": [
    {
     "data": {
      "text/html": [
       "<div>\n",
       "<style scoped>\n",
       "    .dataframe tbody tr th:only-of-type {\n",
       "        vertical-align: middle;\n",
       "    }\n",
       "\n",
       "    .dataframe tbody tr th {\n",
       "        vertical-align: top;\n",
       "    }\n",
       "\n",
       "    .dataframe thead th {\n",
       "        text-align: right;\n",
       "    }\n",
       "</style>\n",
       "<table border=\"1\" class=\"dataframe\">\n",
       "  <thead>\n",
       "    <tr style=\"text-align: right;\">\n",
       "      <th></th>\n",
       "      <th>budget</th>\n",
       "      <th>genres</th>\n",
       "      <th>original_title</th>\n",
       "      <th>popularity</th>\n",
       "      <th>production_companies</th>\n",
       "      <th>production_countries</th>\n",
       "      <th>release_date</th>\n",
       "      <th>revenue</th>\n",
       "      <th>runtime</th>\n",
       "      <th>title</th>\n",
       "      <th>...</th>\n",
       "      <th>isRomance</th>\n",
       "      <th>isHorror</th>\n",
       "      <th>isMystery</th>\n",
       "      <th>isThriller</th>\n",
       "      <th>isCrime</th>\n",
       "      <th>isHistory</th>\n",
       "      <th>isWar</th>\n",
       "      <th>isDocumentary</th>\n",
       "      <th>isTV Movie</th>\n",
       "      <th>top_genre</th>\n",
       "    </tr>\n",
       "  </thead>\n",
       "  <tbody>\n",
       "    <tr>\n",
       "      <td>0</td>\n",
       "      <td>300000000.0</td>\n",
       "      <td>[{'id': 12, 'name': 'Adventure'}, {'id': 28, '...</td>\n",
       "      <td>Avengers: Infinity War</td>\n",
       "      <td>76.719</td>\n",
       "      <td>[{'id': 420, 'logo_path': '/hUzeosd33nzE5MCNsZ...</td>\n",
       "      <td>[{'iso_3166_1': 'US', 'name': 'United States o...</td>\n",
       "      <td>2018-04-25</td>\n",
       "      <td>2.046240e+09</td>\n",
       "      <td>149.0</td>\n",
       "      <td>Avengers: Infinity War</td>\n",
       "      <td>...</td>\n",
       "      <td>0</td>\n",
       "      <td>0</td>\n",
       "      <td>0</td>\n",
       "      <td>0</td>\n",
       "      <td>0</td>\n",
       "      <td>0</td>\n",
       "      <td>0</td>\n",
       "      <td>0</td>\n",
       "      <td>0</td>\n",
       "      <td>Adventure</td>\n",
       "    </tr>\n",
       "    <tr>\n",
       "      <td>1</td>\n",
       "      <td>200000000.0</td>\n",
       "      <td>[{'id': 28, 'name': 'Action'}, {'id': 12, 'nam...</td>\n",
       "      <td>Black Panther</td>\n",
       "      <td>36.027</td>\n",
       "      <td>[{'id': 420, 'logo_path': '/hUzeosd33nzE5MCNsZ...</td>\n",
       "      <td>[{'iso_3166_1': 'US', 'name': 'United States o...</td>\n",
       "      <td>2018-02-13</td>\n",
       "      <td>1.346739e+09</td>\n",
       "      <td>134.0</td>\n",
       "      <td>Black Panther</td>\n",
       "      <td>...</td>\n",
       "      <td>0</td>\n",
       "      <td>0</td>\n",
       "      <td>0</td>\n",
       "      <td>0</td>\n",
       "      <td>0</td>\n",
       "      <td>0</td>\n",
       "      <td>0</td>\n",
       "      <td>0</td>\n",
       "      <td>0</td>\n",
       "      <td>Action</td>\n",
       "    </tr>\n",
       "    <tr>\n",
       "      <td>2</td>\n",
       "      <td>170000000.0</td>\n",
       "      <td>[{'id': 28, 'name': 'Action'}, {'id': 12, 'nam...</td>\n",
       "      <td>Jurassic World: Fallen Kingdom</td>\n",
       "      <td>34.309</td>\n",
       "      <td>[{'id': 56, 'logo_path': '/cEaxANEisCqeEoRvODv...</td>\n",
       "      <td>[{'iso_3166_1': 'US', 'name': 'United States o...</td>\n",
       "      <td>2018-06-06</td>\n",
       "      <td>1.303460e+09</td>\n",
       "      <td>129.0</td>\n",
       "      <td>Jurassic World: Fallen Kingdom</td>\n",
       "      <td>...</td>\n",
       "      <td>0</td>\n",
       "      <td>0</td>\n",
       "      <td>0</td>\n",
       "      <td>0</td>\n",
       "      <td>0</td>\n",
       "      <td>0</td>\n",
       "      <td>0</td>\n",
       "      <td>0</td>\n",
       "      <td>0</td>\n",
       "      <td>Action</td>\n",
       "    </tr>\n",
       "    <tr>\n",
       "      <td>3</td>\n",
       "      <td>200000000.0</td>\n",
       "      <td>[{'id': 28, 'name': 'Action'}, {'id': 12, 'nam...</td>\n",
       "      <td>Incredibles 2</td>\n",
       "      <td>26.936</td>\n",
       "      <td>[{'id': 2, 'logo_path': '/wdrCwmRnLFJhEoH8GSfy...</td>\n",
       "      <td>[{'iso_3166_1': 'US', 'name': 'United States o...</td>\n",
       "      <td>2018-06-14</td>\n",
       "      <td>1.241891e+09</td>\n",
       "      <td>118.0</td>\n",
       "      <td>Incredibles 2</td>\n",
       "      <td>...</td>\n",
       "      <td>0</td>\n",
       "      <td>0</td>\n",
       "      <td>0</td>\n",
       "      <td>0</td>\n",
       "      <td>0</td>\n",
       "      <td>0</td>\n",
       "      <td>0</td>\n",
       "      <td>0</td>\n",
       "      <td>0</td>\n",
       "      <td>Action</td>\n",
       "    </tr>\n",
       "    <tr>\n",
       "      <td>4</td>\n",
       "      <td>160000000.0</td>\n",
       "      <td>[{'id': 28, 'name': 'Action'}, {'id': 12, 'nam...</td>\n",
       "      <td>Aquaman</td>\n",
       "      <td>28.084</td>\n",
       "      <td>[{'id': 429, 'logo_path': '/2Tc1P3Ac8M479naPp1...</td>\n",
       "      <td>[{'iso_3166_1': 'AU', 'name': 'Australia'}, {'...</td>\n",
       "      <td>2018-12-07</td>\n",
       "      <td>1.143689e+09</td>\n",
       "      <td>144.0</td>\n",
       "      <td>Aquaman</td>\n",
       "      <td>...</td>\n",
       "      <td>0</td>\n",
       "      <td>0</td>\n",
       "      <td>0</td>\n",
       "      <td>0</td>\n",
       "      <td>0</td>\n",
       "      <td>0</td>\n",
       "      <td>0</td>\n",
       "      <td>0</td>\n",
       "      <td>0</td>\n",
       "      <td>Action</td>\n",
       "    </tr>\n",
       "  </tbody>\n",
       "</table>\n",
       "<p>5 rows × 32 columns</p>\n",
       "</div>"
      ],
      "text/plain": [
       "        budget                                             genres  \\\n",
       "0  300000000.0  [{'id': 12, 'name': 'Adventure'}, {'id': 28, '...   \n",
       "1  200000000.0  [{'id': 28, 'name': 'Action'}, {'id': 12, 'nam...   \n",
       "2  170000000.0  [{'id': 28, 'name': 'Action'}, {'id': 12, 'nam...   \n",
       "3  200000000.0  [{'id': 28, 'name': 'Action'}, {'id': 12, 'nam...   \n",
       "4  160000000.0  [{'id': 28, 'name': 'Action'}, {'id': 12, 'nam...   \n",
       "\n",
       "                   original_title  popularity  \\\n",
       "0          Avengers: Infinity War      76.719   \n",
       "1                   Black Panther      36.027   \n",
       "2  Jurassic World: Fallen Kingdom      34.309   \n",
       "3                   Incredibles 2      26.936   \n",
       "4                         Aquaman      28.084   \n",
       "\n",
       "                                production_companies  \\\n",
       "0  [{'id': 420, 'logo_path': '/hUzeosd33nzE5MCNsZ...   \n",
       "1  [{'id': 420, 'logo_path': '/hUzeosd33nzE5MCNsZ...   \n",
       "2  [{'id': 56, 'logo_path': '/cEaxANEisCqeEoRvODv...   \n",
       "3  [{'id': 2, 'logo_path': '/wdrCwmRnLFJhEoH8GSfy...   \n",
       "4  [{'id': 429, 'logo_path': '/2Tc1P3Ac8M479naPp1...   \n",
       "\n",
       "                                production_countries release_date  \\\n",
       "0  [{'iso_3166_1': 'US', 'name': 'United States o...   2018-04-25   \n",
       "1  [{'iso_3166_1': 'US', 'name': 'United States o...   2018-02-13   \n",
       "2  [{'iso_3166_1': 'US', 'name': 'United States o...   2018-06-06   \n",
       "3  [{'iso_3166_1': 'US', 'name': 'United States o...   2018-06-14   \n",
       "4  [{'iso_3166_1': 'AU', 'name': 'Australia'}, {'...   2018-12-07   \n",
       "\n",
       "        revenue  runtime                           title  ...  isRomance  \\\n",
       "0  2.046240e+09    149.0          Avengers: Infinity War  ...          0   \n",
       "1  1.346739e+09    134.0                   Black Panther  ...          0   \n",
       "2  1.303460e+09    129.0  Jurassic World: Fallen Kingdom  ...          0   \n",
       "3  1.241891e+09    118.0                   Incredibles 2  ...          0   \n",
       "4  1.143689e+09    144.0                         Aquaman  ...          0   \n",
       "\n",
       "   isHorror  isMystery  isThriller  isCrime  isHistory  isWar  isDocumentary  \\\n",
       "0         0          0           0        0          0      0              0   \n",
       "1         0          0           0        0          0      0              0   \n",
       "2         0          0           0        0          0      0              0   \n",
       "3         0          0           0        0          0      0              0   \n",
       "4         0          0           0        0          0      0              0   \n",
       "\n",
       "   isTV Movie  top_genre  \n",
       "0           0  Adventure  \n",
       "1           0     Action  \n",
       "2           0     Action  \n",
       "3           0     Action  \n",
       "4           0     Action  \n",
       "\n",
       "[5 rows x 32 columns]"
      ]
     },
     "execution_count": 76,
     "metadata": {},
     "output_type": "execute_result"
    }
   ],
   "source": [
    "df_index['top_genre'] = df_index['genres'].apply(lambda x: ast.literal_eval(x)[0]['name'])\n",
    "df_index.head()"
   ]
  },
  {
   "cell_type": "code",
   "execution_count": 77,
   "metadata": {},
   "outputs": [
    {
     "data": {
      "text/html": [
       "<div>\n",
       "<style scoped>\n",
       "    .dataframe tbody tr th:only-of-type {\n",
       "        vertical-align: middle;\n",
       "    }\n",
       "\n",
       "    .dataframe tbody tr th {\n",
       "        vertical-align: top;\n",
       "    }\n",
       "\n",
       "    .dataframe thead th {\n",
       "        text-align: right;\n",
       "    }\n",
       "</style>\n",
       "<table border=\"1\" class=\"dataframe\">\n",
       "  <thead>\n",
       "    <tr style=\"text-align: right;\">\n",
       "      <th></th>\n",
       "      <th>budget</th>\n",
       "      <th>genres</th>\n",
       "      <th>original_title</th>\n",
       "      <th>popularity</th>\n",
       "      <th>production_companies</th>\n",
       "      <th>production_countries</th>\n",
       "      <th>release_date</th>\n",
       "      <th>revenue</th>\n",
       "      <th>runtime</th>\n",
       "      <th>title</th>\n",
       "      <th>...</th>\n",
       "      <th>isMystery</th>\n",
       "      <th>isThriller</th>\n",
       "      <th>isCrime</th>\n",
       "      <th>isHistory</th>\n",
       "      <th>isWar</th>\n",
       "      <th>isDocumentary</th>\n",
       "      <th>isTV Movie</th>\n",
       "      <th>top_genre</th>\n",
       "      <th>year</th>\n",
       "      <th>month</th>\n",
       "    </tr>\n",
       "  </thead>\n",
       "  <tbody>\n",
       "    <tr>\n",
       "      <td>141</td>\n",
       "      <td>8000000.0</td>\n",
       "      <td>[{'id': 80, 'name': 'Crime'}, {'id': 9648, 'na...</td>\n",
       "      <td>London Fields</td>\n",
       "      <td>9.583</td>\n",
       "      <td>[{'id': 2458, 'logo_path': None, 'name': 'Tart...</td>\n",
       "      <td>[{'iso_3166_1': 'GB', 'name': 'United Kingdom'...</td>\n",
       "      <td>2018-09-20</td>\n",
       "      <td>252676.0</td>\n",
       "      <td>118.0</td>\n",
       "      <td>London Fields</td>\n",
       "      <td>...</td>\n",
       "      <td>1</td>\n",
       "      <td>1</td>\n",
       "      <td>1</td>\n",
       "      <td>0</td>\n",
       "      <td>0</td>\n",
       "      <td>0</td>\n",
       "      <td>0</td>\n",
       "      <td>Crime</td>\n",
       "      <td>2018</td>\n",
       "      <td>9</td>\n",
       "    </tr>\n",
       "    <tr>\n",
       "      <td>143</td>\n",
       "      <td>13444.0</td>\n",
       "      <td>[{'id': 28, 'name': 'Action'}, {'id': 18, 'nam...</td>\n",
       "      <td>RISE 7: Sensation</td>\n",
       "      <td>0.840</td>\n",
       "      <td>[{'id': 118252, 'logo_path': '/lCoZrpEIMwRNIYB...</td>\n",
       "      <td>[{'iso_3166_1': 'US', 'name': 'United States o...</td>\n",
       "      <td>2018-04-14</td>\n",
       "      <td>7666.0</td>\n",
       "      <td>120.0</td>\n",
       "      <td>RISE 7: Sensation</td>\n",
       "      <td>...</td>\n",
       "      <td>0</td>\n",
       "      <td>0</td>\n",
       "      <td>0</td>\n",
       "      <td>0</td>\n",
       "      <td>0</td>\n",
       "      <td>0</td>\n",
       "      <td>0</td>\n",
       "      <td>Action</td>\n",
       "      <td>2018</td>\n",
       "      <td>4</td>\n",
       "    </tr>\n",
       "    <tr>\n",
       "      <td>144</td>\n",
       "      <td>130178.0</td>\n",
       "      <td>[{'id': 28, 'name': 'Action'}, {'id': 878, 'na...</td>\n",
       "      <td>Megalodon</td>\n",
       "      <td>6.942</td>\n",
       "      <td>[{'id': 1311, 'logo_path': '/ic2bTizdzRLDVzAvN...</td>\n",
       "      <td>[{'iso_3166_1': 'US', 'name': 'United States o...</td>\n",
       "      <td>2018-08-13</td>\n",
       "      <td>5303.0</td>\n",
       "      <td>90.0</td>\n",
       "      <td>Megalodon</td>\n",
       "      <td>...</td>\n",
       "      <td>0</td>\n",
       "      <td>0</td>\n",
       "      <td>0</td>\n",
       "      <td>0</td>\n",
       "      <td>0</td>\n",
       "      <td>0</td>\n",
       "      <td>1</td>\n",
       "      <td>Action</td>\n",
       "      <td>2018</td>\n",
       "      <td>8</td>\n",
       "    </tr>\n",
       "    <tr>\n",
       "      <td>145</td>\n",
       "      <td>13000000.0</td>\n",
       "      <td>[{'id': 28, 'name': 'Action'}, {'id': 18, 'nam...</td>\n",
       "      <td>Kickboxer: Retaliation</td>\n",
       "      <td>9.770</td>\n",
       "      <td>[]</td>\n",
       "      <td>[{'iso_3166_1': 'US', 'name': 'United States o...</td>\n",
       "      <td>2018-01-26</td>\n",
       "      <td>4537.0</td>\n",
       "      <td>110.0</td>\n",
       "      <td>Kickboxer: Retaliation</td>\n",
       "      <td>...</td>\n",
       "      <td>0</td>\n",
       "      <td>0</td>\n",
       "      <td>0</td>\n",
       "      <td>0</td>\n",
       "      <td>0</td>\n",
       "      <td>0</td>\n",
       "      <td>0</td>\n",
       "      <td>Action</td>\n",
       "      <td>2018</td>\n",
       "      <td>1</td>\n",
       "    </tr>\n",
       "    <tr>\n",
       "      <td>146</td>\n",
       "      <td>2000000.0</td>\n",
       "      <td>[{'id': 12, 'name': 'Adventure'}, {'id': 18, '...</td>\n",
       "      <td>American Dresser</td>\n",
       "      <td>3.398</td>\n",
       "      <td>[]</td>\n",
       "      <td>[{'iso_3166_1': 'US', 'name': 'United States o...</td>\n",
       "      <td>2018-09-21</td>\n",
       "      <td>2231.0</td>\n",
       "      <td>97.0</td>\n",
       "      <td>American Dresser</td>\n",
       "      <td>...</td>\n",
       "      <td>0</td>\n",
       "      <td>0</td>\n",
       "      <td>0</td>\n",
       "      <td>0</td>\n",
       "      <td>0</td>\n",
       "      <td>0</td>\n",
       "      <td>0</td>\n",
       "      <td>Adventure</td>\n",
       "      <td>2018</td>\n",
       "      <td>9</td>\n",
       "    </tr>\n",
       "  </tbody>\n",
       "</table>\n",
       "<p>5 rows × 34 columns</p>\n",
       "</div>"
      ],
      "text/plain": [
       "         budget                                             genres  \\\n",
       "141   8000000.0  [{'id': 80, 'name': 'Crime'}, {'id': 9648, 'na...   \n",
       "143     13444.0  [{'id': 28, 'name': 'Action'}, {'id': 18, 'nam...   \n",
       "144    130178.0  [{'id': 28, 'name': 'Action'}, {'id': 878, 'na...   \n",
       "145  13000000.0  [{'id': 28, 'name': 'Action'}, {'id': 18, 'nam...   \n",
       "146   2000000.0  [{'id': 12, 'name': 'Adventure'}, {'id': 18, '...   \n",
       "\n",
       "             original_title  popularity  \\\n",
       "141           London Fields       9.583   \n",
       "143       RISE 7: Sensation       0.840   \n",
       "144               Megalodon       6.942   \n",
       "145  Kickboxer: Retaliation       9.770   \n",
       "146        American Dresser       3.398   \n",
       "\n",
       "                                  production_companies  \\\n",
       "141  [{'id': 2458, 'logo_path': None, 'name': 'Tart...   \n",
       "143  [{'id': 118252, 'logo_path': '/lCoZrpEIMwRNIYB...   \n",
       "144  [{'id': 1311, 'logo_path': '/ic2bTizdzRLDVzAvN...   \n",
       "145                                                 []   \n",
       "146                                                 []   \n",
       "\n",
       "                                  production_countries release_date   revenue  \\\n",
       "141  [{'iso_3166_1': 'GB', 'name': 'United Kingdom'...   2018-09-20  252676.0   \n",
       "143  [{'iso_3166_1': 'US', 'name': 'United States o...   2018-04-14    7666.0   \n",
       "144  [{'iso_3166_1': 'US', 'name': 'United States o...   2018-08-13    5303.0   \n",
       "145  [{'iso_3166_1': 'US', 'name': 'United States o...   2018-01-26    4537.0   \n",
       "146  [{'iso_3166_1': 'US', 'name': 'United States o...   2018-09-21    2231.0   \n",
       "\n",
       "     runtime                   title  ...  isMystery  isThriller  isCrime  \\\n",
       "141    118.0           London Fields  ...          1           1        1   \n",
       "143    120.0       RISE 7: Sensation  ...          0           0        0   \n",
       "144     90.0               Megalodon  ...          0           0        0   \n",
       "145    110.0  Kickboxer: Retaliation  ...          0           0        0   \n",
       "146     97.0        American Dresser  ...          0           0        0   \n",
       "\n",
       "     isHistory  isWar  isDocumentary  isTV Movie  top_genre  year  month  \n",
       "141          0      0              0           0      Crime  2018      9  \n",
       "143          0      0              0           0     Action  2018      4  \n",
       "144          0      0              0           1     Action  2018      8  \n",
       "145          0      0              0           0     Action  2018      1  \n",
       "146          0      0              0           0  Adventure  2018      9  \n",
       "\n",
       "[5 rows x 34 columns]"
      ]
     },
     "execution_count": 77,
     "metadata": {},
     "output_type": "execute_result"
    }
   ],
   "source": [
    "df_index['year'] = pd.to_datetime(df_index['release_date']).dt.year\n",
    "df_index['month'] = pd.to_datetime(df_index['release_date']).dt.month\n",
    "df_index.tail()"
   ]
  },
  {
   "cell_type": "code",
   "execution_count": 89,
   "metadata": {},
   "outputs": [
    {
     "data": {
      "text/plain": [
       "<matplotlib.axes._subplots.AxesSubplot at 0x1a1f34f518>"
      ]
     },
     "execution_count": 89,
     "metadata": {},
     "output_type": "execute_result"
    },
    {
     "data": {
      "image/png": "[encoded data removed]",
      "text/plain": [
       "<Figure size 1080x576 with 1 Axes>"
      ]
     },
     "metadata": {
      "needs_background": "light"
     },
     "output_type": "display_data"
    }
   ],
   "source": [
    "df_index.groupby('top_genre')[['revenue']].agg(['min', 'median', 'max', 'skew']).plot(kind='barh', figsize=(15,8))"
   ]
  },
  {
   "cell_type": "code",
   "execution_count": 86,
   "metadata": {
    "scrolled": true
   },
   "outputs": [
    {
     "data": {
      "text/html": [
       "<div>\n",
       "<style scoped>\n",
       "    .dataframe tbody tr th:only-of-type {\n",
       "        vertical-align: middle;\n",
       "    }\n",
       "\n",
       "    .dataframe tbody tr th {\n",
       "        vertical-align: top;\n",
       "    }\n",
       "\n",
       "    .dataframe thead tr th {\n",
       "        text-align: left;\n",
       "    }\n",
       "\n",
       "    .dataframe thead tr:last-of-type th {\n",
       "        text-align: right;\n",
       "    }\n",
       "</style>\n",
       "<table border=\"1\" class=\"dataframe\">\n",
       "  <thead>\n",
       "    <tr>\n",
       "      <th></th>\n",
       "      <th></th>\n",
       "      <th colspan=\"5\" halign=\"left\">revenue</th>\n",
       "    </tr>\n",
       "    <tr>\n",
       "      <th></th>\n",
       "      <th></th>\n",
       "      <th>min</th>\n",
       "      <th>median</th>\n",
       "      <th>max</th>\n",
       "      <th>skew</th>\n",
       "      <th>count</th>\n",
       "    </tr>\n",
       "    <tr>\n",
       "      <th>top_genre</th>\n",
       "      <th>month</th>\n",
       "      <th></th>\n",
       "      <th></th>\n",
       "      <th></th>\n",
       "      <th></th>\n",
       "      <th></th>\n",
       "    </tr>\n",
       "  </thead>\n",
       "  <tbody>\n",
       "    <tr>\n",
       "      <td rowspan=\"5\" valign=\"top\">Action</td>\n",
       "      <td>1</td>\n",
       "      <td>4537.0</td>\n",
       "      <td>100226004.5</td>\n",
       "      <td>2.848816e+08</td>\n",
       "      <td>0.974484</td>\n",
       "      <td>4</td>\n",
       "    </tr>\n",
       "    <tr>\n",
       "      <td>2</td>\n",
       "      <td>5400000.0</td>\n",
       "      <td>676069553.5</td>\n",
       "      <td>1.346739e+09</td>\n",
       "      <td>NaN</td>\n",
       "      <td>2</td>\n",
       "    </tr>\n",
       "    <tr>\n",
       "      <td>3</td>\n",
       "      <td>34017028.0</td>\n",
       "      <td>274650803.0</td>\n",
       "      <td>2.900613e+08</td>\n",
       "      <td>-1.709632</td>\n",
       "      <td>3</td>\n",
       "    </tr>\n",
       "    <tr>\n",
       "      <td>4</td>\n",
       "      <td>7666.0</td>\n",
       "      <td>213126808.0</td>\n",
       "      <td>4.262460e+08</td>\n",
       "      <td>NaN</td>\n",
       "      <td>2</td>\n",
       "    </tr>\n",
       "    <tr>\n",
       "      <td>5</td>\n",
       "      <td>392952373.0</td>\n",
       "      <td>567249893.0</td>\n",
       "      <td>7.415474e+08</td>\n",
       "      <td>NaN</td>\n",
       "      <td>2</td>\n",
       "    </tr>\n",
       "    <tr>\n",
       "      <td>...</td>\n",
       "      <td>...</td>\n",
       "      <td>...</td>\n",
       "      <td>...</td>\n",
       "      <td>...</td>\n",
       "      <td>...</td>\n",
       "      <td>...</td>\n",
       "    </tr>\n",
       "    <tr>\n",
       "      <td rowspan=\"5\" valign=\"top\">Thriller</td>\n",
       "      <td>5</td>\n",
       "      <td>4230000.0</td>\n",
       "      <td>26654000.0</td>\n",
       "      <td>4.907800e+07</td>\n",
       "      <td>NaN</td>\n",
       "      <td>2</td>\n",
       "    </tr>\n",
       "    <tr>\n",
       "      <td>6</td>\n",
       "      <td>12371132.0</td>\n",
       "      <td>12371132.0</td>\n",
       "      <td>1.237113e+07</td>\n",
       "      <td>NaN</td>\n",
       "      <td>1</td>\n",
       "    </tr>\n",
       "    <tr>\n",
       "      <td>7</td>\n",
       "      <td>102084362.0</td>\n",
       "      <td>102084362.0</td>\n",
       "      <td>1.020844e+08</td>\n",
       "      <td>NaN</td>\n",
       "      <td>1</td>\n",
       "    </tr>\n",
       "    <tr>\n",
       "      <td>8</td>\n",
       "      <td>53542417.0</td>\n",
       "      <td>59903817.5</td>\n",
       "      <td>6.626522e+07</td>\n",
       "      <td>NaN</td>\n",
       "      <td>2</td>\n",
       "    </tr>\n",
       "    <tr>\n",
       "      <td>10</td>\n",
       "      <td>8100000.0</td>\n",
       "      <td>31882724.0</td>\n",
       "      <td>2.536880e+08</td>\n",
       "      <td>1.672169</td>\n",
       "      <td>3</td>\n",
       "    </tr>\n",
       "  </tbody>\n",
       "</table>\n",
       "<p>87 rows × 5 columns</p>\n",
       "</div>"
      ],
      "text/plain": [
       "                     revenue                                           \n",
       "                         min       median           max      skew count\n",
       "top_genre month                                                        \n",
       "Action    1           4537.0  100226004.5  2.848816e+08  0.974484     4\n",
       "          2        5400000.0  676069553.5  1.346739e+09       NaN     2\n",
       "          3       34017028.0  274650803.0  2.900613e+08 -1.709632     3\n",
       "          4           7666.0  213126808.0  4.262460e+08       NaN     2\n",
       "          5      392952373.0  567249893.0  7.415474e+08       NaN     2\n",
       "...                      ...          ...           ...       ...   ...\n",
       "Thriller  5        4230000.0   26654000.0  4.907800e+07       NaN     2\n",
       "          6       12371132.0   12371132.0  1.237113e+07       NaN     1\n",
       "          7      102084362.0  102084362.0  1.020844e+08       NaN     1\n",
       "          8       53542417.0   59903817.5  6.626522e+07       NaN     2\n",
       "          10       8100000.0   31882724.0  2.536880e+08  1.672169     3\n",
       "\n",
       "[87 rows x 5 columns]"
      ]
     },
     "execution_count": 86,
     "metadata": {},
     "output_type": "execute_result"
    }
   ],
   "source": [
    "df_index.groupby(['top_genre', 'month'])[['revenue']].agg(['min', 'median', 'max', 'skew', 'count'])"
   ]
  },
  {
   "cell_type": "code",
   "execution_count": null,
   "metadata": {},
   "outputs": [],
   "source": [
    "type(l)"
   ]
  },
  {
   "cell_type": "code",
   "execution_count": null,
   "metadata": {},
   "outputs": [],
   "source": [
    "l[0]"
   ]
  },
  {
   "cell_type": "code",
   "execution_count": 92,
   "metadata": {},
   "outputs": [
    {
     "data": {
      "text/html": [
       "<div>\n",
       "<style scoped>\n",
       "    .dataframe tbody tr th:only-of-type {\n",
       "        vertical-align: middle;\n",
       "    }\n",
       "\n",
       "    .dataframe tbody tr th {\n",
       "        vertical-align: top;\n",
       "    }\n",
       "\n",
       "    .dataframe thead tr th {\n",
       "        text-align: left;\n",
       "    }\n",
       "\n",
       "    .dataframe thead tr:last-of-type th {\n",
       "        text-align: right;\n",
       "    }\n",
       "</style>\n",
       "<table border=\"1\" class=\"dataframe\">\n",
       "  <thead>\n",
       "    <tr>\n",
       "      <th></th>\n",
       "      <th colspan=\"2\" halign=\"left\">revenue</th>\n",
       "    </tr>\n",
       "    <tr>\n",
       "      <th></th>\n",
       "      <th>sum</th>\n",
       "      <th>count</th>\n",
       "    </tr>\n",
       "    <tr>\n",
       "      <th>isAction</th>\n",
       "      <th></th>\n",
       "      <th></th>\n",
       "    </tr>\n",
       "  </thead>\n",
       "  <tbody>\n",
       "    <tr>\n",
       "      <td>0</td>\n",
       "      <td>1.021921e+10</td>\n",
       "      <td>99</td>\n",
       "    </tr>\n",
       "    <tr>\n",
       "      <td>1</td>\n",
       "      <td>1.465099e+10</td>\n",
       "      <td>45</td>\n",
       "    </tr>\n",
       "  </tbody>\n",
       "</table>\n",
       "</div>"
      ],
      "text/plain": [
       "               revenue      \n",
       "                   sum count\n",
       "isAction                    \n",
       "0         1.021921e+10    99\n",
       "1         1.465099e+10    45"
      ]
     },
     "execution_count": 92,
     "metadata": {},
     "output_type": "execute_result"
    }
   ],
   "source": [
    "#see how much action movies made and how many movies were action\n",
    "df_index.groupby('isAction')[['revenue']].agg(['sum','count'])"
   ]
  },
  {
   "cell_type": "code",
   "execution_count": 96,
   "metadata": {},
   "outputs": [
    {
     "ename": "AttributeError",
     "evalue": "'SeriesGroupBy' object has no attribute 'avg'",
     "output_type": "error",
     "traceback": [
      "\u001b[0;31m---------------------------------------------------------------------------\u001b[0m",
      "\u001b[0;31mAttributeError\u001b[0m                            Traceback (most recent call last)",
      "\u001b[0;32m<ipython-input-96-6011b4080497>\u001b[0m in \u001b[0;36m<module>\u001b[0;34m\u001b[0m\n\u001b[0;32m----> 1\u001b[0;31m \u001b[0mdf_index\u001b[0m\u001b[0;34m.\u001b[0m\u001b[0mgroupby\u001b[0m\u001b[0;34m(\u001b[0m\u001b[0;34m'isDrama'\u001b[0m\u001b[0;34m)\u001b[0m\u001b[0;34m[\u001b[0m\u001b[0;34m[\u001b[0m\u001b[0;34m'revenue'\u001b[0m\u001b[0;34m,\u001b[0m \u001b[0;34m'ROI'\u001b[0m\u001b[0;34m]\u001b[0m\u001b[0;34m]\u001b[0m\u001b[0;34m.\u001b[0m\u001b[0magg\u001b[0m\u001b[0;34m(\u001b[0m\u001b[0;34m[\u001b[0m\u001b[0;34m'avg'\u001b[0m\u001b[0;34m,\u001b[0m\u001b[0;34m'count'\u001b[0m\u001b[0;34m]\u001b[0m\u001b[0;34m)\u001b[0m\u001b[0;34m\u001b[0m\u001b[0;34m\u001b[0m\u001b[0m\n\u001b[0m",
      "\u001b[0;32m~/opt/anaconda3/envs/learn-env/lib/python3.6/site-packages/pandas/core/groupby/generic.py\u001b[0m in \u001b[0;36maggregate\u001b[0;34m(self, arg, *args, **kwargs)\u001b[0m\n\u001b[1;32m   1453\u001b[0m     \u001b[0;34m@\u001b[0m\u001b[0mAppender\u001b[0m\u001b[0;34m(\u001b[0m\u001b[0m_shared_docs\u001b[0m\u001b[0;34m[\u001b[0m\u001b[0;34m\"aggregate\"\u001b[0m\u001b[0;34m]\u001b[0m\u001b[0;34m)\u001b[0m\u001b[0;34m\u001b[0m\u001b[0;34m\u001b[0m\u001b[0m\n\u001b[1;32m   1454\u001b[0m     \u001b[0;32mdef\u001b[0m \u001b[0maggregate\u001b[0m\u001b[0;34m(\u001b[0m\u001b[0mself\u001b[0m\u001b[0;34m,\u001b[0m \u001b[0marg\u001b[0m\u001b[0;34m=\u001b[0m\u001b[0;32mNone\u001b[0m\u001b[0;34m,\u001b[0m \u001b[0;34m*\u001b[0m\u001b[0margs\u001b[0m\u001b[0;34m,\u001b[0m \u001b[0;34m**\u001b[0m\u001b[0mkwargs\u001b[0m\u001b[0;34m)\u001b[0m\u001b[0;34m:\u001b[0m\u001b[0;34m\u001b[0m\u001b[0;34m\u001b[0m\u001b[0m\n\u001b[0;32m-> 1455\u001b[0;31m         \u001b[0;32mreturn\u001b[0m \u001b[0msuper\u001b[0m\u001b[0;34m(\u001b[0m\u001b[0;34m)\u001b[0m\u001b[0;34m.\u001b[0m\u001b[0maggregate\u001b[0m\u001b[0;34m(\u001b[0m\u001b[0marg\u001b[0m\u001b[0;34m,\u001b[0m \u001b[0;34m*\u001b[0m\u001b[0margs\u001b[0m\u001b[0;34m,\u001b[0m \u001b[0;34m**\u001b[0m\u001b[0mkwargs\u001b[0m\u001b[0;34m)\u001b[0m\u001b[0;34m\u001b[0m\u001b[0;34m\u001b[0m\u001b[0m\n\u001b[0m\u001b[1;32m   1456\u001b[0m \u001b[0;34m\u001b[0m\u001b[0m\n\u001b[1;32m   1457\u001b[0m     \u001b[0magg\u001b[0m \u001b[0;34m=\u001b[0m \u001b[0maggregate\u001b[0m\u001b[0;34m\u001b[0m\u001b[0;34m\u001b[0m\u001b[0m\n",
      "\u001b[0;32m~/opt/anaconda3/envs/learn-env/lib/python3.6/site-packages/pandas/core/groupby/generic.py\u001b[0m in \u001b[0;36maggregate\u001b[0;34m(self, func, *args, **kwargs)\u001b[0m\n\u001b[1;32m    227\u001b[0m         \u001b[0mfunc\u001b[0m \u001b[0;34m=\u001b[0m \u001b[0m_maybe_mangle_lambdas\u001b[0m\u001b[0;34m(\u001b[0m\u001b[0mfunc\u001b[0m\u001b[0;34m)\u001b[0m\u001b[0;34m\u001b[0m\u001b[0;34m\u001b[0m\u001b[0m\n\u001b[1;32m    228\u001b[0m \u001b[0;34m\u001b[0m\u001b[0m\n\u001b[0;32m--> 229\u001b[0;31m         \u001b[0mresult\u001b[0m\u001b[0;34m,\u001b[0m \u001b[0mhow\u001b[0m \u001b[0;34m=\u001b[0m \u001b[0mself\u001b[0m\u001b[0;34m.\u001b[0m\u001b[0m_aggregate\u001b[0m\u001b[0;34m(\u001b[0m\u001b[0mfunc\u001b[0m\u001b[0;34m,\u001b[0m \u001b[0m_level\u001b[0m\u001b[0;34m=\u001b[0m\u001b[0m_level\u001b[0m\u001b[0;34m,\u001b[0m \u001b[0;34m*\u001b[0m\u001b[0margs\u001b[0m\u001b[0;34m,\u001b[0m \u001b[0;34m**\u001b[0m\u001b[0mkwargs\u001b[0m\u001b[0;34m)\u001b[0m\u001b[0;34m\u001b[0m\u001b[0;34m\u001b[0m\u001b[0m\n\u001b[0m\u001b[1;32m    230\u001b[0m         \u001b[0;32mif\u001b[0m \u001b[0mhow\u001b[0m \u001b[0;32mis\u001b[0m \u001b[0;32mNone\u001b[0m\u001b[0;34m:\u001b[0m\u001b[0;34m\u001b[0m\u001b[0;34m\u001b[0m\u001b[0m\n\u001b[1;32m    231\u001b[0m             \u001b[0;32mreturn\u001b[0m \u001b[0mresult\u001b[0m\u001b[0;34m\u001b[0m\u001b[0;34m\u001b[0m\u001b[0m\n",
      "\u001b[0;32m~/opt/anaconda3/envs/learn-env/lib/python3.6/site-packages/pandas/core/base.py\u001b[0m in \u001b[0;36m_aggregate\u001b[0;34m(self, arg, *args, **kwargs)\u001b[0m\n\u001b[1;32m    562\u001b[0m         \u001b[0;32melif\u001b[0m \u001b[0mis_list_like\u001b[0m\u001b[0;34m(\u001b[0m\u001b[0marg\u001b[0m\u001b[0;34m)\u001b[0m\u001b[0;34m:\u001b[0m\u001b[0;34m\u001b[0m\u001b[0;34m\u001b[0m\u001b[0m\n\u001b[1;32m    563\u001b[0m             \u001b[0;31m# we require a list, but not an 'str'\u001b[0m\u001b[0;34m\u001b[0m\u001b[0;34m\u001b[0m\u001b[0;34m\u001b[0m\u001b[0m\n\u001b[0;32m--> 564\u001b[0;31m             \u001b[0;32mreturn\u001b[0m \u001b[0mself\u001b[0m\u001b[0;34m.\u001b[0m\u001b[0m_aggregate_multiple_funcs\u001b[0m\u001b[0;34m(\u001b[0m\u001b[0marg\u001b[0m\u001b[0;34m,\u001b[0m \u001b[0m_level\u001b[0m\u001b[0;34m=\u001b[0m\u001b[0m_level\u001b[0m\u001b[0;34m,\u001b[0m \u001b[0m_axis\u001b[0m\u001b[0;34m=\u001b[0m\u001b[0m_axis\u001b[0m\u001b[0;34m)\u001b[0m\u001b[0;34m,\u001b[0m \u001b[0;32mNone\u001b[0m\u001b[0;34m\u001b[0m\u001b[0;34m\u001b[0m\u001b[0m\n\u001b[0m\u001b[1;32m    565\u001b[0m         \u001b[0;32melse\u001b[0m\u001b[0;34m:\u001b[0m\u001b[0;34m\u001b[0m\u001b[0;34m\u001b[0m\u001b[0m\n\u001b[1;32m    566\u001b[0m             \u001b[0mresult\u001b[0m \u001b[0;34m=\u001b[0m \u001b[0;32mNone\u001b[0m\u001b[0;34m\u001b[0m\u001b[0;34m\u001b[0m\u001b[0m\n",
      "\u001b[0;32m~/opt/anaconda3/envs/learn-env/lib/python3.6/site-packages/pandas/core/base.py\u001b[0m in \u001b[0;36m_aggregate_multiple_funcs\u001b[0;34m(self, arg, _level, _axis)\u001b[0m\n\u001b[1;32m    607\u001b[0m                 \u001b[0;32mtry\u001b[0m\u001b[0;34m:\u001b[0m\u001b[0;34m\u001b[0m\u001b[0;34m\u001b[0m\u001b[0m\n\u001b[1;32m    608\u001b[0m                     \u001b[0mcolg\u001b[0m \u001b[0;34m=\u001b[0m \u001b[0mself\u001b[0m\u001b[0;34m.\u001b[0m\u001b[0m_gotitem\u001b[0m\u001b[0;34m(\u001b[0m\u001b[0mcol\u001b[0m\u001b[0;34m,\u001b[0m \u001b[0mndim\u001b[0m\u001b[0;34m=\u001b[0m\u001b[0;36m1\u001b[0m\u001b[0;34m,\u001b[0m \u001b[0msubset\u001b[0m\u001b[0;34m=\u001b[0m\u001b[0mobj\u001b[0m\u001b[0;34m.\u001b[0m\u001b[0miloc\u001b[0m\u001b[0;34m[\u001b[0m\u001b[0;34m:\u001b[0m\u001b[0;34m,\u001b[0m \u001b[0mindex\u001b[0m\u001b[0;34m]\u001b[0m\u001b[0;34m)\u001b[0m\u001b[0;34m\u001b[0m\u001b[0;34m\u001b[0m\u001b[0m\n\u001b[0;32m--> 609\u001b[0;31m                     \u001b[0mresults\u001b[0m\u001b[0;34m.\u001b[0m\u001b[0mappend\u001b[0m\u001b[0;34m(\u001b[0m\u001b[0mcolg\u001b[0m\u001b[0;34m.\u001b[0m\u001b[0maggregate\u001b[0m\u001b[0;34m(\u001b[0m\u001b[0marg\u001b[0m\u001b[0;34m)\u001b[0m\u001b[0;34m)\u001b[0m\u001b[0;34m\u001b[0m\u001b[0;34m\u001b[0m\u001b[0m\n\u001b[0m\u001b[1;32m    610\u001b[0m                     \u001b[0mkeys\u001b[0m\u001b[0;34m.\u001b[0m\u001b[0mappend\u001b[0m\u001b[0;34m(\u001b[0m\u001b[0mcol\u001b[0m\u001b[0;34m)\u001b[0m\u001b[0;34m\u001b[0m\u001b[0;34m\u001b[0m\u001b[0m\n\u001b[1;32m    611\u001b[0m                 \u001b[0;32mexcept\u001b[0m \u001b[0;34m(\u001b[0m\u001b[0mTypeError\u001b[0m\u001b[0;34m,\u001b[0m \u001b[0mDataError\u001b[0m\u001b[0;34m)\u001b[0m\u001b[0;34m:\u001b[0m\u001b[0;34m\u001b[0m\u001b[0;34m\u001b[0m\u001b[0m\n",
      "\u001b[0;32m~/opt/anaconda3/envs/learn-env/lib/python3.6/site-packages/pandas/core/groupby/generic.py\u001b[0m in \u001b[0;36maggregate\u001b[0;34m(self, func_or_funcs, *args, **kwargs)\u001b[0m\n\u001b[1;32m    849\u001b[0m             \u001b[0;31m# but not the class list / tuple itself.\u001b[0m\u001b[0;34m\u001b[0m\u001b[0;34m\u001b[0m\u001b[0;34m\u001b[0m\u001b[0m\n\u001b[1;32m    850\u001b[0m             \u001b[0mfunc_or_funcs\u001b[0m \u001b[0;34m=\u001b[0m \u001b[0m_maybe_mangle_lambdas\u001b[0m\u001b[0;34m(\u001b[0m\u001b[0mfunc_or_funcs\u001b[0m\u001b[0;34m)\u001b[0m\u001b[0;34m\u001b[0m\u001b[0;34m\u001b[0m\u001b[0m\n\u001b[0;32m--> 851\u001b[0;31m             \u001b[0mret\u001b[0m \u001b[0;34m=\u001b[0m \u001b[0mself\u001b[0m\u001b[0;34m.\u001b[0m\u001b[0m_aggregate_multiple_funcs\u001b[0m\u001b[0;34m(\u001b[0m\u001b[0mfunc_or_funcs\u001b[0m\u001b[0;34m,\u001b[0m \u001b[0;34m(\u001b[0m\u001b[0m_level\u001b[0m \u001b[0;32mor\u001b[0m \u001b[0;36m0\u001b[0m\u001b[0;34m)\u001b[0m \u001b[0;34m+\u001b[0m \u001b[0;36m1\u001b[0m\u001b[0;34m)\u001b[0m\u001b[0;34m\u001b[0m\u001b[0;34m\u001b[0m\u001b[0m\n\u001b[0m\u001b[1;32m    852\u001b[0m             \u001b[0;32mif\u001b[0m \u001b[0mrelabeling\u001b[0m\u001b[0;34m:\u001b[0m\u001b[0;34m\u001b[0m\u001b[0;34m\u001b[0m\u001b[0m\n\u001b[1;32m    853\u001b[0m                 \u001b[0mret\u001b[0m\u001b[0;34m.\u001b[0m\u001b[0mcolumns\u001b[0m \u001b[0;34m=\u001b[0m \u001b[0mcolumns\u001b[0m\u001b[0;34m\u001b[0m\u001b[0;34m\u001b[0m\u001b[0m\n",
      "\u001b[0;32m~/opt/anaconda3/envs/learn-env/lib/python3.6/site-packages/pandas/core/groupby/generic.py\u001b[0m in \u001b[0;36m_aggregate_multiple_funcs\u001b[0;34m(self, arg, _level)\u001b[0m\n\u001b[1;32m    928\u001b[0m                 \u001b[0mobj\u001b[0m\u001b[0;34m.\u001b[0m\u001b[0m_reset_cache\u001b[0m\u001b[0;34m(\u001b[0m\u001b[0;34m)\u001b[0m\u001b[0;34m\u001b[0m\u001b[0;34m\u001b[0m\u001b[0m\n\u001b[1;32m    929\u001b[0m                 \u001b[0mobj\u001b[0m\u001b[0;34m.\u001b[0m\u001b[0m_selection\u001b[0m \u001b[0;34m=\u001b[0m \u001b[0mname\u001b[0m\u001b[0;34m\u001b[0m\u001b[0;34m\u001b[0m\u001b[0m\n\u001b[0;32m--> 930\u001b[0;31m             \u001b[0mresults\u001b[0m\u001b[0;34m[\u001b[0m\u001b[0mname\u001b[0m\u001b[0;34m]\u001b[0m \u001b[0;34m=\u001b[0m \u001b[0mobj\u001b[0m\u001b[0;34m.\u001b[0m\u001b[0maggregate\u001b[0m\u001b[0;34m(\u001b[0m\u001b[0mfunc\u001b[0m\u001b[0;34m)\u001b[0m\u001b[0;34m\u001b[0m\u001b[0;34m\u001b[0m\u001b[0m\n\u001b[0m\u001b[1;32m    931\u001b[0m \u001b[0;34m\u001b[0m\u001b[0m\n\u001b[1;32m    932\u001b[0m         \u001b[0;32mif\u001b[0m \u001b[0many\u001b[0m\u001b[0;34m(\u001b[0m\u001b[0misinstance\u001b[0m\u001b[0;34m(\u001b[0m\u001b[0mx\u001b[0m\u001b[0;34m,\u001b[0m \u001b[0mDataFrame\u001b[0m\u001b[0;34m)\u001b[0m \u001b[0;32mfor\u001b[0m \u001b[0mx\u001b[0m \u001b[0;32min\u001b[0m \u001b[0mresults\u001b[0m\u001b[0;34m.\u001b[0m\u001b[0mvalues\u001b[0m\u001b[0;34m(\u001b[0m\u001b[0;34m)\u001b[0m\u001b[0;34m)\u001b[0m\u001b[0;34m:\u001b[0m\u001b[0;34m\u001b[0m\u001b[0;34m\u001b[0m\u001b[0m\n",
      "\u001b[0;32m~/opt/anaconda3/envs/learn-env/lib/python3.6/site-packages/pandas/core/groupby/generic.py\u001b[0m in \u001b[0;36maggregate\u001b[0;34m(self, func_or_funcs, *args, **kwargs)\u001b[0m\n\u001b[1;32m    843\u001b[0m \u001b[0;34m\u001b[0m\u001b[0m\n\u001b[1;32m    844\u001b[0m         \u001b[0;32mif\u001b[0m \u001b[0misinstance\u001b[0m\u001b[0;34m(\u001b[0m\u001b[0mfunc_or_funcs\u001b[0m\u001b[0;34m,\u001b[0m \u001b[0mstr\u001b[0m\u001b[0;34m)\u001b[0m\u001b[0;34m:\u001b[0m\u001b[0;34m\u001b[0m\u001b[0;34m\u001b[0m\u001b[0m\n\u001b[0;32m--> 845\u001b[0;31m             \u001b[0;32mreturn\u001b[0m \u001b[0mgetattr\u001b[0m\u001b[0;34m(\u001b[0m\u001b[0mself\u001b[0m\u001b[0;34m,\u001b[0m \u001b[0mfunc_or_funcs\u001b[0m\u001b[0;34m)\u001b[0m\u001b[0;34m(\u001b[0m\u001b[0;34m*\u001b[0m\u001b[0margs\u001b[0m\u001b[0;34m,\u001b[0m \u001b[0;34m**\u001b[0m\u001b[0mkwargs\u001b[0m\u001b[0;34m)\u001b[0m\u001b[0;34m\u001b[0m\u001b[0;34m\u001b[0m\u001b[0m\n\u001b[0m\u001b[1;32m    846\u001b[0m \u001b[0;34m\u001b[0m\u001b[0m\n\u001b[1;32m    847\u001b[0m         \u001b[0;32mif\u001b[0m \u001b[0misinstance\u001b[0m\u001b[0;34m(\u001b[0m\u001b[0mfunc_or_funcs\u001b[0m\u001b[0;34m,\u001b[0m \u001b[0mabc\u001b[0m\u001b[0;34m.\u001b[0m\u001b[0mIterable\u001b[0m\u001b[0;34m)\u001b[0m\u001b[0;34m:\u001b[0m\u001b[0;34m\u001b[0m\u001b[0;34m\u001b[0m\u001b[0m\n",
      "\u001b[0;32m~/opt/anaconda3/envs/learn-env/lib/python3.6/site-packages/pandas/core/groupby/groupby.py\u001b[0m in \u001b[0;36m__getattr__\u001b[0;34m(self, attr)\u001b[0m\n\u001b[1;32m    564\u001b[0m \u001b[0;34m\u001b[0m\u001b[0m\n\u001b[1;32m    565\u001b[0m         raise AttributeError(\n\u001b[0;32m--> 566\u001b[0;31m             \u001b[0;34m\"%r object has no attribute %r\"\u001b[0m \u001b[0;34m%\u001b[0m \u001b[0;34m(\u001b[0m\u001b[0mtype\u001b[0m\u001b[0;34m(\u001b[0m\u001b[0mself\u001b[0m\u001b[0;34m)\u001b[0m\u001b[0;34m.\u001b[0m\u001b[0m__name__\u001b[0m\u001b[0;34m,\u001b[0m \u001b[0mattr\u001b[0m\u001b[0;34m)\u001b[0m\u001b[0;34m\u001b[0m\u001b[0;34m\u001b[0m\u001b[0m\n\u001b[0m\u001b[1;32m    567\u001b[0m         )\n\u001b[1;32m    568\u001b[0m \u001b[0;34m\u001b[0m\u001b[0m\n",
      "\u001b[0;31mAttributeError\u001b[0m: 'SeriesGroupBy' object has no attribute 'avg'"
     ]
    }
   ],
   "source": [
    "df_index.groupby('isDrama')[['revenue', 'ROI']].agg(['','count'])"
   ]
  },
  {
   "cell_type": "code",
   "execution_count": null,
   "metadata": {},
   "outputs": [],
   "source": [
    "# l_of_l = []\n",
    "# #for i in range(len(df_test)):\n",
    "# l= pd.Series(df_test['genres'].apply(lambda x: literal_eval(x)).sum()).apply(lambda x: x['name'])\n",
    "# l_of_l.append(l)\n",
    "# #df_test['genres']"
   ]
  },
  {
   "cell_type": "code",
   "execution_count": 97,
   "metadata": {
    "scrolled": true
   },
   "outputs": [
    {
     "data": {
      "text/plain": [
       "Index(['budget', 'genres', 'original_title', 'popularity',\n",
       "       'production_companies', 'production_countries', 'release_date',\n",
       "       'revenue', 'runtime', 'title', 'vote_average', 'vote_count', 'ROI',\n",
       "       'isAdventure', 'isAction', 'isScience Fiction', 'isFantasy',\n",
       "       'isAnimation', 'isFamily', 'isDrama', 'isMusic', 'isComedy',\n",
       "       'isRomance', 'isHorror', 'isMystery', 'isThriller', 'isCrime',\n",
       "       'isHistory', 'isWar', 'isDocumentary', 'isTV Movie', 'top_genre',\n",
       "       'year', 'month'],\n",
       "      dtype='object')"
      ]
     },
     "execution_count": 97,
     "metadata": {},
     "output_type": "execute_result"
    }
   ],
   "source": [
    "df_index.columns\n"
   ]
  },
  {
   "cell_type": "code",
   "execution_count": 102,
   "metadata": {},
   "outputs": [
    {
     "data": {
      "text/html": [
       "<div>\n",
       "<style scoped>\n",
       "    .dataframe tbody tr th:only-of-type {\n",
       "        vertical-align: middle;\n",
       "    }\n",
       "\n",
       "    .dataframe tbody tr th {\n",
       "        vertical-align: top;\n",
       "    }\n",
       "\n",
       "    .dataframe thead th {\n",
       "        text-align: right;\n",
       "    }\n",
       "</style>\n",
       "<table border=\"1\" class=\"dataframe\">\n",
       "  <thead>\n",
       "    <tr style=\"text-align: right;\">\n",
       "      <th></th>\n",
       "      <th></th>\n",
       "      <th></th>\n",
       "      <th></th>\n",
       "      <th></th>\n",
       "      <th></th>\n",
       "      <th></th>\n",
       "      <th></th>\n",
       "      <th></th>\n",
       "      <th></th>\n",
       "      <th></th>\n",
       "      <th></th>\n",
       "      <th></th>\n",
       "      <th></th>\n",
       "      <th></th>\n",
       "      <th></th>\n",
       "      <th></th>\n",
       "      <th>vote_average</th>\n",
       "      <th>runtime</th>\n",
       "    </tr>\n",
       "    <tr>\n",
       "      <th>isAdventure</th>\n",
       "      <th>isAction</th>\n",
       "      <th>isScience Fiction</th>\n",
       "      <th>isFantasy</th>\n",
       "      <th>isAnimation</th>\n",
       "      <th>isFamily</th>\n",
       "      <th>isDrama</th>\n",
       "      <th>isMusic</th>\n",
       "      <th>isComedy</th>\n",
       "      <th>isRomance</th>\n",
       "      <th>isHorror</th>\n",
       "      <th>isMystery</th>\n",
       "      <th>isThriller</th>\n",
       "      <th>isCrime</th>\n",
       "      <th>isHistory</th>\n",
       "      <th>isWar</th>\n",
       "      <th>isDocumentary</th>\n",
       "      <th></th>\n",
       "      <th></th>\n",
       "    </tr>\n",
       "  </thead>\n",
       "  <tbody>\n",
       "    <tr>\n",
       "      <td rowspan=\"5\" valign=\"top\">0</td>\n",
       "      <td rowspan=\"5\" valign=\"top\">0</td>\n",
       "      <td rowspan=\"5\" valign=\"top\">0</td>\n",
       "      <td rowspan=\"5\" valign=\"top\">0</td>\n",
       "      <td rowspan=\"5\" valign=\"top\">0</td>\n",
       "      <td rowspan=\"5\" valign=\"top\">0</td>\n",
       "      <td rowspan=\"5\" valign=\"top\">0</td>\n",
       "      <td rowspan=\"5\" valign=\"top\">0</td>\n",
       "      <td rowspan=\"5\" valign=\"top\">0</td>\n",
       "      <td rowspan=\"5\" valign=\"top\">0</td>\n",
       "      <td rowspan=\"5\" valign=\"top\">0</td>\n",
       "      <td rowspan=\"4\" valign=\"top\">0</td>\n",
       "      <td rowspan=\"2\" valign=\"top\">0</td>\n",
       "      <td>0</td>\n",
       "      <td>1</td>\n",
       "      <td>0</td>\n",
       "      <td>0</td>\n",
       "      <td>7.000</td>\n",
       "      <td>108.000000</td>\n",
       "    </tr>\n",
       "    <tr>\n",
       "      <td>1</td>\n",
       "      <td>0</td>\n",
       "      <td>0</td>\n",
       "      <td>0</td>\n",
       "      <td>7.600</td>\n",
       "      <td>135.000000</td>\n",
       "    </tr>\n",
       "    <tr>\n",
       "      <td rowspan=\"2\" valign=\"top\">1</td>\n",
       "      <td>0</td>\n",
       "      <td>0</td>\n",
       "      <td>0</td>\n",
       "      <td>0</td>\n",
       "      <td>6.700</td>\n",
       "      <td>131.000000</td>\n",
       "    </tr>\n",
       "    <tr>\n",
       "      <td>1</td>\n",
       "      <td>0</td>\n",
       "      <td>0</td>\n",
       "      <td>0</td>\n",
       "      <td>6.500</td>\n",
       "      <td>129.000000</td>\n",
       "    </tr>\n",
       "    <tr>\n",
       "      <td>1</td>\n",
       "      <td>1</td>\n",
       "      <td>0</td>\n",
       "      <td>0</td>\n",
       "      <td>0</td>\n",
       "      <td>0</td>\n",
       "      <td>6.500</td>\n",
       "      <td>140.000000</td>\n",
       "    </tr>\n",
       "    <tr>\n",
       "      <td>...</td>\n",
       "      <td>...</td>\n",
       "      <td>...</td>\n",
       "      <td>...</td>\n",
       "      <td>...</td>\n",
       "      <td>...</td>\n",
       "      <td>...</td>\n",
       "      <td>...</td>\n",
       "      <td>...</td>\n",
       "      <td>...</td>\n",
       "      <td>...</td>\n",
       "      <td>...</td>\n",
       "      <td>...</td>\n",
       "      <td>...</td>\n",
       "      <td>...</td>\n",
       "      <td>...</td>\n",
       "      <td>...</td>\n",
       "      <td>...</td>\n",
       "      <td>...</td>\n",
       "    </tr>\n",
       "    <tr>\n",
       "      <td rowspan=\"5\" valign=\"top\">1</td>\n",
       "      <td rowspan=\"5\" valign=\"top\">1</td>\n",
       "      <td rowspan=\"5\" valign=\"top\">1</td>\n",
       "      <td rowspan=\"4\" valign=\"top\">0</td>\n",
       "      <td rowspan=\"3\" valign=\"top\">0</td>\n",
       "      <td rowspan=\"3\" valign=\"top\">0</td>\n",
       "      <td rowspan=\"3\" valign=\"top\">0</td>\n",
       "      <td rowspan=\"3\" valign=\"top\">0</td>\n",
       "      <td rowspan=\"2\" valign=\"top\">0</td>\n",
       "      <td rowspan=\"2\" valign=\"top\">0</td>\n",
       "      <td>0</td>\n",
       "      <td>0</td>\n",
       "      <td>0</td>\n",
       "      <td>0</td>\n",
       "      <td>0</td>\n",
       "      <td>0</td>\n",
       "      <td>0</td>\n",
       "      <td>6.975</td>\n",
       "      <td>131.750000</td>\n",
       "    </tr>\n",
       "    <tr>\n",
       "      <td>1</td>\n",
       "      <td>0</td>\n",
       "      <td>1</td>\n",
       "      <td>0</td>\n",
       "      <td>0</td>\n",
       "      <td>0</td>\n",
       "      <td>0</td>\n",
       "      <td>5.300</td>\n",
       "      <td>107.000000</td>\n",
       "    </tr>\n",
       "    <tr>\n",
       "      <td>1</td>\n",
       "      <td>0</td>\n",
       "      <td>0</td>\n",
       "      <td>0</td>\n",
       "      <td>0</td>\n",
       "      <td>0</td>\n",
       "      <td>0</td>\n",
       "      <td>0</td>\n",
       "      <td>0</td>\n",
       "      <td>7.000</td>\n",
       "      <td>119.000000</td>\n",
       "    </tr>\n",
       "    <tr>\n",
       "      <td>1</td>\n",
       "      <td>0</td>\n",
       "      <td>0</td>\n",
       "      <td>0</td>\n",
       "      <td>1</td>\n",
       "      <td>0</td>\n",
       "      <td>0</td>\n",
       "      <td>0</td>\n",
       "      <td>0</td>\n",
       "      <td>0</td>\n",
       "      <td>0</td>\n",
       "      <td>0</td>\n",
       "      <td>0</td>\n",
       "      <td>8.400</td>\n",
       "      <td>117.000000</td>\n",
       "    </tr>\n",
       "    <tr>\n",
       "      <td>1</td>\n",
       "      <td>0</td>\n",
       "      <td>0</td>\n",
       "      <td>0</td>\n",
       "      <td>0</td>\n",
       "      <td>0</td>\n",
       "      <td>0</td>\n",
       "      <td>0</td>\n",
       "      <td>0</td>\n",
       "      <td>0</td>\n",
       "      <td>0</td>\n",
       "      <td>0</td>\n",
       "      <td>0</td>\n",
       "      <td>0</td>\n",
       "      <td>6.500</td>\n",
       "      <td>117.333333</td>\n",
       "    </tr>\n",
       "  </tbody>\n",
       "</table>\n",
       "<p>88 rows × 2 columns</p>\n",
       "</div>"
      ],
      "text/plain": [
       "                                                                                                                                                                              vote_average  \\\n",
       "isAdventure isAction isScience Fiction isFantasy isAnimation isFamily isDrama isMusic isComedy isRomance isHorror isMystery isThriller isCrime isHistory isWar isDocumentary                 \n",
       "0           0        0                 0         0           0        0       0       0        0         0        0         0          0       1         0     0                     7.000   \n",
       "                                                                                                                                       1       0         0     0                     7.600   \n",
       "                                                                                                                            1          0       0         0     0                     6.700   \n",
       "                                                                                                                                       1       0         0     0                     6.500   \n",
       "                                                                                                                  1         1          0       0         0     0                     6.500   \n",
       "...                                                                                                                                                                                    ...   \n",
       "1           1        1                 0         0           0        0       0       0        0         0        0         0          0       0         0     0                     6.975   \n",
       "                                                                                                         1        0         1          0       0         0     0                     5.300   \n",
       "                                                                                      1        0         0        0         0          0       0         0     0                     7.000   \n",
       "                                                 1           0        0       0       1        0         0        0         0          0       0         0     0                     8.400   \n",
       "                                       1         0           0        0       0       0        0         0        0         0          0       0         0     0                     6.500   \n",
       "\n",
       "                                                                                                                                                                                 runtime  \n",
       "isAdventure isAction isScience Fiction isFantasy isAnimation isFamily isDrama isMusic isComedy isRomance isHorror isMystery isThriller isCrime isHistory isWar isDocumentary              \n",
       "0           0        0                 0         0           0        0       0       0        0         0        0         0          0       1         0     0              108.000000  \n",
       "                                                                                                                                       1       0         0     0              135.000000  \n",
       "                                                                                                                            1          0       0         0     0              131.000000  \n",
       "                                                                                                                                       1       0         0     0              129.000000  \n",
       "                                                                                                                  1         1          0       0         0     0              140.000000  \n",
       "...                                                                                                                                                                                  ...  \n",
       "1           1        1                 0         0           0        0       0       0        0         0        0         0          0       0         0     0              131.750000  \n",
       "                                                                                                         1        0         1          0       0         0     0              107.000000  \n",
       "                                                                                      1        0         0        0         0          0       0         0     0              119.000000  \n",
       "                                                 1           0        0       0       1        0         0        0         0          0       0         0     0              117.000000  \n",
       "                                       1         0           0        0       0       0        0         0        0         0          0       0         0     0              117.333333  \n",
       "\n",
       "[88 rows x 2 columns]"
      ]
     },
     "execution_count": 102,
     "metadata": {},
     "output_type": "execute_result"
    }
   ],
   "source": [
    "df = df_index\n",
    "df.groupby(['isAdventure', 'isAction', 'isScience Fiction', 'isFantasy',\n",
    "       'isAnimation', 'isFamily', 'isDrama', 'isMusic', 'isComedy',\n",
    "       'isRomance', 'isHorror', 'isMystery', 'isThriller', 'isCrime',\n",
    "       'isHistory', 'isWar', 'isDocumentary'])[['vote_average', 'runtime']].mean()"
   ]
  },
  {
   "cell_type": "code",
   "execution_count": 118,
   "metadata": {},
   "outputs": [],
   "source": [
    "x = df[['top_genre']]"
   ]
  },
  {
   "cell_type": "code",
   "execution_count": 119,
   "metadata": {},
   "outputs": [],
   "source": [
    "y = df[['revenue', 'runtime']]"
   ]
  },
  {
   "cell_type": "code",
   "execution_count": 120,
   "metadata": {},
   "outputs": [],
   "source": [
    "import matplotlib\n",
    "matplotlib.use('Agg')\n",
    "import matplotlib.pyplot as plt\n",
    "matplotlib.style.use('ggplot')\n",
    "import seaborn as sns\n"
   ]
  },
  {
   "cell_type": "code",
   "execution_count": 123,
   "metadata": {},
   "outputs": [
    {
     "ename": "IndexError",
     "evalue": "boolean index did not match indexed array along dimension 1; dimension is 1 but corresponding boolean dimension is 2",
     "output_type": "error",
     "traceback": [
      "\u001b[0;31m---------------------------------------------------------------------------\u001b[0m",
      "\u001b[0;31mIndexError\u001b[0m                                Traceback (most recent call last)",
      "\u001b[0;32m<ipython-input-123-610607e5937b>\u001b[0m in \u001b[0;36m<module>\u001b[0;34m\u001b[0m\n\u001b[0;32m----> 1\u001b[0;31m \u001b[0msns\u001b[0m\u001b[0;34m.\u001b[0m\u001b[0mjointplot\u001b[0m\u001b[0;34m(\u001b[0m\u001b[0mx\u001b[0m\u001b[0;34m=\u001b[0m\u001b[0mx\u001b[0m\u001b[0;34m,\u001b[0m \u001b[0my\u001b[0m\u001b[0;34m=\u001b[0m\u001b[0my\u001b[0m\u001b[0;34m,\u001b[0m \u001b[0mdata\u001b[0m\u001b[0;34m=\u001b[0m\u001b[0mdf\u001b[0m\u001b[0;34m)\u001b[0m\u001b[0;34m\u001b[0m\u001b[0;34m\u001b[0m\u001b[0m\n\u001b[0m",
      "\u001b[0;32m~/opt/anaconda3/envs/learn-env/lib/python3.6/site-packages/seaborn/axisgrid.py\u001b[0m in \u001b[0;36mjointplot\u001b[0;34m(x, y, data, kind, stat_func, color, height, ratio, space, dropna, xlim, ylim, joint_kws, marginal_kws, annot_kws, **kwargs)\u001b[0m\n\u001b[1;32m   2282\u001b[0m     grid = JointGrid(x, y, data, dropna=dropna,\n\u001b[1;32m   2283\u001b[0m                      \u001b[0mheight\u001b[0m\u001b[0;34m=\u001b[0m\u001b[0mheight\u001b[0m\u001b[0;34m,\u001b[0m \u001b[0mratio\u001b[0m\u001b[0;34m=\u001b[0m\u001b[0mratio\u001b[0m\u001b[0;34m,\u001b[0m \u001b[0mspace\u001b[0m\u001b[0;34m=\u001b[0m\u001b[0mspace\u001b[0m\u001b[0;34m,\u001b[0m\u001b[0;34m\u001b[0m\u001b[0;34m\u001b[0m\u001b[0m\n\u001b[0;32m-> 2284\u001b[0;31m                      xlim=xlim, ylim=ylim)\n\u001b[0m\u001b[1;32m   2285\u001b[0m \u001b[0;34m\u001b[0m\u001b[0m\n\u001b[1;32m   2286\u001b[0m     \u001b[0;31m# Plot the data using the grid\u001b[0m\u001b[0;34m\u001b[0m\u001b[0;34m\u001b[0m\u001b[0;34m\u001b[0m\u001b[0m\n",
      "\u001b[0;32m~/opt/anaconda3/envs/learn-env/lib/python3.6/site-packages/seaborn/axisgrid.py\u001b[0m in \u001b[0;36m__init__\u001b[0;34m(self, x, y, data, height, ratio, space, dropna, xlim, ylim, size)\u001b[0m\n\u001b[1;32m   1724\u001b[0m         \u001b[0;32mif\u001b[0m \u001b[0mdropna\u001b[0m\u001b[0;34m:\u001b[0m\u001b[0;34m\u001b[0m\u001b[0;34m\u001b[0m\u001b[0m\n\u001b[1;32m   1725\u001b[0m             \u001b[0mnot_na\u001b[0m \u001b[0;34m=\u001b[0m \u001b[0mpd\u001b[0m\u001b[0;34m.\u001b[0m\u001b[0mnotnull\u001b[0m\u001b[0;34m(\u001b[0m\u001b[0mx_array\u001b[0m\u001b[0;34m)\u001b[0m \u001b[0;34m&\u001b[0m \u001b[0mpd\u001b[0m\u001b[0;34m.\u001b[0m\u001b[0mnotnull\u001b[0m\u001b[0;34m(\u001b[0m\u001b[0my_array\u001b[0m\u001b[0;34m)\u001b[0m\u001b[0;34m\u001b[0m\u001b[0;34m\u001b[0m\u001b[0m\n\u001b[0;32m-> 1726\u001b[0;31m             \u001b[0mx_array\u001b[0m \u001b[0;34m=\u001b[0m \u001b[0mx_array\u001b[0m\u001b[0;34m[\u001b[0m\u001b[0mnot_na\u001b[0m\u001b[0;34m]\u001b[0m\u001b[0;34m\u001b[0m\u001b[0;34m\u001b[0m\u001b[0m\n\u001b[0m\u001b[1;32m   1727\u001b[0m             \u001b[0my_array\u001b[0m \u001b[0;34m=\u001b[0m \u001b[0my_array\u001b[0m\u001b[0;34m[\u001b[0m\u001b[0mnot_na\u001b[0m\u001b[0;34m]\u001b[0m\u001b[0;34m\u001b[0m\u001b[0;34m\u001b[0m\u001b[0m\n\u001b[1;32m   1728\u001b[0m \u001b[0;34m\u001b[0m\u001b[0m\n",
      "\u001b[0;31mIndexError\u001b[0m: boolean index did not match indexed array along dimension 1; dimension is 1 but corresponding boolean dimension is 2"
     ]
    },
    {
     "data": {
      "image/png": "[encoded data removed]",
      "text/plain": [
       "<Figure size 432x432 with 3 Axes>"
      ]
     },
     "metadata": {},
     "output_type": "display_data"
    }
   ],
   "source": [
    "sns.jointplot(x=x, y=y, data=df)"
   ]
  },
  {
   "cell_type": "code",
   "execution_count": 122,
   "metadata": {},
   "outputs": [
    {
     "data": {
      "text/plain": [
       "<matplotlib.axes._subplots.AxesSubplot at 0x1a20096fd0>"
      ]
     },
     "execution_count": 122,
     "metadata": {},
     "output_type": "execute_result"
    },
    {
     "data": {
      "image/png": "[encoded data removed]",
      "text/plain": [
       "<Figure size 432x288 with 1 Axes>"
      ]
     },
     "metadata": {},
     "output_type": "display_data"
    }
   ],
   "source": [
    "df['month'].hist()"
   ]
  },
  {
   "cell_type": "code",
   "execution_count": 124,
   "metadata": {},
   "outputs": [],
   "source": [
    "import plotly.express as px\n"
   ]
  },
  {
   "cell_type": "code",
   "execution_count": 128,
   "metadata": {},
   "outputs": [
    {
     "data": {
      "application/vnd.plotly.v1+json": {
       "config": {
        "plotlyServerURL": "https://plot.ly"
       },
       "data": [
        {
         "alignmentgroup": "True",
         "bingroup": "x",
         "hoverlabel": {
          "namelength": 0
         },
         "hovertemplate": "month=%{x}<br>count=%{y}",
         "legendgroup": "",
         "marker": {
          "color": "#636efa"
         },
         "name": "",
         "offsetgroup": "",
         "orientation": "v",
         "showlegend": false,
         "type": "histogram",
         "x": [
          4,
          2,
          6,
          6,
          12,
          10,
          9,
          7,
          5,
          11,
          7,
          3,
          11,
          11,
          12,
          10,
          4,
          5,
          12,
          1,
          9,
          2,
          12,
          4,
          11,
          8,
          6,
          7,
          3,
          1,
          3,
          10,
          8,
          12,
          7,
          1,
          9,
          9,
          2,
          11,
          7,
          3,
          1,
          2,
          11,
          7,
          10,
          6,
          8,
          4,
          3,
          10,
          5,
          3,
          11,
          1,
          6,
          5,
          6,
          5,
          11,
          11,
          11,
          1,
          12,
          8,
          3,
          5,
          2,
          10,
          2,
          8,
          1,
          4,
          5,
          9,
          7,
          2,
          11,
          7,
          11,
          12,
          5,
          12,
          8,
          3,
          3,
          8,
          9,
          10,
          9,
          10,
          10,
          7,
          8,
          9,
          2,
          3,
          3,
          1,
          12,
          6,
          4,
          4,
          10,
          6,
          8,
          1,
          11,
          2,
          1,
          12,
          6,
          6,
          8,
          8,
          7,
          10,
          10,
          10,
          2,
          10,
          2,
          4,
          6,
          9,
          6,
          5,
          1,
          6,
          5,
          4,
          6,
          7,
          10,
          9,
          7,
          9,
          8,
          9,
          4,
          8,
          1,
          9
         ],
         "xaxis": "x",
         "yaxis": "y"
        }
       ],
       "layout": {
        "barmode": "relative",
        "height": 600,
        "legend": {
         "tracegroupgap": 0
        },
        "margin": {
         "t": 60
        },
        "template": {
         "data": {
          "bar": [
           {
            "error_x": {
             "color": "#2a3f5f"
            },
            "error_y": {
             "color": "#2a3f5f"
            },
            "marker": {
             "line": {
              "color": "#E5ECF6",
              "width": 0.5
             }
            },
            "type": "bar"
           }
          ],
          "barpolar": [
           {
            "marker": {
             "line": {
              "color": "#E5ECF6",
              "width": 0.5
             }
            },
            "type": "barpolar"
           }
          ],
          "carpet": [
           {
            "aaxis": {
             "endlinecolor": "#2a3f5f",
             "gridcolor": "white",
             "linecolor": "white",
             "minorgridcolor": "white",
             "startlinecolor": "#2a3f5f"
            },
            "baxis": {
             "endlinecolor": "#2a3f5f",
             "gridcolor": "white",
             "linecolor": "white",
             "minorgridcolor": "white",
             "startlinecolor": "#2a3f5f"
            },
            "type": "carpet"
           }
          ],
          "choropleth": [
           {
            "colorbar": {
             "outlinewidth": 0,
             "ticks": ""
            },
            "type": "choropleth"
           }
          ],
          "contour": [
           {
            "colorbar": {
             "outlinewidth": 0,
             "ticks": ""
            },
            "colorscale": [
             [
              0,
              "#0d0887"
             ],
             [
              0.1111111111111111,
              "#46039f"
             ],
             [
              0.2222222222222222,
              "#7201a8"
             ],
             [
              0.3333333333333333,
              "#9c179e"
             ],
             [
              0.4444444444444444,
              "#bd3786"
             ],
             [
              0.5555555555555556,
              "#d8576b"
             ],
             [
              0.6666666666666666,
              "#ed7953"
             ],
             [
              0.7777777777777778,
              "#fb9f3a"
             ],
             [
              0.8888888888888888,
              "#fdca26"
             ],
             [
              1,
              "#f0f921"
             ]
            ],
            "type": "contour"
           }
          ],
          "contourcarpet": [
           {
            "colorbar": {
             "outlinewidth": 0,
             "ticks": ""
            },
            "type": "contourcarpet"
           }
          ],
          "heatmap": [
           {
            "colorbar": {
             "outlinewidth": 0,
             "ticks": ""
            },
            "colorscale": [
             [
              0,
              "#0d0887"
             ],
             [
              0.1111111111111111,
              "#46039f"
             ],
             [
              0.2222222222222222,
              "#7201a8"
             ],
             [
              0.3333333333333333,
              "#9c179e"
             ],
             [
              0.4444444444444444,
              "#bd3786"
             ],
             [
              0.5555555555555556,
              "#d8576b"
             ],
             [
              0.6666666666666666,
              "#ed7953"
             ],
             [
              0.7777777777777778,
              "#fb9f3a"
             ],
             [
              0.8888888888888888,
              "#fdca26"
             ],
             [
              1,
              "#f0f921"
             ]
            ],
            "type": "heatmap"
           }
          ],
          "heatmapgl": [
           {
            "colorbar": {
             "outlinewidth": 0,
             "ticks": ""
            },
            "colorscale": [
             [
              0,
              "#0d0887"
             ],
             [
              0.1111111111111111,
              "#46039f"
             ],
             [
              0.2222222222222222,
              "#7201a8"
             ],
             [
              0.3333333333333333,
              "#9c179e"
             ],
             [
              0.4444444444444444,
              "#bd3786"
             ],
             [
              0.5555555555555556,
              "#d8576b"
             ],
             [
              0.6666666666666666,
              "#ed7953"
             ],
             [
              0.7777777777777778,
              "#fb9f3a"
             ],
             [
              0.8888888888888888,
              "#fdca26"
             ],
             [
              1,
              "#f0f921"
             ]
            ],
            "type": "heatmapgl"
           }
          ],
          "histogram": [
           {
            "marker": {
             "colorbar": {
              "outlinewidth": 0,
              "ticks": ""
             }
            },
            "type": "histogram"
           }
          ],
          "histogram2d": [
           {
            "colorbar": {
             "outlinewidth": 0,
             "ticks": ""
            },
            "colorscale": [
             [
              0,
              "#0d0887"
             ],
             [
              0.1111111111111111,
              "#46039f"
             ],
             [
              0.2222222222222222,
              "#7201a8"
             ],
             [
              0.3333333333333333,
              "#9c179e"
             ],
             [
              0.4444444444444444,
              "#bd3786"
             ],
             [
              0.5555555555555556,
              "#d8576b"
             ],
             [
              0.6666666666666666,
              "#ed7953"
             ],
             [
              0.7777777777777778,
              "#fb9f3a"
             ],
             [
              0.8888888888888888,
              "#fdca26"
             ],
             [
              1,
              "#f0f921"
             ]
            ],
            "type": "histogram2d"
           }
          ],
          "histogram2dcontour": [
           {
            "colorbar": {
             "outlinewidth": 0,
             "ticks": ""
            },
            "colorscale": [
             [
              0,
              "#0d0887"
             ],
             [
              0.1111111111111111,
              "#46039f"
             ],
             [
              0.2222222222222222,
              "#7201a8"
             ],
             [
              0.3333333333333333,
              "#9c179e"
             ],
             [
              0.4444444444444444,
              "#bd3786"
             ],
             [
              0.5555555555555556,
              "#d8576b"
             ],
             [
              0.6666666666666666,
              "#ed7953"
             ],
             [
              0.7777777777777778,
              "#fb9f3a"
             ],
             [
              0.8888888888888888,
              "#fdca26"
             ],
             [
              1,
              "#f0f921"
             ]
            ],
            "type": "histogram2dcontour"
           }
          ],
          "mesh3d": [
           {
            "colorbar": {
             "outlinewidth": 0,
             "ticks": ""
            },
            "type": "mesh3d"
           }
          ],
          "parcoords": [
           {
            "line": {
             "colorbar": {
              "outlinewidth": 0,
              "ticks": ""
             }
            },
            "type": "parcoords"
           }
          ],
          "scatter": [
           {
            "marker": {
             "colorbar": {
              "outlinewidth": 0,
              "ticks": ""
             }
            },
            "type": "scatter"
           }
          ],
          "scatter3d": [
           {
            "line": {
             "colorbar": {
              "outlinewidth": 0,
              "ticks": ""
             }
            },
            "marker": {
             "colorbar": {
              "outlinewidth": 0,
              "ticks": ""
             }
            },
            "type": "scatter3d"
           }
          ],
          "scattercarpet": [
           {
            "marker": {
             "colorbar": {
              "outlinewidth": 0,
              "ticks": ""
             }
            },
            "type": "scattercarpet"
           }
          ],
          "scattergeo": [
           {
            "marker": {
             "colorbar": {
              "outlinewidth": 0,
              "ticks": ""
             }
            },
            "type": "scattergeo"
           }
          ],
          "scattergl": [
           {
            "marker": {
             "colorbar": {
              "outlinewidth": 0,
              "ticks": ""
             }
            },
            "type": "scattergl"
           }
          ],
          "scattermapbox": [
           {
            "marker": {
             "colorbar": {
              "outlinewidth": 0,
              "ticks": ""
             }
            },
            "type": "scattermapbox"
           }
          ],
          "scatterpolar": [
           {
            "marker": {
             "colorbar": {
              "outlinewidth": 0,
              "ticks": ""
             }
            },
            "type": "scatterpolar"
           }
          ],
          "scatterpolargl": [
           {
            "marker": {
             "colorbar": {
              "outlinewidth": 0,
              "ticks": ""
             }
            },
            "type": "scatterpolargl"
           }
          ],
          "scatterternary": [
           {
            "marker": {
             "colorbar": {
              "outlinewidth": 0,
              "ticks": ""
             }
            },
            "type": "scatterternary"
           }
          ],
          "surface": [
           {
            "colorbar": {
             "outlinewidth": 0,
             "ticks": ""
            },
            "colorscale": [
             [
              0,
              "#0d0887"
             ],
             [
              0.1111111111111111,
              "#46039f"
             ],
             [
              0.2222222222222222,
              "#7201a8"
             ],
             [
              0.3333333333333333,
              "#9c179e"
             ],
             [
              0.4444444444444444,
              "#bd3786"
             ],
             [
              0.5555555555555556,
              "#d8576b"
             ],
             [
              0.6666666666666666,
              "#ed7953"
             ],
             [
              0.7777777777777778,
              "#fb9f3a"
             ],
             [
              0.8888888888888888,
              "#fdca26"
             ],
             [
              1,
              "#f0f921"
             ]
            ],
            "type": "surface"
           }
          ],
          "table": [
           {
            "cells": {
             "fill": {
              "color": "#EBF0F8"
             },
             "line": {
              "color": "white"
             }
            },
            "header": {
             "fill": {
              "color": "#C8D4E3"
             },
             "line": {
              "color": "white"
             }
            },
            "type": "table"
           }
          ]
         },
         "layout": {
          "annotationdefaults": {
           "arrowcolor": "#2a3f5f",
           "arrowhead": 0,
           "arrowwidth": 1
          },
          "colorscale": {
           "diverging": [
            [
             0,
             "#8e0152"
            ],
            [
             0.1,
             "#c51b7d"
            ],
            [
             0.2,
             "#de77ae"
            ],
            [
             0.3,
             "#f1b6da"
            ],
            [
             0.4,
             "#fde0ef"
            ],
            [
             0.5,
             "#f7f7f7"
            ],
            [
             0.6,
             "#e6f5d0"
            ],
            [
             0.7,
             "#b8e186"
            ],
            [
             0.8,
             "#7fbc41"
            ],
            [
             0.9,
             "#4d9221"
            ],
            [
             1,
             "#276419"
            ]
           ],
           "sequential": [
            [
             0,
             "#0d0887"
            ],
            [
             0.1111111111111111,
             "#46039f"
            ],
            [
             0.2222222222222222,
             "#7201a8"
            ],
            [
             0.3333333333333333,
             "#9c179e"
            ],
            [
             0.4444444444444444,
             "#bd3786"
            ],
            [
             0.5555555555555556,
             "#d8576b"
            ],
            [
             0.6666666666666666,
             "#ed7953"
            ],
            [
             0.7777777777777778,
             "#fb9f3a"
            ],
            [
             0.8888888888888888,
             "#fdca26"
            ],
            [
             1,
             "#f0f921"
            ]
           ],
           "sequentialminus": [
            [
             0,
             "#0d0887"
            ],
            [
             0.1111111111111111,
             "#46039f"
            ],
            [
             0.2222222222222222,
             "#7201a8"
            ],
            [
             0.3333333333333333,
             "#9c179e"
            ],
            [
             0.4444444444444444,
             "#bd3786"
            ],
            [
             0.5555555555555556,
             "#d8576b"
            ],
            [
             0.6666666666666666,
             "#ed7953"
            ],
            [
             0.7777777777777778,
             "#fb9f3a"
            ],
            [
             0.8888888888888888,
             "#fdca26"
            ],
            [
             1,
             "#f0f921"
            ]
           ]
          },
          "colorway": [
           "#636efa",
           "#EF553B",
           "#00cc96",
           "#ab63fa",
           "#FFA15A",
           "#19d3f3",
           "#FF6692",
           "#B6E880",
           "#FF97FF",
           "#FECB52"
          ],
          "font": {
           "color": "#2a3f5f"
          },
          "geo": {
           "bgcolor": "white",
           "lakecolor": "white",
           "landcolor": "#E5ECF6",
           "showlakes": true,
           "showland": true,
           "subunitcolor": "white"
          },
          "hoverlabel": {
           "align": "left"
          },
          "hovermode": "closest",
          "mapbox": {
           "style": "light"
          },
          "paper_bgcolor": "white",
          "plot_bgcolor": "#E5ECF6",
          "polar": {
           "angularaxis": {
            "gridcolor": "white",
            "linecolor": "white",
            "ticks": ""
           },
           "bgcolor": "#E5ECF6",
           "radialaxis": {
            "gridcolor": "white",
            "linecolor": "white",
            "ticks": ""
           }
          },
          "scene": {
           "xaxis": {
            "backgroundcolor": "#E5ECF6",
            "gridcolor": "white",
            "gridwidth": 2,
            "linecolor": "white",
            "showbackground": true,
            "ticks": "",
            "zerolinecolor": "white"
           },
           "yaxis": {
            "backgroundcolor": "#E5ECF6",
            "gridcolor": "white",
            "gridwidth": 2,
            "linecolor": "white",
            "showbackground": true,
            "ticks": "",
            "zerolinecolor": "white"
           },
           "zaxis": {
            "backgroundcolor": "#E5ECF6",
            "gridcolor": "white",
            "gridwidth": 2,
            "linecolor": "white",
            "showbackground": true,
            "ticks": "",
            "zerolinecolor": "white"
           }
          },
          "shapedefaults": {
           "line": {
            "color": "#2a3f5f"
           }
          },
          "ternary": {
           "aaxis": {
            "gridcolor": "white",
            "linecolor": "white",
            "ticks": ""
           },
           "baxis": {
            "gridcolor": "white",
            "linecolor": "white",
            "ticks": ""
           },
           "bgcolor": "#E5ECF6",
           "caxis": {
            "gridcolor": "white",
            "linecolor": "white",
            "ticks": ""
           }
          },
          "title": {
           "x": 0.05
          },
          "xaxis": {
           "automargin": true,
           "gridcolor": "white",
           "linecolor": "white",
           "ticks": "",
           "zerolinecolor": "white",
           "zerolinewidth": 2
          },
          "yaxis": {
           "automargin": true,
           "gridcolor": "white",
           "linecolor": "white",
           "ticks": "",
           "zerolinecolor": "white",
           "zerolinewidth": 2
          }
         }
        },
        "xaxis": {
         "anchor": "y",
         "domain": [
          0,
          0.98
         ],
         "title": {
          "text": "month"
         }
        },
        "yaxis": {
         "anchor": "x",
         "domain": [
          0,
          1
         ],
         "title": {
          "text": "count"
         }
        }
       }
      },
      "text/html": [
       "<div>\n",
       "        \n",
       "        \n",
       "            <div id=\"1f77dac3-f081-43fc-ab5a-bde197c1b136\" class=\"plotly-graph-div\" style=\"height:600px; width:100%;\"></div>\n",
       "            <script type=\"text/javascript\">\n",
       "                require([\"plotly\"], function(Plotly) {\n",
       "                    window.PLOTLYENV=window.PLOTLYENV || {};\n",
       "                    \n",
       "                if (document.getElementById(\"1f77dac3-f081-43fc-ab5a-bde197c1b136\")) {\n",
       "                    Plotly.newPlot(\n",
       "                        '1f77dac3-f081-43fc-ab5a-bde197c1b136',\n",
       "                        [{\"alignmentgroup\": \"True\", \"bingroup\": \"x\", \"hoverlabel\": {\"namelength\": 0}, \"hovertemplate\": \"month=%{x}<br>count=%{y}\", \"legendgroup\": \"\", \"marker\": {\"color\": \"#636efa\"}, \"name\": \"\", \"offsetgroup\": \"\", \"orientation\": \"v\", \"showlegend\": false, \"type\": \"histogram\", \"x\": [4, 2, 6, 6, 12, 10, 9, 7, 5, 11, 7, 3, 11, 11, 12, 10, 4, 5, 12, 1, 9, 2, 12, 4, 11, 8, 6, 7, 3, 1, 3, 10, 8, 12, 7, 1, 9, 9, 2, 11, 7, 3, 1, 2, 11, 7, 10, 6, 8, 4, 3, 10, 5, 3, 11, 1, 6, 5, 6, 5, 11, 11, 11, 1, 12, 8, 3, 5, 2, 10, 2, 8, 1, 4, 5, 9, 7, 2, 11, 7, 11, 12, 5, 12, 8, 3, 3, 8, 9, 10, 9, 10, 10, 7, 8, 9, 2, 3, 3, 1, 12, 6, 4, 4, 10, 6, 8, 1, 11, 2, 1, 12, 6, 6, 8, 8, 7, 10, 10, 10, 2, 10, 2, 4, 6, 9, 6, 5, 1, 6, 5, 4, 6, 7, 10, 9, 7, 9, 8, 9, 4, 8, 1, 9], \"xaxis\": \"x\", \"yaxis\": \"y\"}],\n",
       "                        {\"barmode\": \"relative\", \"height\": 600, \"legend\": {\"tracegroupgap\": 0}, \"margin\": {\"t\": 60}, \"template\": {\"data\": {\"bar\": [{\"error_x\": {\"color\": \"#2a3f5f\"}, \"error_y\": {\"color\": \"#2a3f5f\"}, \"marker\": {\"line\": {\"color\": \"#E5ECF6\", \"width\": 0.5}}, \"type\": \"bar\"}], \"barpolar\": [{\"marker\": {\"line\": {\"color\": \"#E5ECF6\", \"width\": 0.5}}, \"type\": \"barpolar\"}], \"carpet\": [{\"aaxis\": {\"endlinecolor\": \"#2a3f5f\", \"gridcolor\": \"white\", \"linecolor\": \"white\", \"minorgridcolor\": \"white\", \"startlinecolor\": \"#2a3f5f\"}, \"baxis\": {\"endlinecolor\": \"#2a3f5f\", \"gridcolor\": \"white\", \"linecolor\": \"white\", \"minorgridcolor\": \"white\", \"startlinecolor\": \"#2a3f5f\"}, \"type\": \"carpet\"}], \"choropleth\": [{\"colorbar\": {\"outlinewidth\": 0, \"ticks\": \"\"}, \"type\": \"choropleth\"}], \"contour\": [{\"colorbar\": {\"outlinewidth\": 0, \"ticks\": \"\"}, \"colorscale\": [[0.0, \"#0d0887\"], [0.1111111111111111, \"#46039f\"], [0.2222222222222222, \"#7201a8\"], [0.3333333333333333, \"#9c179e\"], [0.4444444444444444, \"#bd3786\"], [0.5555555555555556, \"#d8576b\"], [0.6666666666666666, \"#ed7953\"], [0.7777777777777778, \"#fb9f3a\"], [0.8888888888888888, \"#fdca26\"], [1.0, \"#f0f921\"]], \"type\": \"contour\"}], \"contourcarpet\": [{\"colorbar\": {\"outlinewidth\": 0, \"ticks\": \"\"}, \"type\": \"contourcarpet\"}], \"heatmap\": [{\"colorbar\": {\"outlinewidth\": 0, \"ticks\": \"\"}, \"colorscale\": [[0.0, \"#0d0887\"], [0.1111111111111111, \"#46039f\"], [0.2222222222222222, \"#7201a8\"], [0.3333333333333333, \"#9c179e\"], [0.4444444444444444, \"#bd3786\"], [0.5555555555555556, \"#d8576b\"], [0.6666666666666666, \"#ed7953\"], [0.7777777777777778, \"#fb9f3a\"], [0.8888888888888888, \"#fdca26\"], [1.0, \"#f0f921\"]], \"type\": \"heatmap\"}], \"heatmapgl\": [{\"colorbar\": {\"outlinewidth\": 0, \"ticks\": \"\"}, \"colorscale\": [[0.0, \"#0d0887\"], [0.1111111111111111, \"#46039f\"], [0.2222222222222222, \"#7201a8\"], [0.3333333333333333, \"#9c179e\"], [0.4444444444444444, \"#bd3786\"], [0.5555555555555556, \"#d8576b\"], [0.6666666666666666, \"#ed7953\"], [0.7777777777777778, \"#fb9f3a\"], [0.8888888888888888, \"#fdca26\"], [1.0, \"#f0f921\"]], \"type\": \"heatmapgl\"}], \"histogram\": [{\"marker\": {\"colorbar\": {\"outlinewidth\": 0, \"ticks\": \"\"}}, \"type\": \"histogram\"}], \"histogram2d\": [{\"colorbar\": {\"outlinewidth\": 0, \"ticks\": \"\"}, \"colorscale\": [[0.0, \"#0d0887\"], [0.1111111111111111, \"#46039f\"], [0.2222222222222222, \"#7201a8\"], [0.3333333333333333, \"#9c179e\"], [0.4444444444444444, \"#bd3786\"], [0.5555555555555556, \"#d8576b\"], [0.6666666666666666, \"#ed7953\"], [0.7777777777777778, \"#fb9f3a\"], [0.8888888888888888, \"#fdca26\"], [1.0, \"#f0f921\"]], \"type\": \"histogram2d\"}], \"histogram2dcontour\": [{\"colorbar\": {\"outlinewidth\": 0, \"ticks\": \"\"}, \"colorscale\": [[0.0, \"#0d0887\"], [0.1111111111111111, \"#46039f\"], [0.2222222222222222, \"#7201a8\"], [0.3333333333333333, \"#9c179e\"], [0.4444444444444444, \"#bd3786\"], [0.5555555555555556, \"#d8576b\"], [0.6666666666666666, \"#ed7953\"], [0.7777777777777778, \"#fb9f3a\"], [0.8888888888888888, \"#fdca26\"], [1.0, \"#f0f921\"]], \"type\": \"histogram2dcontour\"}], \"mesh3d\": [{\"colorbar\": {\"outlinewidth\": 0, \"ticks\": \"\"}, \"type\": \"mesh3d\"}], \"parcoords\": [{\"line\": {\"colorbar\": {\"outlinewidth\": 0, \"ticks\": \"\"}}, \"type\": \"parcoords\"}], \"scatter\": [{\"marker\": {\"colorbar\": {\"outlinewidth\": 0, \"ticks\": \"\"}}, \"type\": \"scatter\"}], \"scatter3d\": [{\"line\": {\"colorbar\": {\"outlinewidth\": 0, \"ticks\": \"\"}}, \"marker\": {\"colorbar\": {\"outlinewidth\": 0, \"ticks\": \"\"}}, \"type\": \"scatter3d\"}], \"scattercarpet\": [{\"marker\": {\"colorbar\": {\"outlinewidth\": 0, \"ticks\": \"\"}}, \"type\": \"scattercarpet\"}], \"scattergeo\": [{\"marker\": {\"colorbar\": {\"outlinewidth\": 0, \"ticks\": \"\"}}, \"type\": \"scattergeo\"}], \"scattergl\": [{\"marker\": {\"colorbar\": {\"outlinewidth\": 0, \"ticks\": \"\"}}, \"type\": \"scattergl\"}], \"scattermapbox\": [{\"marker\": {\"colorbar\": {\"outlinewidth\": 0, \"ticks\": \"\"}}, \"type\": \"scattermapbox\"}], \"scatterpolar\": [{\"marker\": {\"colorbar\": {\"outlinewidth\": 0, \"ticks\": \"\"}}, \"type\": \"scatterpolar\"}], \"scatterpolargl\": [{\"marker\": {\"colorbar\": {\"outlinewidth\": 0, \"ticks\": \"\"}}, \"type\": \"scatterpolargl\"}], \"scatterternary\": [{\"marker\": {\"colorbar\": {\"outlinewidth\": 0, \"ticks\": \"\"}}, \"type\": \"scatterternary\"}], \"surface\": [{\"colorbar\": {\"outlinewidth\": 0, \"ticks\": \"\"}, \"colorscale\": [[0.0, \"#0d0887\"], [0.1111111111111111, \"#46039f\"], [0.2222222222222222, \"#7201a8\"], [0.3333333333333333, \"#9c179e\"], [0.4444444444444444, \"#bd3786\"], [0.5555555555555556, \"#d8576b\"], [0.6666666666666666, \"#ed7953\"], [0.7777777777777778, \"#fb9f3a\"], [0.8888888888888888, \"#fdca26\"], [1.0, \"#f0f921\"]], \"type\": \"surface\"}], \"table\": [{\"cells\": {\"fill\": {\"color\": \"#EBF0F8\"}, \"line\": {\"color\": \"white\"}}, \"header\": {\"fill\": {\"color\": \"#C8D4E3\"}, \"line\": {\"color\": \"white\"}}, \"type\": \"table\"}]}, \"layout\": {\"annotationdefaults\": {\"arrowcolor\": \"#2a3f5f\", \"arrowhead\": 0, \"arrowwidth\": 1}, \"colorscale\": {\"diverging\": [[0, \"#8e0152\"], [0.1, \"#c51b7d\"], [0.2, \"#de77ae\"], [0.3, \"#f1b6da\"], [0.4, \"#fde0ef\"], [0.5, \"#f7f7f7\"], [0.6, \"#e6f5d0\"], [0.7, \"#b8e186\"], [0.8, \"#7fbc41\"], [0.9, \"#4d9221\"], [1, \"#276419\"]], \"sequential\": [[0.0, \"#0d0887\"], [0.1111111111111111, \"#46039f\"], [0.2222222222222222, \"#7201a8\"], [0.3333333333333333, \"#9c179e\"], [0.4444444444444444, \"#bd3786\"], [0.5555555555555556, \"#d8576b\"], [0.6666666666666666, \"#ed7953\"], [0.7777777777777778, \"#fb9f3a\"], [0.8888888888888888, \"#fdca26\"], [1.0, \"#f0f921\"]], \"sequentialminus\": [[0.0, \"#0d0887\"], [0.1111111111111111, \"#46039f\"], [0.2222222222222222, \"#7201a8\"], [0.3333333333333333, \"#9c179e\"], [0.4444444444444444, \"#bd3786\"], [0.5555555555555556, \"#d8576b\"], [0.6666666666666666, \"#ed7953\"], [0.7777777777777778, \"#fb9f3a\"], [0.8888888888888888, \"#fdca26\"], [1.0, \"#f0f921\"]]}, \"colorway\": [\"#636efa\", \"#EF553B\", \"#00cc96\", \"#ab63fa\", \"#FFA15A\", \"#19d3f3\", \"#FF6692\", \"#B6E880\", \"#FF97FF\", \"#FECB52\"], \"font\": {\"color\": \"#2a3f5f\"}, \"geo\": {\"bgcolor\": \"white\", \"lakecolor\": \"white\", \"landcolor\": \"#E5ECF6\", \"showlakes\": true, \"showland\": true, \"subunitcolor\": \"white\"}, \"hoverlabel\": {\"align\": \"left\"}, \"hovermode\": \"closest\", \"mapbox\": {\"style\": \"light\"}, \"paper_bgcolor\": \"white\", \"plot_bgcolor\": \"#E5ECF6\", \"polar\": {\"angularaxis\": {\"gridcolor\": \"white\", \"linecolor\": \"white\", \"ticks\": \"\"}, \"bgcolor\": \"#E5ECF6\", \"radialaxis\": {\"gridcolor\": \"white\", \"linecolor\": \"white\", \"ticks\": \"\"}}, \"scene\": {\"xaxis\": {\"backgroundcolor\": \"#E5ECF6\", \"gridcolor\": \"white\", \"gridwidth\": 2, \"linecolor\": \"white\", \"showbackground\": true, \"ticks\": \"\", \"zerolinecolor\": \"white\"}, \"yaxis\": {\"backgroundcolor\": \"#E5ECF6\", \"gridcolor\": \"white\", \"gridwidth\": 2, \"linecolor\": \"white\", \"showbackground\": true, \"ticks\": \"\", \"zerolinecolor\": \"white\"}, \"zaxis\": {\"backgroundcolor\": \"#E5ECF6\", \"gridcolor\": \"white\", \"gridwidth\": 2, \"linecolor\": \"white\", \"showbackground\": true, \"ticks\": \"\", \"zerolinecolor\": \"white\"}}, \"shapedefaults\": {\"line\": {\"color\": \"#2a3f5f\"}}, \"ternary\": {\"aaxis\": {\"gridcolor\": \"white\", \"linecolor\": \"white\", \"ticks\": \"\"}, \"baxis\": {\"gridcolor\": \"white\", \"linecolor\": \"white\", \"ticks\": \"\"}, \"bgcolor\": \"#E5ECF6\", \"caxis\": {\"gridcolor\": \"white\", \"linecolor\": \"white\", \"ticks\": \"\"}}, \"title\": {\"x\": 0.05}, \"xaxis\": {\"automargin\": true, \"gridcolor\": \"white\", \"linecolor\": \"white\", \"ticks\": \"\", \"zerolinecolor\": \"white\", \"zerolinewidth\": 2}, \"yaxis\": {\"automargin\": true, \"gridcolor\": \"white\", \"linecolor\": \"white\", \"ticks\": \"\", \"zerolinecolor\": \"white\", \"zerolinewidth\": 2}}}, \"xaxis\": {\"anchor\": \"y\", \"domain\": [0.0, 0.98], \"title\": {\"text\": \"month\"}}, \"yaxis\": {\"anchor\": \"x\", \"domain\": [0.0, 1.0], \"title\": {\"text\": \"count\"}}},\n",
       "                        {\"responsive\": true}\n",
       "                    ).then(function(){\n",
       "                            \n",
       "var gd = document.getElementById('1f77dac3-f081-43fc-ab5a-bde197c1b136');\n",
       "var x = new MutationObserver(function (mutations, observer) {{\n",
       "        var display = window.getComputedStyle(gd).display;\n",
       "        if (!display || display === 'none') {{\n",
       "            console.log([gd, 'removed!']);\n",
       "            Plotly.purge(gd);\n",
       "            observer.disconnect();\n",
       "        }}\n",
       "}});\n",
       "\n",
       "// Listen for the removal of the full notebook cells\n",
       "var notebookContainer = gd.closest('#notebook-container');\n",
       "if (notebookContainer) {{\n",
       "    x.observe(notebookContainer, {childList: true});\n",
       "}}\n",
       "\n",
       "// Listen for the clearing of the current output cell\n",
       "var outputEl = gd.closest('.output');\n",
       "if (outputEl) {{\n",
       "    x.observe(outputEl, {childList: true});\n",
       "}}\n",
       "\n",
       "                        })\n",
       "                };\n",
       "                });\n",
       "            </script>\n",
       "        </div>"
      ]
     },
     "metadata": {},
     "output_type": "display_data"
    },
    {
     "data": {
      "text/plain": [
       "10    15\n",
       "6     14\n",
       "11    13\n",
       "9     13\n",
       "8     13\n",
       "7     12\n",
       "1     12\n",
       "3     11\n",
       "2     11\n",
       "12    10\n",
       "5     10\n",
       "4     10\n",
       "Name: month, dtype: int64"
      ]
     },
     "execution_count": 128,
     "metadata": {},
     "output_type": "execute_result"
    }
   ],
   "source": [
    "fig = px.histogram(df, x='month')\n",
    "fig.show()\n",
    "df['month'].value_counts()"
   ]
  },
  {
   "cell_type": "code",
   "execution_count": 130,
   "metadata": {},
   "outputs": [
    {
     "data": {
      "application/vnd.plotly.v1+json": {
       "config": {
        "plotlyServerURL": "https://plot.ly"
       },
       "data": [
        {
         "alignmentgroup": "True",
         "hoverlabel": {
          "namelength": 0
         },
         "hovertemplate": "top_genre=%{x}<br>ROI=%{y}",
         "legendgroup": "",
         "marker": {
          "color": "#636efa"
         },
         "name": "",
         "offsetgroup": "",
         "orientation": "v",
         "showlegend": false,
         "textposition": "auto",
         "type": "bar",
         "x": [
          "Adventure",
          "Action",
          "Action",
          "Action",
          "Action",
          "Drama",
          "Science Fiction",
          "Action",
          "Action",
          "Adventure",
          "Action",
          "Adventure",
          "Family",
          "Animation",
          "Action",
          "Drama",
          "Action",
          "Action",
          "Action",
          "Drama",
          "Horror",
          "Animation",
          "Fantasy",
          "Horror",
          "Drama",
          "Action",
          "Crime",
          "Action",
          "Action",
          "Action",
          "Action",
          "Thriller",
          "Comedy",
          "Crime",
          "Comedy",
          "Mystery",
          "Science Fiction",
          "Comedy",
          "Mystery",
          "Drama",
          "Action",
          "Adventure",
          "Action",
          "Mystery",
          "Adventure",
          "Thriller",
          "History",
          "Family",
          "Adventure",
          "Thriller",
          "Comedy",
          "Adventure",
          "Romance",
          "Animation",
          "Drama",
          "Action",
          "Horror",
          "Comedy",
          "Action",
          "Comedy",
          "Crime",
          "Adventure",
          "Romance",
          "Drama",
          "Drama",
          "Thriller",
          "Adventure",
          "Comedy",
          "Comedy",
          "Fantasy",
          "Drama",
          "Thriller",
          "Family",
          "Comedy",
          "Thriller",
          "Action",
          "Crime",
          "Science Fiction",
          "Horror",
          "Science Fiction",
          "Horror",
          "Mystery",
          "Adventure",
          "Drama",
          "Adventure",
          "Thriller",
          "Action",
          "Action",
          "Comedy",
          "Thriller",
          "Fantasy",
          "Crime",
          "Comedy",
          "Animation",
          "Action",
          "Crime",
          "Fantasy",
          "Horror",
          "History",
          "Thriller",
          "Drama",
          "Action",
          "Comedy",
          "Drama",
          "Action",
          "Comedy",
          "Drama",
          "Romance",
          "Comedy",
          "Horror",
          "Comedy",
          "Drama",
          "Thriller",
          "Action",
          "Mystery",
          "Science Fiction",
          "Horror",
          "Thriller",
          "Comedy",
          "Horror",
          "Drama",
          "Romance",
          "Action",
          "Thriller",
          "Comedy",
          "Drama",
          "Crime",
          "Thriller",
          "Thriller",
          "Drama",
          "Drama",
          "Drama",
          "Drama",
          "Crime",
          "Drama",
          "Action",
          "Drama",
          "Crime",
          "Drama",
          "Crime",
          "Action",
          "Action",
          "Action",
          "Adventure"
         ],
         "xaxis": "x",
         "y": [
          6.82079879,
          6.733695535,
          7.667409323529411,
          6.20945728,
          7.14805745625,
          17.192837365384616,
          7.370809948275862,
          4.443918269662921,
          6.741340118181818,
          3.266779505,
          4.447672421428571,
          3.3308009828571428,
          3.02412088,
          6.781003933333333,
          3.451074259259259,
          12.0524685,
          3.5520495833333334,
          1.571809492,
          4.1716713,
          6.696504727272727,
          16.6159145,
          7.02532866,
          2.6831314615384616,
          20.039835294117648,
          13.9,
          2.106400493333333,
          4.253124442857143,
          2.3388102,
          1.93374198,
          4.594864564516129,
          2.9218170531914893,
          25.3688035,
          7.933152033333333,
          3.42608814,
          2.2296736666666668,
          16.7184112,
          1.8243424318181818,
          6.33027972,
          2.1447564057971014,
          2.75888654,
          10.542789384615384,
          1.2881151844660195,
          3.9980795666666666,
          3.175703054054054,
          1.04236467,
          1.6465219677419354,
          1.4363736142857142,
          1.2522,
          1.3218519866666667,
          27.097566,
          4.460704095238095,
          2.6429603428571427,
          7.60374275,
          1.485180779661017,
          5.474987,
          2.6836540666666666,
          7.9336821,
          7.8720293,
          2.1667623714285713,
          2.682142857142857,
          1.758716380952381,
          0.73260114,
          4.5176391875,
          1.9180361714285714,
          1.1044400166666666,
          66.265218,
          1.0228998003160672,
          2.056680533333333,
          3.5793489411764705,
          0.49602205,
          1.8716985666666666,
          2.67712085,
          1.06862316,
          1.61713325,
          8.179666666666666,
          1.95274892,
          3.2457736666666666,
          1.076772875,
          1.096259052631579,
          1.2100699705882354,
          5.329374155844156,
          0.9633998333333333,
          7.060039818181818,
          1.512305,
          0.7021262156862745,
          1.73820275,
          1.1339009333333334,
          0.839051725,
          1.1433660344827585,
          0.996335125,
          0.7130952380952381,
          1.2679797826086956,
          1.5343483157894737,
          2.8646544,
          0.6876613,
          0.896551724137931,
          7.169090285714286,
          1.96693664,
          4.5051336,
          1.5538117857142857,
          1.7143909166666667,
          1.28406975,
          1.3963462222222223,
          0.5265941764705883,
          0.41614755813953486,
          0.9297368421052632,
          0.72945325,
          4.676378857142857,
          0.30625,
          9.529067333333334,
          6.7698545,
          0.3277100512820513,
          0.8247421333333333,
          2.374273,
          1.1817275,
          0.3341051,
          9.602624,
          0.27,
          26.718028176652194,
          0.31744445,
          1.2453216326530612,
          2.579999755166689,
          0.15428571428571428,
          1.2830685,
          0.26629515789473684,
          0.4527513,
          0.4343227,
          0.12085714285714286,
          3.469151,
          0.9491063333333334,
          0.7216394285714286,
          0.306878375,
          1.0578825,
          1.003352,
          0.14596989795918366,
          0.20242083333333333,
          1.0052255555555556,
          0.0941802,
          0.38942166666666667,
          0.0315845,
          0.5702171972627195,
          0.040736529982024615,
          0.000349,
          0.0011155
         ],
         "yaxis": "y"
        }
       ],
       "layout": {
        "barmode": "relative",
        "height": 600,
        "legend": {
         "tracegroupgap": 0
        },
        "margin": {
         "t": 60
        },
        "template": {
         "data": {
          "bar": [
           {
            "error_x": {
             "color": "#2a3f5f"
            },
            "error_y": {
             "color": "#2a3f5f"
            },
            "marker": {
             "line": {
              "color": "#E5ECF6",
              "width": 0.5
             }
            },
            "type": "bar"
           }
          ],
          "barpolar": [
           {
            "marker": {
             "line": {
              "color": "#E5ECF6",
              "width": 0.5
             }
            },
            "type": "barpolar"
           }
          ],
          "carpet": [
           {
            "aaxis": {
             "endlinecolor": "#2a3f5f",
             "gridcolor": "white",
             "linecolor": "white",
             "minorgridcolor": "white",
             "startlinecolor": "#2a3f5f"
            },
            "baxis": {
             "endlinecolor": "#2a3f5f",
             "gridcolor": "white",
             "linecolor": "white",
             "minorgridcolor": "white",
             "startlinecolor": "#2a3f5f"
            },
            "type": "carpet"
           }
          ],
          "choropleth": [
           {
            "colorbar": {
             "outlinewidth": 0,
             "ticks": ""
            },
            "type": "choropleth"
           }
          ],
          "contour": [
           {
            "colorbar": {
             "outlinewidth": 0,
             "ticks": ""
            },
            "colorscale": [
             [
              0,
              "#0d0887"
             ],
             [
              0.1111111111111111,
              "#46039f"
             ],
             [
              0.2222222222222222,
              "#7201a8"
             ],
             [
              0.3333333333333333,
              "#9c179e"
             ],
             [
              0.4444444444444444,
              "#bd3786"
             ],
             [
              0.5555555555555556,
              "#d8576b"
             ],
             [
              0.6666666666666666,
              "#ed7953"
             ],
             [
              0.7777777777777778,
              "#fb9f3a"
             ],
             [
              0.8888888888888888,
              "#fdca26"
             ],
             [
              1,
              "#f0f921"
             ]
            ],
            "type": "contour"
           }
          ],
          "contourcarpet": [
           {
            "colorbar": {
             "outlinewidth": 0,
             "ticks": ""
            },
            "type": "contourcarpet"
           }
          ],
          "heatmap": [
           {
            "colorbar": {
             "outlinewidth": 0,
             "ticks": ""
            },
            "colorscale": [
             [
              0,
              "#0d0887"
             ],
             [
              0.1111111111111111,
              "#46039f"
             ],
             [
              0.2222222222222222,
              "#7201a8"
             ],
             [
              0.3333333333333333,
              "#9c179e"
             ],
             [
              0.4444444444444444,
              "#bd3786"
             ],
             [
              0.5555555555555556,
              "#d8576b"
             ],
             [
              0.6666666666666666,
              "#ed7953"
             ],
             [
              0.7777777777777778,
              "#fb9f3a"
             ],
             [
              0.8888888888888888,
              "#fdca26"
             ],
             [
              1,
              "#f0f921"
             ]
            ],
            "type": "heatmap"
           }
          ],
          "heatmapgl": [
           {
            "colorbar": {
             "outlinewidth": 0,
             "ticks": ""
            },
            "colorscale": [
             [
              0,
              "#0d0887"
             ],
             [
              0.1111111111111111,
              "#46039f"
             ],
             [
              0.2222222222222222,
              "#7201a8"
             ],
             [
              0.3333333333333333,
              "#9c179e"
             ],
             [
              0.4444444444444444,
              "#bd3786"
             ],
             [
              0.5555555555555556,
              "#d8576b"
             ],
             [
              0.6666666666666666,
              "#ed7953"
             ],
             [
              0.7777777777777778,
              "#fb9f3a"
             ],
             [
              0.8888888888888888,
              "#fdca26"
             ],
             [
              1,
              "#f0f921"
             ]
            ],
            "type": "heatmapgl"
           }
          ],
          "histogram": [
           {
            "marker": {
             "colorbar": {
              "outlinewidth": 0,
              "ticks": ""
             }
            },
            "type": "histogram"
           }
          ],
          "histogram2d": [
           {
            "colorbar": {
             "outlinewidth": 0,
             "ticks": ""
            },
            "colorscale": [
             [
              0,
              "#0d0887"
             ],
             [
              0.1111111111111111,
              "#46039f"
             ],
             [
              0.2222222222222222,
              "#7201a8"
             ],
             [
              0.3333333333333333,
              "#9c179e"
             ],
             [
              0.4444444444444444,
              "#bd3786"
             ],
             [
              0.5555555555555556,
              "#d8576b"
             ],
             [
              0.6666666666666666,
              "#ed7953"
             ],
             [
              0.7777777777777778,
              "#fb9f3a"
             ],
             [
              0.8888888888888888,
              "#fdca26"
             ],
             [
              1,
              "#f0f921"
             ]
            ],
            "type": "histogram2d"
           }
          ],
          "histogram2dcontour": [
           {
            "colorbar": {
             "outlinewidth": 0,
             "ticks": ""
            },
            "colorscale": [
             [
              0,
              "#0d0887"
             ],
             [
              0.1111111111111111,
              "#46039f"
             ],
             [
              0.2222222222222222,
              "#7201a8"
             ],
             [
              0.3333333333333333,
              "#9c179e"
             ],
             [
              0.4444444444444444,
              "#bd3786"
             ],
             [
              0.5555555555555556,
              "#d8576b"
             ],
             [
              0.6666666666666666,
              "#ed7953"
             ],
             [
              0.7777777777777778,
              "#fb9f3a"
             ],
             [
              0.8888888888888888,
              "#fdca26"
             ],
             [
              1,
              "#f0f921"
             ]
            ],
            "type": "histogram2dcontour"
           }
          ],
          "mesh3d": [
           {
            "colorbar": {
             "outlinewidth": 0,
             "ticks": ""
            },
            "type": "mesh3d"
           }
          ],
          "parcoords": [
           {
            "line": {
             "colorbar": {
              "outlinewidth": 0,
              "ticks": ""
             }
            },
            "type": "parcoords"
           }
          ],
          "scatter": [
           {
            "marker": {
             "colorbar": {
              "outlinewidth": 0,
              "ticks": ""
             }
            },
            "type": "scatter"
           }
          ],
          "scatter3d": [
           {
            "line": {
             "colorbar": {
              "outlinewidth": 0,
              "ticks": ""
             }
            },
            "marker": {
             "colorbar": {
              "outlinewidth": 0,
              "ticks": ""
             }
            },
            "type": "scatter3d"
           }
          ],
          "scattercarpet": [
           {
            "marker": {
             "colorbar": {
              "outlinewidth": 0,
              "ticks": ""
             }
            },
            "type": "scattercarpet"
           }
          ],
          "scattergeo": [
           {
            "marker": {
             "colorbar": {
              "outlinewidth": 0,
              "ticks": ""
             }
            },
            "type": "scattergeo"
           }
          ],
          "scattergl": [
           {
            "marker": {
             "colorbar": {
              "outlinewidth": 0,
              "ticks": ""
             }
            },
            "type": "scattergl"
           }
          ],
          "scattermapbox": [
           {
            "marker": {
             "colorbar": {
              "outlinewidth": 0,
              "ticks": ""
             }
            },
            "type": "scattermapbox"
           }
          ],
          "scatterpolar": [
           {
            "marker": {
             "colorbar": {
              "outlinewidth": 0,
              "ticks": ""
             }
            },
            "type": "scatterpolar"
           }
          ],
          "scatterpolargl": [
           {
            "marker": {
             "colorbar": {
              "outlinewidth": 0,
              "ticks": ""
             }
            },
            "type": "scatterpolargl"
           }
          ],
          "scatterternary": [
           {
            "marker": {
             "colorbar": {
              "outlinewidth": 0,
              "ticks": ""
             }
            },
            "type": "scatterternary"
           }
          ],
          "surface": [
           {
            "colorbar": {
             "outlinewidth": 0,
             "ticks": ""
            },
            "colorscale": [
             [
              0,
              "#0d0887"
             ],
             [
              0.1111111111111111,
              "#46039f"
             ],
             [
              0.2222222222222222,
              "#7201a8"
             ],
             [
              0.3333333333333333,
              "#9c179e"
             ],
             [
              0.4444444444444444,
              "#bd3786"
             ],
             [
              0.5555555555555556,
              "#d8576b"
             ],
             [
              0.6666666666666666,
              "#ed7953"
             ],
             [
              0.7777777777777778,
              "#fb9f3a"
             ],
             [
              0.8888888888888888,
              "#fdca26"
             ],
             [
              1,
              "#f0f921"
             ]
            ],
            "type": "surface"
           }
          ],
          "table": [
           {
            "cells": {
             "fill": {
              "color": "#EBF0F8"
             },
             "line": {
              "color": "white"
             }
            },
            "header": {
             "fill": {
              "color": "#C8D4E3"
             },
             "line": {
              "color": "white"
             }
            },
            "type": "table"
           }
          ]
         },
         "layout": {
          "annotationdefaults": {
           "arrowcolor": "#2a3f5f",
           "arrowhead": 0,
           "arrowwidth": 1
          },
          "colorscale": {
           "diverging": [
            [
             0,
             "#8e0152"
            ],
            [
             0.1,
             "#c51b7d"
            ],
            [
             0.2,
             "#de77ae"
            ],
            [
             0.3,
             "#f1b6da"
            ],
            [
             0.4,
             "#fde0ef"
            ],
            [
             0.5,
             "#f7f7f7"
            ],
            [
             0.6,
             "#e6f5d0"
            ],
            [
             0.7,
             "#b8e186"
            ],
            [
             0.8,
             "#7fbc41"
            ],
            [
             0.9,
             "#4d9221"
            ],
            [
             1,
             "#276419"
            ]
           ],
           "sequential": [
            [
             0,
             "#0d0887"
            ],
            [
             0.1111111111111111,
             "#46039f"
            ],
            [
             0.2222222222222222,
             "#7201a8"
            ],
            [
             0.3333333333333333,
             "#9c179e"
            ],
            [
             0.4444444444444444,
             "#bd3786"
            ],
            [
             0.5555555555555556,
             "#d8576b"
            ],
            [
             0.6666666666666666,
             "#ed7953"
            ],
            [
             0.7777777777777778,
             "#fb9f3a"
            ],
            [
             0.8888888888888888,
             "#fdca26"
            ],
            [
             1,
             "#f0f921"
            ]
           ],
           "sequentialminus": [
            [
             0,
             "#0d0887"
            ],
            [
             0.1111111111111111,
             "#46039f"
            ],
            [
             0.2222222222222222,
             "#7201a8"
            ],
            [
             0.3333333333333333,
             "#9c179e"
            ],
            [
             0.4444444444444444,
             "#bd3786"
            ],
            [
             0.5555555555555556,
             "#d8576b"
            ],
            [
             0.6666666666666666,
             "#ed7953"
            ],
            [
             0.7777777777777778,
             "#fb9f3a"
            ],
            [
             0.8888888888888888,
             "#fdca26"
            ],
            [
             1,
             "#f0f921"
            ]
           ]
          },
          "colorway": [
           "#636efa",
           "#EF553B",
           "#00cc96",
           "#ab63fa",
           "#FFA15A",
           "#19d3f3",
           "#FF6692",
           "#B6E880",
           "#FF97FF",
           "#FECB52"
          ],
          "font": {
           "color": "#2a3f5f"
          },
          "geo": {
           "bgcolor": "white",
           "lakecolor": "white",
           "landcolor": "#E5ECF6",
           "showlakes": true,
           "showland": true,
           "subunitcolor": "white"
          },
          "hoverlabel": {
           "align": "left"
          },
          "hovermode": "closest",
          "mapbox": {
           "style": "light"
          },
          "paper_bgcolor": "white",
          "plot_bgcolor": "#E5ECF6",
          "polar": {
           "angularaxis": {
            "gridcolor": "white",
            "linecolor": "white",
            "ticks": ""
           },
           "bgcolor": "#E5ECF6",
           "radialaxis": {
            "gridcolor": "white",
            "linecolor": "white",
            "ticks": ""
           }
          },
          "scene": {
           "xaxis": {
            "backgroundcolor": "#E5ECF6",
            "gridcolor": "white",
            "gridwidth": 2,
            "linecolor": "white",
            "showbackground": true,
            "ticks": "",
            "zerolinecolor": "white"
           },
           "yaxis": {
            "backgroundcolor": "#E5ECF6",
            "gridcolor": "white",
            "gridwidth": 2,
            "linecolor": "white",
            "showbackground": true,
            "ticks": "",
            "zerolinecolor": "white"
           },
           "zaxis": {
            "backgroundcolor": "#E5ECF6",
            "gridcolor": "white",
            "gridwidth": 2,
            "linecolor": "white",
            "showbackground": true,
            "ticks": "",
            "zerolinecolor": "white"
           }
          },
          "shapedefaults": {
           "line": {
            "color": "#2a3f5f"
           }
          },
          "ternary": {
           "aaxis": {
            "gridcolor": "white",
            "linecolor": "white",
            "ticks": ""
           },
           "baxis": {
            "gridcolor": "white",
            "linecolor": "white",
            "ticks": ""
           },
           "bgcolor": "#E5ECF6",
           "caxis": {
            "gridcolor": "white",
            "linecolor": "white",
            "ticks": ""
           }
          },
          "title": {
           "x": 0.05
          },
          "xaxis": {
           "automargin": true,
           "gridcolor": "white",
           "linecolor": "white",
           "ticks": "",
           "zerolinecolor": "white",
           "zerolinewidth": 2
          },
          "yaxis": {
           "automargin": true,
           "gridcolor": "white",
           "linecolor": "white",
           "ticks": "",
           "zerolinecolor": "white",
           "zerolinewidth": 2
          }
         }
        },
        "xaxis": {
         "anchor": "y",
         "domain": [
          0,
          0.98
         ],
         "title": {
          "text": "top_genre"
         }
        },
        "yaxis": {
         "anchor": "x",
         "domain": [
          0,
          1
         ],
         "title": {
          "text": "ROI"
         }
        }
       }
      },
      "text/html": [
       "<div>\n",
       "        \n",
       "        \n",
       "            <div id=\"db62393f-1c31-480c-b59b-1b096d5cdf8d\" class=\"plotly-graph-div\" style=\"height:600px; width:100%;\"></div>\n",
       "            <script type=\"text/javascript\">\n",
       "                require([\"plotly\"], function(Plotly) {\n",
       "                    window.PLOTLYENV=window.PLOTLYENV || {};\n",
       "                    \n",
       "                if (document.getElementById(\"db62393f-1c31-480c-b59b-1b096d5cdf8d\")) {\n",
       "                    Plotly.newPlot(\n",
       "                        'db62393f-1c31-480c-b59b-1b096d5cdf8d',\n",
       "                        [{\"alignmentgroup\": \"True\", \"hoverlabel\": {\"namelength\": 0}, \"hovertemplate\": \"top_genre=%{x}<br>ROI=%{y}\", \"legendgroup\": \"\", \"marker\": {\"color\": \"#636efa\"}, \"name\": \"\", \"offsetgroup\": \"\", \"orientation\": \"v\", \"showlegend\": false, \"textposition\": \"auto\", \"type\": \"bar\", \"x\": [\"Adventure\", \"Action\", \"Action\", \"Action\", \"Action\", \"Drama\", \"Science Fiction\", \"Action\", \"Action\", \"Adventure\", \"Action\", \"Adventure\", \"Family\", \"Animation\", \"Action\", \"Drama\", \"Action\", \"Action\", \"Action\", \"Drama\", \"Horror\", \"Animation\", \"Fantasy\", \"Horror\", \"Drama\", \"Action\", \"Crime\", \"Action\", \"Action\", \"Action\", \"Action\", \"Thriller\", \"Comedy\", \"Crime\", \"Comedy\", \"Mystery\", \"Science Fiction\", \"Comedy\", \"Mystery\", \"Drama\", \"Action\", \"Adventure\", \"Action\", \"Mystery\", \"Adventure\", \"Thriller\", \"History\", \"Family\", \"Adventure\", \"Thriller\", \"Comedy\", \"Adventure\", \"Romance\", \"Animation\", \"Drama\", \"Action\", \"Horror\", \"Comedy\", \"Action\", \"Comedy\", \"Crime\", \"Adventure\", \"Romance\", \"Drama\", \"Drama\", \"Thriller\", \"Adventure\", \"Comedy\", \"Comedy\", \"Fantasy\", \"Drama\", \"Thriller\", \"Family\", \"Comedy\", \"Thriller\", \"Action\", \"Crime\", \"Science Fiction\", \"Horror\", \"Science Fiction\", \"Horror\", \"Mystery\", \"Adventure\", \"Drama\", \"Adventure\", \"Thriller\", \"Action\", \"Action\", \"Comedy\", \"Thriller\", \"Fantasy\", \"Crime\", \"Comedy\", \"Animation\", \"Action\", \"Crime\", \"Fantasy\", \"Horror\", \"History\", \"Thriller\", \"Drama\", \"Action\", \"Comedy\", \"Drama\", \"Action\", \"Comedy\", \"Drama\", \"Romance\", \"Comedy\", \"Horror\", \"Comedy\", \"Drama\", \"Thriller\", \"Action\", \"Mystery\", \"Science Fiction\", \"Horror\", \"Thriller\", \"Comedy\", \"Horror\", \"Drama\", \"Romance\", \"Action\", \"Thriller\", \"Comedy\", \"Drama\", \"Crime\", \"Thriller\", \"Thriller\", \"Drama\", \"Drama\", \"Drama\", \"Drama\", \"Crime\", \"Drama\", \"Action\", \"Drama\", \"Crime\", \"Drama\", \"Crime\", \"Action\", \"Action\", \"Action\", \"Adventure\"], \"xaxis\": \"x\", \"y\": [6.82079879, 6.733695535, 7.667409323529411, 6.20945728, 7.14805745625, 17.192837365384616, 7.370809948275862, 4.443918269662921, 6.741340118181818, 3.266779505, 4.447672421428571, 3.3308009828571428, 3.02412088, 6.781003933333333, 3.451074259259259, 12.0524685, 3.5520495833333334, 1.571809492, 4.1716713, 6.696504727272727, 16.6159145, 7.02532866, 2.6831314615384616, 20.039835294117648, 13.9, 2.106400493333333, 4.253124442857143, 2.3388102, 1.93374198, 4.594864564516129, 2.9218170531914893, 25.3688035, 7.933152033333333, 3.42608814, 2.2296736666666668, 16.7184112, 1.8243424318181818, 6.33027972, 2.1447564057971014, 2.75888654, 10.542789384615384, 1.2881151844660195, 3.9980795666666666, 3.175703054054054, 1.04236467, 1.6465219677419354, 1.4363736142857142, 1.2522, 1.3218519866666667, 27.097566, 4.460704095238095, 2.6429603428571427, 7.60374275, 1.485180779661017, 5.474987, 2.6836540666666666, 7.9336821, 7.8720293, 2.1667623714285713, 2.682142857142857, 1.758716380952381, 0.73260114, 4.5176391875, 1.9180361714285714, 1.1044400166666666, 66.265218, 1.0228998003160672, 2.056680533333333, 3.5793489411764705, 0.49602205, 1.8716985666666666, 2.67712085, 1.06862316, 1.61713325, 8.179666666666666, 1.95274892, 3.2457736666666666, 1.076772875, 1.096259052631579, 1.2100699705882354, 5.329374155844156, 0.9633998333333333, 7.060039818181818, 1.512305, 0.7021262156862745, 1.73820275, 1.1339009333333334, 0.839051725, 1.1433660344827585, 0.996335125, 0.7130952380952381, 1.2679797826086956, 1.5343483157894737, 2.8646544, 0.6876613, 0.896551724137931, 7.169090285714286, 1.96693664, 4.5051336, 1.5538117857142857, 1.7143909166666667, 1.28406975, 1.3963462222222223, 0.5265941764705883, 0.41614755813953486, 0.9297368421052632, 0.72945325, 4.676378857142857, 0.30625, 9.529067333333334, 6.7698545, 0.3277100512820513, 0.8247421333333333, 2.374273, 1.1817275, 0.3341051, 9.602624, 0.27, 26.718028176652194, 0.31744445, 1.2453216326530612, 2.579999755166689, 0.15428571428571428, 1.2830685, 0.26629515789473684, 0.4527513, 0.4343227, 0.12085714285714286, 3.469151, 0.9491063333333334, 0.7216394285714286, 0.306878375, 1.0578825, 1.003352, 0.14596989795918366, 0.20242083333333333, 1.0052255555555556, 0.0941802, 0.38942166666666667, 0.0315845, 0.5702171972627195, 0.040736529982024615, 0.000349, 0.0011155], \"yaxis\": \"y\"}],\n",
       "                        {\"barmode\": \"relative\", \"height\": 600, \"legend\": {\"tracegroupgap\": 0}, \"margin\": {\"t\": 60}, \"template\": {\"data\": {\"bar\": [{\"error_x\": {\"color\": \"#2a3f5f\"}, \"error_y\": {\"color\": \"#2a3f5f\"}, \"marker\": {\"line\": {\"color\": \"#E5ECF6\", \"width\": 0.5}}, \"type\": \"bar\"}], \"barpolar\": [{\"marker\": {\"line\": {\"color\": \"#E5ECF6\", \"width\": 0.5}}, \"type\": \"barpolar\"}], \"carpet\": [{\"aaxis\": {\"endlinecolor\": \"#2a3f5f\", \"gridcolor\": \"white\", \"linecolor\": \"white\", \"minorgridcolor\": \"white\", \"startlinecolor\": \"#2a3f5f\"}, \"baxis\": {\"endlinecolor\": \"#2a3f5f\", \"gridcolor\": \"white\", \"linecolor\": \"white\", \"minorgridcolor\": \"white\", \"startlinecolor\": \"#2a3f5f\"}, \"type\": \"carpet\"}], \"choropleth\": [{\"colorbar\": {\"outlinewidth\": 0, \"ticks\": \"\"}, \"type\": \"choropleth\"}], \"contour\": [{\"colorbar\": {\"outlinewidth\": 0, \"ticks\": \"\"}, \"colorscale\": [[0.0, \"#0d0887\"], [0.1111111111111111, \"#46039f\"], [0.2222222222222222, \"#7201a8\"], [0.3333333333333333, \"#9c179e\"], [0.4444444444444444, \"#bd3786\"], [0.5555555555555556, \"#d8576b\"], [0.6666666666666666, \"#ed7953\"], [0.7777777777777778, \"#fb9f3a\"], [0.8888888888888888, \"#fdca26\"], [1.0, \"#f0f921\"]], \"type\": \"contour\"}], \"contourcarpet\": [{\"colorbar\": {\"outlinewidth\": 0, \"ticks\": \"\"}, \"type\": \"contourcarpet\"}], \"heatmap\": [{\"colorbar\": {\"outlinewidth\": 0, \"ticks\": \"\"}, \"colorscale\": [[0.0, \"#0d0887\"], [0.1111111111111111, \"#46039f\"], [0.2222222222222222, \"#7201a8\"], [0.3333333333333333, \"#9c179e\"], [0.4444444444444444, \"#bd3786\"], [0.5555555555555556, \"#d8576b\"], [0.6666666666666666, \"#ed7953\"], [0.7777777777777778, \"#fb9f3a\"], [0.8888888888888888, \"#fdca26\"], [1.0, \"#f0f921\"]], \"type\": \"heatmap\"}], \"heatmapgl\": [{\"colorbar\": {\"outlinewidth\": 0, \"ticks\": \"\"}, \"colorscale\": [[0.0, \"#0d0887\"], [0.1111111111111111, \"#46039f\"], [0.2222222222222222, \"#7201a8\"], [0.3333333333333333, \"#9c179e\"], [0.4444444444444444, \"#bd3786\"], [0.5555555555555556, \"#d8576b\"], [0.6666666666666666, \"#ed7953\"], [0.7777777777777778, \"#fb9f3a\"], [0.8888888888888888, \"#fdca26\"], [1.0, \"#f0f921\"]], \"type\": \"heatmapgl\"}], \"histogram\": [{\"marker\": {\"colorbar\": {\"outlinewidth\": 0, \"ticks\": \"\"}}, \"type\": \"histogram\"}], \"histogram2d\": [{\"colorbar\": {\"outlinewidth\": 0, \"ticks\": \"\"}, \"colorscale\": [[0.0, \"#0d0887\"], [0.1111111111111111, \"#46039f\"], [0.2222222222222222, \"#7201a8\"], [0.3333333333333333, \"#9c179e\"], [0.4444444444444444, \"#bd3786\"], [0.5555555555555556, \"#d8576b\"], [0.6666666666666666, \"#ed7953\"], [0.7777777777777778, \"#fb9f3a\"], [0.8888888888888888, \"#fdca26\"], [1.0, \"#f0f921\"]], \"type\": \"histogram2d\"}], \"histogram2dcontour\": [{\"colorbar\": {\"outlinewidth\": 0, \"ticks\": \"\"}, \"colorscale\": [[0.0, \"#0d0887\"], [0.1111111111111111, \"#46039f\"], [0.2222222222222222, \"#7201a8\"], [0.3333333333333333, \"#9c179e\"], [0.4444444444444444, \"#bd3786\"], [0.5555555555555556, \"#d8576b\"], [0.6666666666666666, \"#ed7953\"], [0.7777777777777778, \"#fb9f3a\"], [0.8888888888888888, \"#fdca26\"], [1.0, \"#f0f921\"]], \"type\": \"histogram2dcontour\"}], \"mesh3d\": [{\"colorbar\": {\"outlinewidth\": 0, \"ticks\": \"\"}, \"type\": \"mesh3d\"}], \"parcoords\": [{\"line\": {\"colorbar\": {\"outlinewidth\": 0, \"ticks\": \"\"}}, \"type\": \"parcoords\"}], \"scatter\": [{\"marker\": {\"colorbar\": {\"outlinewidth\": 0, \"ticks\": \"\"}}, \"type\": \"scatter\"}], \"scatter3d\": [{\"line\": {\"colorbar\": {\"outlinewidth\": 0, \"ticks\": \"\"}}, \"marker\": {\"colorbar\": {\"outlinewidth\": 0, \"ticks\": \"\"}}, \"type\": \"scatter3d\"}], \"scattercarpet\": [{\"marker\": {\"colorbar\": {\"outlinewidth\": 0, \"ticks\": \"\"}}, \"type\": \"scattercarpet\"}], \"scattergeo\": [{\"marker\": {\"colorbar\": {\"outlinewidth\": 0, \"ticks\": \"\"}}, \"type\": \"scattergeo\"}], \"scattergl\": [{\"marker\": {\"colorbar\": {\"outlinewidth\": 0, \"ticks\": \"\"}}, \"type\": \"scattergl\"}], \"scattermapbox\": [{\"marker\": {\"colorbar\": {\"outlinewidth\": 0, \"ticks\": \"\"}}, \"type\": \"scattermapbox\"}], \"scatterpolar\": [{\"marker\": {\"colorbar\": {\"outlinewidth\": 0, \"ticks\": \"\"}}, \"type\": \"scatterpolar\"}], \"scatterpolargl\": [{\"marker\": {\"colorbar\": {\"outlinewidth\": 0, \"ticks\": \"\"}}, \"type\": \"scatterpolargl\"}], \"scatterternary\": [{\"marker\": {\"colorbar\": {\"outlinewidth\": 0, \"ticks\": \"\"}}, \"type\": \"scatterternary\"}], \"surface\": [{\"colorbar\": {\"outlinewidth\": 0, \"ticks\": \"\"}, \"colorscale\": [[0.0, \"#0d0887\"], [0.1111111111111111, \"#46039f\"], [0.2222222222222222, \"#7201a8\"], [0.3333333333333333, \"#9c179e\"], [0.4444444444444444, \"#bd3786\"], [0.5555555555555556, \"#d8576b\"], [0.6666666666666666, \"#ed7953\"], [0.7777777777777778, \"#fb9f3a\"], [0.8888888888888888, \"#fdca26\"], [1.0, \"#f0f921\"]], \"type\": \"surface\"}], \"table\": [{\"cells\": {\"fill\": {\"color\": \"#EBF0F8\"}, \"line\": {\"color\": \"white\"}}, \"header\": {\"fill\": {\"color\": \"#C8D4E3\"}, \"line\": {\"color\": \"white\"}}, \"type\": \"table\"}]}, \"layout\": {\"annotationdefaults\": {\"arrowcolor\": \"#2a3f5f\", \"arrowhead\": 0, \"arrowwidth\": 1}, \"colorscale\": {\"diverging\": [[0, \"#8e0152\"], [0.1, \"#c51b7d\"], [0.2, \"#de77ae\"], [0.3, \"#f1b6da\"], [0.4, \"#fde0ef\"], [0.5, \"#f7f7f7\"], [0.6, \"#e6f5d0\"], [0.7, \"#b8e186\"], [0.8, \"#7fbc41\"], [0.9, \"#4d9221\"], [1, \"#276419\"]], \"sequential\": [[0.0, \"#0d0887\"], [0.1111111111111111, \"#46039f\"], [0.2222222222222222, \"#7201a8\"], [0.3333333333333333, \"#9c179e\"], [0.4444444444444444, \"#bd3786\"], [0.5555555555555556, \"#d8576b\"], [0.6666666666666666, \"#ed7953\"], [0.7777777777777778, \"#fb9f3a\"], [0.8888888888888888, \"#fdca26\"], [1.0, \"#f0f921\"]], \"sequentialminus\": [[0.0, \"#0d0887\"], [0.1111111111111111, \"#46039f\"], [0.2222222222222222, \"#7201a8\"], [0.3333333333333333, \"#9c179e\"], [0.4444444444444444, \"#bd3786\"], [0.5555555555555556, \"#d8576b\"], [0.6666666666666666, \"#ed7953\"], [0.7777777777777778, \"#fb9f3a\"], [0.8888888888888888, \"#fdca26\"], [1.0, \"#f0f921\"]]}, \"colorway\": [\"#636efa\", \"#EF553B\", \"#00cc96\", \"#ab63fa\", \"#FFA15A\", \"#19d3f3\", \"#FF6692\", \"#B6E880\", \"#FF97FF\", \"#FECB52\"], \"font\": {\"color\": \"#2a3f5f\"}, \"geo\": {\"bgcolor\": \"white\", \"lakecolor\": \"white\", \"landcolor\": \"#E5ECF6\", \"showlakes\": true, \"showland\": true, \"subunitcolor\": \"white\"}, \"hoverlabel\": {\"align\": \"left\"}, \"hovermode\": \"closest\", \"mapbox\": {\"style\": \"light\"}, \"paper_bgcolor\": \"white\", \"plot_bgcolor\": \"#E5ECF6\", \"polar\": {\"angularaxis\": {\"gridcolor\": \"white\", \"linecolor\": \"white\", \"ticks\": \"\"}, \"bgcolor\": \"#E5ECF6\", \"radialaxis\": {\"gridcolor\": \"white\", \"linecolor\": \"white\", \"ticks\": \"\"}}, \"scene\": {\"xaxis\": {\"backgroundcolor\": \"#E5ECF6\", \"gridcolor\": \"white\", \"gridwidth\": 2, \"linecolor\": \"white\", \"showbackground\": true, \"ticks\": \"\", \"zerolinecolor\": \"white\"}, \"yaxis\": {\"backgroundcolor\": \"#E5ECF6\", \"gridcolor\": \"white\", \"gridwidth\": 2, \"linecolor\": \"white\", \"showbackground\": true, \"ticks\": \"\", \"zerolinecolor\": \"white\"}, \"zaxis\": {\"backgroundcolor\": \"#E5ECF6\", \"gridcolor\": \"white\", \"gridwidth\": 2, \"linecolor\": \"white\", \"showbackground\": true, \"ticks\": \"\", \"zerolinecolor\": \"white\"}}, \"shapedefaults\": {\"line\": {\"color\": \"#2a3f5f\"}}, \"ternary\": {\"aaxis\": {\"gridcolor\": \"white\", \"linecolor\": \"white\", \"ticks\": \"\"}, \"baxis\": {\"gridcolor\": \"white\", \"linecolor\": \"white\", \"ticks\": \"\"}, \"bgcolor\": \"#E5ECF6\", \"caxis\": {\"gridcolor\": \"white\", \"linecolor\": \"white\", \"ticks\": \"\"}}, \"title\": {\"x\": 0.05}, \"xaxis\": {\"automargin\": true, \"gridcolor\": \"white\", \"linecolor\": \"white\", \"ticks\": \"\", \"zerolinecolor\": \"white\", \"zerolinewidth\": 2}, \"yaxis\": {\"automargin\": true, \"gridcolor\": \"white\", \"linecolor\": \"white\", \"ticks\": \"\", \"zerolinecolor\": \"white\", \"zerolinewidth\": 2}}}, \"xaxis\": {\"anchor\": \"y\", \"domain\": [0.0, 0.98], \"title\": {\"text\": \"top_genre\"}}, \"yaxis\": {\"anchor\": \"x\", \"domain\": [0.0, 1.0], \"title\": {\"text\": \"ROI\"}}},\n",
       "                        {\"responsive\": true}\n",
       "                    ).then(function(){\n",
       "                            \n",
       "var gd = document.getElementById('db62393f-1c31-480c-b59b-1b096d5cdf8d');\n",
       "var x = new MutationObserver(function (mutations, observer) {{\n",
       "        var display = window.getComputedStyle(gd).display;\n",
       "        if (!display || display === 'none') {{\n",
       "            console.log([gd, 'removed!']);\n",
       "            Plotly.purge(gd);\n",
       "            observer.disconnect();\n",
       "        }}\n",
       "}});\n",
       "\n",
       "// Listen for the removal of the full notebook cells\n",
       "var notebookContainer = gd.closest('#notebook-container');\n",
       "if (notebookContainer) {{\n",
       "    x.observe(notebookContainer, {childList: true});\n",
       "}}\n",
       "\n",
       "// Listen for the clearing of the current output cell\n",
       "var outputEl = gd.closest('.output');\n",
       "if (outputEl) {{\n",
       "    x.observe(outputEl, {childList: true});\n",
       "}}\n",
       "\n",
       "                        })\n",
       "                };\n",
       "                });\n",
       "            </script>\n",
       "        </div>"
      ]
     },
     "metadata": {},
     "output_type": "display_data"
    }
   ],
   "source": [
    "fig = px.bar(df, x='top_genre', y='ROI')\n",
    "fig.show()"
   ]
  },
  {
   "cell_type": "code",
   "execution_count": null,
   "metadata": {},
   "outputs": [],
   "source": []
  }
 ],
 "metadata": {
  "kernelspec": {
   "display_name": "Python [conda env:learn-env] *",
   "language": "python",
   "name": "conda-env-learn-env-py"
  },
  "language_info": {
   "codemirror_mode": {
    "name": "ipython",
    "version": 3
   },
   "file_extension": ".py",
   "mimetype": "text/x-python",
   "name": "python",
   "nbconvert_exporter": "python",
   "pygments_lexer": "ipython3",
   "version": "3.6.9"
  }
 },
 "nbformat": 4,
 "nbformat_minor": 2
}
